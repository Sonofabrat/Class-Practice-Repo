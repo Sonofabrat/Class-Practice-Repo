{
 "cells": [
  {
   "cell_type": "markdown",
   "metadata": {},
   "source": [
    "## To Do #3"
   ]
  },
  {
   "cell_type": "code",
   "execution_count": null,
   "metadata": {},
   "outputs": [],
   "source": [
    "import pandas as pd\n",
    "import numpy as np\n",
    "pd.__version__"
   ]
  },
  {
   "cell_type": "code",
   "execution_count": null,
   "metadata": {},
   "outputs": [],
   "source": [
    "pets = pd.Series(['dog','cat','fish','hamster'], index = ['a','b','c','d'])\n",
    "pets"
   ]
  },
  {
   "cell_type": "code",
   "execution_count": null,
   "metadata": {},
   "outputs": [],
   "source": [
    "pets.values"
   ]
  },
  {
   "cell_type": "code",
   "execution_count": null,
   "metadata": {},
   "outputs": [],
   "source": [
    "pets.index"
   ]
  },
  {
   "cell_type": "code",
   "execution_count": null,
   "metadata": {},
   "outputs": [],
   "source": [
    "pets['a':'c']"
   ]
  },
  {
   "cell_type": "code",
   "execution_count": null,
   "metadata": {},
   "outputs": [],
   "source": [
    "filepath = 'Top_1000_Songs_To_Hear_Before_You_Die_AndrewRyan.csv'\n",
    "file = pd.read_csv(filepath)\n",
    "file.info()"
   ]
  },
  {
   "cell_type": "code",
   "execution_count": null,
   "metadata": {},
   "outputs": [],
   "source": [
    "file.iloc[100:110:]"
   ]
  },
  {
   "cell_type": "code",
   "execution_count": null,
   "metadata": {
    "scrolled": true
   },
   "outputs": [],
   "source": [
    "foodict = {'a':1,'b':2,'c':3,'d':4}\n",
    "foo = pd.Series(foodict)\n",
    "color = [\"red\",'green','blue','yellow']\n",
    "df = pd.DataFrame({'Number': foo,'Color': color})\n",
    "df"
   ]
  },
  {
   "cell_type": "code",
   "execution_count": null,
   "metadata": {
    "collapsed": true
   },
   "outputs": [],
   "source": [
    "songs = pd.DataFrame(file)"
   ]
  },
  {
   "cell_type": "markdown",
   "metadata": {},
   "source": [
    "DataFrame: 2d\n",
    "\n",
    "Series : 1d"
   ]
  },
  {
   "cell_type": "code",
   "execution_count": null,
   "metadata": {},
   "outputs": [],
   "source": [
    "songs.loc[1:3]"
   ]
  },
  {
   "cell_type": "code",
   "execution_count": null,
   "metadata": {},
   "outputs": [],
   "source": [
    "songs.iloc[1:3]"
   ]
  },
  {
   "cell_type": "code",
   "execution_count": null,
   "metadata": {},
   "outputs": [],
   "source": [
    "test1 = pd.Series({'Mario': 85, 'Jen': 74,\n",
    "                  'Alberto': 100, 'Katie': 94,\n",
    "                  'Ben': 64})\n",
    "test2 = pd.Series({'Mario': 97, 'Jen': 43,\n",
    "                  'Alberto': 87, 'Katie': 78,\n",
    "                  'Ben': 70})\n",
    "scores = pd.DataFrame({'Test 1':test1, 'Test 2':test2})\n",
    "scores"
   ]
  },
  {
   "cell_type": "markdown",
   "metadata": {},
   "source": [
    "Adding an average column"
   ]
  },
  {
   "cell_type": "code",
   "execution_count": null,
   "metadata": {},
   "outputs": [],
   "source": [
    "scores['Average'] = (scores['Test 1'] + scores['Test 2']) / 2.0\n",
    "scores"
   ]
  },
  {
   "cell_type": "code",
   "execution_count": null,
   "metadata": {},
   "outputs": [],
   "source": [
    "scores.values"
   ]
  },
  {
   "cell_type": "markdown",
   "metadata": {},
   "source": [
    "Swapping rows and columns"
   ]
  },
  {
   "cell_type": "code",
   "execution_count": null,
   "metadata": {},
   "outputs": [],
   "source": [
    "scores.T"
   ]
  },
  {
   "cell_type": "code",
   "execution_count": null,
   "metadata": {},
   "outputs": [],
   "source": [
    "scores[scores.Average > 90]"
   ]
  },
  {
   "cell_type": "code",
   "execution_count": null,
   "metadata": {},
   "outputs": [],
   "source": [
    "rng = np.random.RandomState(42)\n",
    "bingo = pd.DataFrame(rng.randint(0, 100, (5, 5)),\n",
    "                  columns=['B', 'I', 'N', 'G', 'O'])\n",
    "bingo"
   ]
  },
  {
   "cell_type": "code",
   "execution_count": null,
   "metadata": {},
   "outputs": [],
   "source": [
    "A = pd.DataFrame(rng.randint(0, 20, (2, 2)),\n",
    "                 columns=list('AB'))\n",
    "A"
   ]
  },
  {
   "cell_type": "code",
   "execution_count": null,
   "metadata": {},
   "outputs": [],
   "source": [
    "B = pd.DataFrame(rng.randint(0, 10, (3, 3)),\n",
    "                 columns=list('BAC'))\n",
    "B"
   ]
  },
  {
   "cell_type": "code",
   "execution_count": null,
   "metadata": {},
   "outputs": [],
   "source": [
    "A + B"
   ]
  },
  {
   "cell_type": "code",
   "execution_count": null,
   "metadata": {},
   "outputs": [],
   "source": [
    "1+np.nan"
   ]
  },
  {
   "cell_type": "code",
   "execution_count": null,
   "metadata": {},
   "outputs": [],
   "source": [
    "foo = pd.Series([7, np.nan, 'cat', None])\n",
    "foo[foo.notnull()]"
   ]
  },
  {
   "cell_type": "code",
   "execution_count": null,
   "metadata": {},
   "outputs": [],
   "source": [
    "foo.dropna()"
   ]
  },
  {
   "cell_type": "code",
   "execution_count": null,
   "metadata": {},
   "outputs": [],
   "source": [
    "data = pd.Series([1, np.nan, 2, None, 3])\n",
    "data.fillna(0)"
   ]
  },
  {
   "cell_type": "markdown",
   "metadata": {},
   "source": [
    "## To Do #4"
   ]
  },
  {
   "cell_type": "code",
   "execution_count": null,
   "metadata": {},
   "outputs": [],
   "source": [
    "filepath = \"zipcodes_chris.csv\"\n",
    "zips = pd.read_csv(filepath)\n",
    "zips.head()"
   ]
  },
  {
   "cell_type": "code",
   "execution_count": null,
   "metadata": {},
   "outputs": [],
   "source": [
    "zips.tail()"
   ]
  },
  {
   "cell_type": "code",
   "execution_count": null,
   "metadata": {
    "scrolled": false
   },
   "outputs": [],
   "source": [
    "count = 0\n",
    "for city in zips[\"City\"]:\n",
    "    if city == \"Pittsburgh\":\n",
    "        count += 1\n",
    "print(count, \"Pittsburgh zip codes\")"
   ]
  },
  {
   "cell_type": "code",
   "execution_count": null,
   "metadata": {},
   "outputs": [],
   "source": [
    "print(\"Every Pittsburgh ZIP code\")\n",
    "pg = zips.loc[zips.City == 'Pittsburgh']\n",
    "for code in pg[\"ZIP\"]:\n",
    "    print(code)"
   ]
  },
  {
   "cell_type": "code",
   "execution_count": null,
   "metadata": {},
   "outputs": [],
   "source": [
    "user = input(\"Enter ZIP code to find city: \")\n",
    "loc = zips.loc[zips.ZIP == int(user)]\n",
    "if loc.empty:\n",
    "    print(\"Not a valid ZIP code\")\n",
    "else:\n",
    "    for item in loc[\"City\"]:\n",
    "        print(item)"
   ]
  },
  {
   "cell_type": "markdown",
   "metadata": {},
   "source": [
    "## To Do #5"
   ]
  },
  {
   "cell_type": "code",
   "execution_count": null,
   "metadata": {},
   "outputs": [],
   "source": [
    "filepath = 'Most_Popular_Baby_Names_by_Sex_and_Mother_s_Ethnic_Group__New_York_City.csv'\n",
    "names = pd.read_csv(filepath)\n",
    "names.info()"
   ]
  },
  {
   "cell_type": "code",
   "execution_count": null,
   "metadata": {},
   "outputs": [],
   "source": [
    "#.value_counts() returns unique items and their count for given column\n",
    "names[\"Child's First Name\"].value_counts()\n",
    "#397 unique names in list"
   ]
  },
  {
   "cell_type": "code",
   "execution_count": null,
   "metadata": {},
   "outputs": [],
   "source": [
    "test_scores_dict= {\"Test 1\":[78, 84, 97, 65, 100, 90],\n",
    "                   \"Test 2\":[80, 80, 92, 75, 98, 86],\n",
    "                   \"Test 3\":[52, 93, 90, 87, 88, 100]}\n",
    "test_scores = pd.DataFrame(test_scores_dict)\n",
    "test_scores.index = [\"Gary\",\"Mary\",\"Larry\",\"Harry\", \"Jerry\", \"Terry\"]\n",
    "test_scores"
   ]
  },
  {
   "cell_type": "code",
   "execution_count": null,
   "metadata": {},
   "outputs": [],
   "source": [
    "#Adding in a new column\n",
    "test_scores[\"Average\"] = (test_scores[\"Test 1\"]+test_scores[\"Test 3\"]+test_scores[\"Test 3\"])/3\n",
    "test_scores"
   ]
  },
  {
   "cell_type": "code",
   "execution_count": null,
   "metadata": {},
   "outputs": [],
   "source": [
    "#Loc allows you to specify which rows and columns are returned\n",
    "test_scores.loc[[\"Gary\", \"Larry\", \"Terry\"],[\"Average\"]]"
   ]
  },
  {
   "cell_type": "code",
   "execution_count": null,
   "metadata": {},
   "outputs": [],
   "source": [
    "test_scores.describe()\n",
    "#can also use .mean(), .max(), .min()"
   ]
  },
  {
   "cell_type": "code",
   "execution_count": null,
   "metadata": {},
   "outputs": [],
   "source": [
    "#Plotting avg score of the students\n",
    "import matplotlib.pyplot as plt\n",
    "\n",
    "compare = {'Avg Score':test_scores[\"Average\"], \n",
    "           'Student':test_scores.index}\n",
    "compare_df = pd.DataFrame(compare) \n",
    "\n",
    "compare_df.plot(x='Student', y='Avg Score', kind='bar')\n",
    "plt.show()"
   ]
  },
  {
   "cell_type": "code",
   "execution_count": null,
   "metadata": {},
   "outputs": [],
   "source": [
    "emails_day = {'Day of Week':['Mon','Tues', 'Wed', 'Thur', 'Fri', 'Sat', 'Sun'], \n",
    "              'Emails':[22,12,14,17,8,7,13]}\n",
    "emails_day_df = pd.DataFrame(emails_day)\n",
    "emails_day_df.plot(color = 'purple', x = 'Day of Week')\n",
    "plt.xlabel('Day of Week')\n",
    "plt.ylabel('Number of Emails')\n",
    "plt.title('Average Number of Emails by Day')\n",
    "plt.show()"
   ]
  }
 ],
 "metadata": {
  "kernelspec": {
   "display_name": "Python 3",
   "language": "python",
   "name": "python3"
  },
  "language_info": {
   "codemirror_mode": {
    "name": "ipython",
    "version": 3
   },
   "file_extension": ".py",
   "mimetype": "text/x-python",
   "name": "python",
   "nbconvert_exporter": "python",
   "pygments_lexer": "ipython3",
   "version": "3.6.1"
  }
 },
 "nbformat": 4,
 "nbformat_minor": 2
}
