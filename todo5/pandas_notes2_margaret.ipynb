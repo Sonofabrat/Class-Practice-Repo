{
 "cells": [
  {
   "cell_type": "markdown",
   "metadata": {},
   "source": [
    "# To Do 5  \n",
    "Margaret Jones (mmj32)  \n",
    "pandas notes pt 2  \n",
    "Due: 19 September 2017"
   ]
  },
  {
   "cell_type": "markdown",
   "metadata": {},
   "source": [
    "# The Basics"
   ]
  },
  {
   "cell_type": "code",
   "execution_count": 5,
   "metadata": {},
   "outputs": [
    {
     "data": {
      "text/plain": [
       "'0.20.1'"
      ]
     },
     "execution_count": 5,
     "metadata": {},
     "output_type": "execute_result"
    }
   ],
   "source": [
    "#IMPORT\n",
    "import pandas as pd\n",
    "import numpy as np\n",
    "\n",
    "#this checks version\n",
    "pd.__version__"
   ]
  },
  {
   "cell_type": "code",
   "execution_count": 6,
   "metadata": {},
   "outputs": [
    {
     "data": {
      "text/plain": [
       "a          beef\n",
       "b          pork\n",
       "c          fish\n",
       "d       chicken\n",
       "e    vegetarian\n",
       "dtype: object"
      ]
     },
     "execution_count": 6,
     "metadata": {},
     "output_type": "execute_result"
    }
   ],
   "source": [
    "#this makes a series (data type: object)\n",
    "options = pd.Series(['beef','pork','fish','chicken','vegetarian'], index = ['a','b','c','d','e'])\n",
    "\n",
    "#get all of the values\n",
    "options.values\n",
    "\n",
    "#get all the indexes\n",
    "options.index\n",
    "\n",
    "#splicing also works - you can even use the indexes\n",
    "options['b':'d']   #just remember: [inclusionary:exclusionary]\n",
    "\n",
    "#let's just see what options is\n",
    "options"
   ]
  },
  {
   "cell_type": "markdown",
   "metadata": {},
   "source": [
    "# Creating a DataFrame"
   ]
  },
  {
   "cell_type": "code",
   "execution_count": 13,
   "metadata": {},
   "outputs": [
    {
     "data": {
      "text/html": [
       "<div>\n",
       "<style>\n",
       "    .dataframe thead tr:only-child th {\n",
       "        text-align: right;\n",
       "    }\n",
       "\n",
       "    .dataframe thead th {\n",
       "        text-align: left;\n",
       "    }\n",
       "\n",
       "    .dataframe tbody tr th {\n",
       "        vertical-align: top;\n",
       "    }\n",
       "</style>\n",
       "<table border=\"1\" class=\"dataframe\">\n",
       "  <thead>\n",
       "    <tr style=\"text-align: right;\">\n",
       "      <th></th>\n",
       "      <th>Food</th>\n",
       "      <th>Number</th>\n",
       "    </tr>\n",
       "  </thead>\n",
       "  <tbody>\n",
       "    <tr>\n",
       "      <th>a</th>\n",
       "      <td>banana</td>\n",
       "      <td>1</td>\n",
       "    </tr>\n",
       "    <tr>\n",
       "      <th>b</th>\n",
       "      <td>onion</td>\n",
       "      <td>2</td>\n",
       "    </tr>\n",
       "    <tr>\n",
       "      <th>c</th>\n",
       "      <td>peanut butter</td>\n",
       "      <td>3</td>\n",
       "    </tr>\n",
       "    <tr>\n",
       "      <th>d</th>\n",
       "      <td>salmon</td>\n",
       "      <td>4</td>\n",
       "    </tr>\n",
       "    <tr>\n",
       "      <th>e</th>\n",
       "      <td>bread</td>\n",
       "      <td>5</td>\n",
       "    </tr>\n",
       "  </tbody>\n",
       "</table>\n",
       "</div>"
      ],
      "text/plain": [
       "            Food  Number\n",
       "a         banana       1\n",
       "b          onion       2\n",
       "c  peanut butter       3\n",
       "d         salmon       4\n",
       "e          bread       5"
      ]
     },
     "execution_count": 13,
     "metadata": {},
     "output_type": "execute_result"
    }
   ],
   "source": [
    "slist = {'a':1,'b':2,'c':3,'d':4,'e':5}\n",
    "comida = pd.Series(slist)\n",
    "foods = ['banana','onion','peanut butter','salmon','bread']\n",
    "df = pd.DataFrame({'Number': comida,'Food': foods})\n",
    "df"
   ]
  },
  {
   "cell_type": "code",
   "execution_count": 14,
   "metadata": {},
   "outputs": [
    {
     "data": {
      "text/html": [
       "<div>\n",
       "<style>\n",
       "    .dataframe thead tr:only-child th {\n",
       "        text-align: right;\n",
       "    }\n",
       "\n",
       "    .dataframe thead th {\n",
       "        text-align: left;\n",
       "    }\n",
       "\n",
       "    .dataframe tbody tr th {\n",
       "        vertical-align: top;\n",
       "    }\n",
       "</style>\n",
       "<table border=\"1\" class=\"dataframe\">\n",
       "  <thead>\n",
       "    <tr style=\"text-align: right;\">\n",
       "      <th></th>\n",
       "      <th>ASL Class Level</th>\n",
       "      <th>Final</th>\n",
       "      <th>Midterm</th>\n",
       "    </tr>\n",
       "  </thead>\n",
       "  <tbody>\n",
       "    <tr>\n",
       "      <th>Abby</th>\n",
       "      <td>1</td>\n",
       "      <td>51</td>\n",
       "      <td>76</td>\n",
       "    </tr>\n",
       "    <tr>\n",
       "      <th>Dom</th>\n",
       "      <td>3</td>\n",
       "      <td>87</td>\n",
       "      <td>79</td>\n",
       "    </tr>\n",
       "    <tr>\n",
       "      <th>Emily</th>\n",
       "      <td>3</td>\n",
       "      <td>96</td>\n",
       "      <td>90</td>\n",
       "    </tr>\n",
       "    <tr>\n",
       "      <th>Natalie</th>\n",
       "      <td>1</td>\n",
       "      <td>78</td>\n",
       "      <td>97</td>\n",
       "    </tr>\n",
       "  </tbody>\n",
       "</table>\n",
       "</div>"
      ],
      "text/plain": [
       "         ASL Class Level  Final  Midterm\n",
       "Abby                   1     51       76\n",
       "Dom                    3     87       79\n",
       "Emily                  3     96       90\n",
       "Natalie                1     78       97"
      ]
     },
     "execution_count": 14,
     "metadata": {},
     "output_type": "execute_result"
    }
   ],
   "source": [
    "#What about more columns?\n",
    "exam1 = pd.Series({'Emily': 90, 'Abby': 76,'Dom': 79, 'Natalie': 97})\n",
    "exam2 = pd.Series({'Emily': 96, 'Abby': 51,'Dom': 87, 'Natalie': 78})\n",
    "level = pd.Series({'Emily': 3, 'Abby': 1, 'Dom': 3, 'Natalie': 1})\n",
    "scores = pd.DataFrame({'Midterm':exam1, 'Final':exam2, \"ASL Class Level\" :level})\n",
    "scores"
   ]
  },
  {
   "cell_type": "code",
   "execution_count": 15,
   "metadata": {},
   "outputs": [
    {
     "data": {
      "text/html": [
       "<div>\n",
       "<style>\n",
       "    .dataframe thead tr:only-child th {\n",
       "        text-align: right;\n",
       "    }\n",
       "\n",
       "    .dataframe thead th {\n",
       "        text-align: left;\n",
       "    }\n",
       "\n",
       "    .dataframe tbody tr th {\n",
       "        vertical-align: top;\n",
       "    }\n",
       "</style>\n",
       "<table border=\"1\" class=\"dataframe\">\n",
       "  <thead>\n",
       "    <tr style=\"text-align: right;\">\n",
       "      <th></th>\n",
       "      <th>ASL Class Level</th>\n",
       "      <th>Final</th>\n",
       "      <th>Midterm</th>\n",
       "      <th>Average</th>\n",
       "    </tr>\n",
       "  </thead>\n",
       "  <tbody>\n",
       "    <tr>\n",
       "      <th>Abby</th>\n",
       "      <td>1</td>\n",
       "      <td>51</td>\n",
       "      <td>76</td>\n",
       "      <td>63.5</td>\n",
       "    </tr>\n",
       "    <tr>\n",
       "      <th>Dom</th>\n",
       "      <td>3</td>\n",
       "      <td>87</td>\n",
       "      <td>79</td>\n",
       "      <td>83.0</td>\n",
       "    </tr>\n",
       "    <tr>\n",
       "      <th>Emily</th>\n",
       "      <td>3</td>\n",
       "      <td>96</td>\n",
       "      <td>90</td>\n",
       "      <td>93.0</td>\n",
       "    </tr>\n",
       "    <tr>\n",
       "      <th>Natalie</th>\n",
       "      <td>1</td>\n",
       "      <td>78</td>\n",
       "      <td>97</td>\n",
       "      <td>87.5</td>\n",
       "    </tr>\n",
       "  </tbody>\n",
       "</table>\n",
       "</div>"
      ],
      "text/plain": [
       "         ASL Class Level  Final  Midterm  Average\n",
       "Abby                   1     51       76     63.5\n",
       "Dom                    3     87       79     83.0\n",
       "Emily                  3     96       90     93.0\n",
       "Natalie                1     78       97     87.5"
      ]
     },
     "execution_count": 15,
     "metadata": {},
     "output_type": "execute_result"
    }
   ],
   "source": [
    "#adding a column that averages the test scores!\n",
    "scores['Average'] = (scores['Midterm'] + scores['Final']) / 2.0\n",
    "scores\n",
    "\n",
    "#you can also use .values to show without all the pretty formatting. Just an array like fashion\n",
    "#or if you want to swap rows and columns, use that with .T\n",
    "#You can also create a DataFrame with random values with .RandomState()"
   ]
  },
  {
   "cell_type": "markdown",
   "metadata": {},
   "source": [
    "# Working with Files"
   ]
  },
  {
   "cell_type": "code",
   "execution_count": 7,
   "metadata": {},
   "outputs": [
    {
     "name": "stdout",
     "output_type": "stream",
     "text": [
      "<class 'pandas.core.frame.DataFrame'>\n",
      "RangeIndex: 36 entries, 0 to 35\n",
      "Data columns (total 6 columns):\n",
      "NAME       36 non-null object\n",
      "YEAR       36 non-null object\n",
      "LEVEL      36 non-null int64\n",
      "GRADE      36 non-null object\n",
      "MIDTERM    36 non-null int64\n",
      "FINAL      36 non-null int64\n",
      "dtypes: int64(3), object(3)\n",
      "memory usage: 1.8+ KB\n"
     ]
    }
   ],
   "source": [
    "#this reads in a file\n",
    "file = pd.read_csv('asl-background-cut_margaret.csv')\n",
    "\n",
    "#this prints out some info about the file\n",
    "file.info()\n",
    "\n",
    "#NOTE: this isn't a real file, I made it. People's actual grades are not represented here. \n",
    "    #I got the names from friends and sitting in a Starbucks and just writing the names called out.\n",
    "    #This file doens't represent real people."
   ]
  },
  {
   "cell_type": "markdown",
   "metadata": {},
   "source": [
    "Things you can take from this:  \n",
    "-there are no non-null cells  \n",
    "-thre are 6 columns and 36 rows  \n",
    "-the indexes range form 0-35  \n",
    "-\"Name,\" \"Year,\" and \"Grade\" all store objects (likely strings)  \n",
    "-\"Level,\" \"Midterm,\" and \"Final\" all store integers  \n",
    "-the amount of memory this file takes  "
   ]
  },
  {
   "cell_type": "code",
   "execution_count": 12,
   "metadata": {},
   "outputs": [
    {
     "name": "stdout",
     "output_type": "stream",
     "text": [
      "<class 'pandas.core.frame.DataFrame'>\n",
      "RangeIndex: 36 entries, 0 to 35\n",
      "Data columns (total 6 columns):\n",
      "NAME       36 non-null object\n",
      "YEAR       36 non-null object\n",
      "LEVEL      36 non-null int64\n",
      "GRADE      36 non-null object\n",
      "MIDTERM    36 non-null int64\n",
      "FINAL      36 non-null int64\n",
      "dtypes: int64(3), object(3)\n",
      "memory usage: 1.8+ KB\n"
     ]
    },
    {
     "data": {
      "text/html": [
       "<div>\n",
       "<style>\n",
       "    .dataframe thead tr:only-child th {\n",
       "        text-align: right;\n",
       "    }\n",
       "\n",
       "    .dataframe thead th {\n",
       "        text-align: left;\n",
       "    }\n",
       "\n",
       "    .dataframe tbody tr th {\n",
       "        vertical-align: top;\n",
       "    }\n",
       "</style>\n",
       "<table border=\"1\" class=\"dataframe\">\n",
       "  <thead>\n",
       "    <tr style=\"text-align: right;\">\n",
       "      <th></th>\n",
       "      <th>LEVEL</th>\n",
       "      <th>MIDTERM</th>\n",
       "      <th>FINAL</th>\n",
       "    </tr>\n",
       "  </thead>\n",
       "  <tbody>\n",
       "    <tr>\n",
       "      <th>count</th>\n",
       "      <td>36.000000</td>\n",
       "      <td>36.000000</td>\n",
       "      <td>36.000000</td>\n",
       "    </tr>\n",
       "    <tr>\n",
       "      <th>mean</th>\n",
       "      <td>2.444444</td>\n",
       "      <td>83.333333</td>\n",
       "      <td>89.555556</td>\n",
       "    </tr>\n",
       "    <tr>\n",
       "      <th>std</th>\n",
       "      <td>1.557369</td>\n",
       "      <td>8.342661</td>\n",
       "      <td>5.704356</td>\n",
       "    </tr>\n",
       "    <tr>\n",
       "      <th>min</th>\n",
       "      <td>1.000000</td>\n",
       "      <td>63.000000</td>\n",
       "      <td>79.000000</td>\n",
       "    </tr>\n",
       "    <tr>\n",
       "      <th>25%</th>\n",
       "      <td>1.000000</td>\n",
       "      <td>78.750000</td>\n",
       "      <td>86.000000</td>\n",
       "    </tr>\n",
       "    <tr>\n",
       "      <th>50%</th>\n",
       "      <td>3.000000</td>\n",
       "      <td>84.500000</td>\n",
       "      <td>89.500000</td>\n",
       "    </tr>\n",
       "    <tr>\n",
       "      <th>75%</th>\n",
       "      <td>3.000000</td>\n",
       "      <td>89.000000</td>\n",
       "      <td>94.250000</td>\n",
       "    </tr>\n",
       "    <tr>\n",
       "      <th>max</th>\n",
       "      <td>5.000000</td>\n",
       "      <td>97.000000</td>\n",
       "      <td>99.000000</td>\n",
       "    </tr>\n",
       "  </tbody>\n",
       "</table>\n",
       "</div>"
      ],
      "text/plain": [
       "           LEVEL    MIDTERM      FINAL\n",
       "count  36.000000  36.000000  36.000000\n",
       "mean    2.444444  83.333333  89.555556\n",
       "std     1.557369   8.342661   5.704356\n",
       "min     1.000000  63.000000  79.000000\n",
       "25%     1.000000  78.750000  86.000000\n",
       "50%     3.000000  84.500000  89.500000\n",
       "75%     3.000000  89.000000  94.250000\n",
       "max     5.000000  97.000000  99.000000"
      ]
     },
     "execution_count": 12,
     "metadata": {},
     "output_type": "execute_result"
    }
   ],
   "source": [
    "#to access the actual contents use .loc[] or .iloc[] \n",
    "file.loc[1:10]\n",
    "\n",
    "#shows type\n",
    "type(file)\n",
    "\n",
    "#gives the first 5 if left unspecified - this one has 20 so it will show the first 20\n",
    "file.head(20) \n",
    "\n",
    "#gives the last 5 if left unspecified\n",
    "file.tail() \n",
    "\n",
    "#returns some info about the data\n",
    "file.info() \n",
    "\n",
    "#returns descriptive stats (only on the ints)\n",
    "file.describe() "
   ]
  },
  {
   "cell_type": "code",
   "execution_count": 19,
   "metadata": {},
   "outputs": [
    {
     "name": "stdout",
     "output_type": "stream",
     "text": [
      "<class 'pandas.core.frame.DataFrame'>\n",
      "RangeIndex: 994 entries, 0 to 993\n",
      "Data columns (total 5 columns):\n",
      "THEME          994 non-null object\n",
      "TITLE          994 non-null object\n",
      "ARTIST         994 non-null object\n",
      "YEAR           994 non-null int64\n",
      "SPOTIFY_URL    772 non-null object\n",
      "dtypes: int64(1), object(4)\n",
      "memory usage: 38.9+ KB\n"
     ]
    }
   ],
   "source": [
    "#working with someone else's data...\n",
    "#reading in Andrew's data\n",
    "aRyan = pd.read_csv('Top_1000_Songs_To_Hear_Before_You_Die_AndrewRyan.csv')\n",
    "aRyan.info()"
   ]
  },
  {
   "cell_type": "code",
   "execution_count": 20,
   "metadata": {},
   "outputs": [
    {
     "data": {
      "text/html": [
       "<div>\n",
       "<style>\n",
       "    .dataframe thead tr:only-child th {\n",
       "        text-align: right;\n",
       "    }\n",
       "\n",
       "    .dataframe thead th {\n",
       "        text-align: left;\n",
       "    }\n",
       "\n",
       "    .dataframe tbody tr th {\n",
       "        vertical-align: top;\n",
       "    }\n",
       "</style>\n",
       "<table border=\"1\" class=\"dataframe\">\n",
       "  <thead>\n",
       "    <tr style=\"text-align: right;\">\n",
       "      <th></th>\n",
       "      <th>THEME</th>\n",
       "      <th>TITLE</th>\n",
       "      <th>ARTIST</th>\n",
       "      <th>YEAR</th>\n",
       "      <th>SPOTIFY_URL</th>\n",
       "    </tr>\n",
       "  </thead>\n",
       "  <tbody>\n",
       "    <tr>\n",
       "      <th>0</th>\n",
       "      <td>Love</td>\n",
       "      <td>The Look of Love</td>\n",
       "      <td>ABC</td>\n",
       "      <td>1982</td>\n",
       "      <td>http://open.spotify.com/track/78j3qTBdzcIiT3eS...</td>\n",
       "    </tr>\n",
       "    <tr>\n",
       "      <th>1</th>\n",
       "      <td>Love</td>\n",
       "      <td>The Shining</td>\n",
       "      <td>Badly Drawn Boy</td>\n",
       "      <td>2000</td>\n",
       "      <td>http://open.spotify.com/track/2PojSoZ94AIzp7fs...</td>\n",
       "    </tr>\n",
       "    <tr>\n",
       "      <th>2</th>\n",
       "      <td>Love</td>\n",
       "      <td>God Only Knows</td>\n",
       "      <td>The Beach Boys</td>\n",
       "      <td>1966</td>\n",
       "      <td>http://open.spotify.com/track/0ObrXLrfrqJUNc8R...</td>\n",
       "    </tr>\n",
       "    <tr>\n",
       "      <th>3</th>\n",
       "      <td>Love</td>\n",
       "      <td>Good Vibrations</td>\n",
       "      <td>The Beach Boys</td>\n",
       "      <td>1966</td>\n",
       "      <td>http://open.spotify.com/track/2oF7FZHIJbzjeEXZ...</td>\n",
       "    </tr>\n",
       "    <tr>\n",
       "      <th>4</th>\n",
       "      <td>Love</td>\n",
       "      <td>Wouldn’t It Be Nice</td>\n",
       "      <td>The Beach Boys</td>\n",
       "      <td>1966</td>\n",
       "      <td>http://open.spotify.com/track/0cx32rX0uZvcJUP9...</td>\n",
       "    </tr>\n",
       "  </tbody>\n",
       "</table>\n",
       "</div>"
      ],
      "text/plain": [
       "  THEME                TITLE           ARTIST  YEAR  \\\n",
       "0  Love     The Look of Love              ABC  1982   \n",
       "1  Love          The Shining  Badly Drawn Boy  2000   \n",
       "2  Love       God Only Knows   The Beach Boys  1966   \n",
       "3  Love      Good Vibrations   The Beach Boys  1966   \n",
       "4  Love  Wouldn’t It Be Nice   The Beach Boys  1966   \n",
       "\n",
       "                                         SPOTIFY_URL  \n",
       "0  http://open.spotify.com/track/78j3qTBdzcIiT3eS...  \n",
       "1  http://open.spotify.com/track/2PojSoZ94AIzp7fs...  \n",
       "2  http://open.spotify.com/track/0ObrXLrfrqJUNc8R...  \n",
       "3  http://open.spotify.com/track/2oF7FZHIJbzjeEXZ...  \n",
       "4  http://open.spotify.com/track/0cx32rX0uZvcJUP9...  "
      ]
     },
     "execution_count": 20,
     "metadata": {},
     "output_type": "execute_result"
    }
   ],
   "source": [
    "aRyan.head()"
   ]
  },
  {
   "cell_type": "code",
   "execution_count": 23,
   "metadata": {},
   "outputs": [
    {
     "data": {
      "text/html": [
       "<div>\n",
       "<style>\n",
       "    .dataframe thead tr:only-child th {\n",
       "        text-align: right;\n",
       "    }\n",
       "\n",
       "    .dataframe thead th {\n",
       "        text-align: left;\n",
       "    }\n",
       "\n",
       "    .dataframe tbody tr th {\n",
       "        vertical-align: top;\n",
       "    }\n",
       "</style>\n",
       "<table border=\"1\" class=\"dataframe\">\n",
       "  <thead>\n",
       "    <tr style=\"text-align: right;\">\n",
       "      <th></th>\n",
       "      <th>YEAR</th>\n",
       "      <th>TITLE</th>\n",
       "      <th>ARTIST</th>\n",
       "      <th>THEME</th>\n",
       "      <th>SPOTIFY_URL</th>\n",
       "    </tr>\n",
       "  </thead>\n",
       "  <tbody>\n",
       "    <tr>\n",
       "      <th>0</th>\n",
       "      <td>1982</td>\n",
       "      <td>The Look of Love</td>\n",
       "      <td>ABC</td>\n",
       "      <td>Love</td>\n",
       "      <td>http://open.spotify.com/track/78j3qTBdzcIiT3eS...</td>\n",
       "    </tr>\n",
       "    <tr>\n",
       "      <th>1</th>\n",
       "      <td>2000</td>\n",
       "      <td>The Shining</td>\n",
       "      <td>Badly Drawn Boy</td>\n",
       "      <td>Love</td>\n",
       "      <td>http://open.spotify.com/track/2PojSoZ94AIzp7fs...</td>\n",
       "    </tr>\n",
       "    <tr>\n",
       "      <th>2</th>\n",
       "      <td>1966</td>\n",
       "      <td>God Only Knows</td>\n",
       "      <td>The Beach Boys</td>\n",
       "      <td>Love</td>\n",
       "      <td>http://open.spotify.com/track/0ObrXLrfrqJUNc8R...</td>\n",
       "    </tr>\n",
       "    <tr>\n",
       "      <th>3</th>\n",
       "      <td>1966</td>\n",
       "      <td>Good Vibrations</td>\n",
       "      <td>The Beach Boys</td>\n",
       "      <td>Love</td>\n",
       "      <td>http://open.spotify.com/track/2oF7FZHIJbzjeEXZ...</td>\n",
       "    </tr>\n",
       "    <tr>\n",
       "      <th>4</th>\n",
       "      <td>1966</td>\n",
       "      <td>Wouldn’t It Be Nice</td>\n",
       "      <td>The Beach Boys</td>\n",
       "      <td>Love</td>\n",
       "      <td>http://open.spotify.com/track/0cx32rX0uZvcJUP9...</td>\n",
       "    </tr>\n",
       "    <tr>\n",
       "      <th>5</th>\n",
       "      <td>1964</td>\n",
       "      <td>Eight Days a Week</td>\n",
       "      <td>The Beatles</td>\n",
       "      <td>Love</td>\n",
       "      <td>NaN</td>\n",
       "    </tr>\n",
       "    <tr>\n",
       "      <th>6</th>\n",
       "      <td>1965</td>\n",
       "      <td>Girl</td>\n",
       "      <td>The Beatles</td>\n",
       "      <td>Love</td>\n",
       "      <td>NaN</td>\n",
       "    </tr>\n",
       "    <tr>\n",
       "      <th>7</th>\n",
       "      <td>1963</td>\n",
       "      <td>I Want to Hold Your Hand</td>\n",
       "      <td>The Beatles</td>\n",
       "      <td>Love</td>\n",
       "      <td>NaN</td>\n",
       "    </tr>\n",
       "    <tr>\n",
       "      <th>8</th>\n",
       "      <td>1963</td>\n",
       "      <td>She Loves You</td>\n",
       "      <td>The Beatles</td>\n",
       "      <td>Love</td>\n",
       "      <td>NaN</td>\n",
       "    </tr>\n",
       "    <tr>\n",
       "      <th>9</th>\n",
       "      <td>1969</td>\n",
       "      <td>Something</td>\n",
       "      <td>The Beatles</td>\n",
       "      <td>Love</td>\n",
       "      <td>NaN</td>\n",
       "    </tr>\n",
       "  </tbody>\n",
       "</table>\n",
       "</div>"
      ],
      "text/plain": [
       "   YEAR                     TITLE           ARTIST THEME  \\\n",
       "0  1982          The Look of Love              ABC  Love   \n",
       "1  2000               The Shining  Badly Drawn Boy  Love   \n",
       "2  1966            God Only Knows   The Beach Boys  Love   \n",
       "3  1966           Good Vibrations   The Beach Boys  Love   \n",
       "4  1966       Wouldn’t It Be Nice   The Beach Boys  Love   \n",
       "5  1964         Eight Days a Week      The Beatles  Love   \n",
       "6  1965                      Girl      The Beatles  Love   \n",
       "7  1963  I Want to Hold Your Hand      The Beatles  Love   \n",
       "8  1963             She Loves You      The Beatles  Love   \n",
       "9  1969                 Something      The Beatles  Love   \n",
       "\n",
       "                                         SPOTIFY_URL  \n",
       "0  http://open.spotify.com/track/78j3qTBdzcIiT3eS...  \n",
       "1  http://open.spotify.com/track/2PojSoZ94AIzp7fs...  \n",
       "2  http://open.spotify.com/track/0ObrXLrfrqJUNc8R...  \n",
       "3  http://open.spotify.com/track/2oF7FZHIJbzjeEXZ...  \n",
       "4  http://open.spotify.com/track/0cx32rX0uZvcJUP9...  \n",
       "5                                                NaN  \n",
       "6                                                NaN  \n",
       "7                                                NaN  \n",
       "8                                                NaN  \n",
       "9                                                NaN  "
      ]
     },
     "execution_count": 23,
     "metadata": {},
     "output_type": "execute_result"
    }
   ],
   "source": [
    "#Let's switch up the order a bit. Year first, then title, arsits, theme, and url\n",
    "aRyan = aRyan[['YEAR', 'TITLE', 'ARTIST', 'THEME', 'SPOTIFY_URL']]\n",
    "#PRO TIP: you need the [['-']] to make it a dataframe and not series\n",
    "\n",
    "#return the first 10\n",
    "aRyan.head(10)"
   ]
  },
  {
   "cell_type": "markdown",
   "metadata": {},
   "source": [
    "NOTE: Some of the cells say NaN - this is esentially a blank, there are no values for these cells"
   ]
  },
  {
   "cell_type": "code",
   "execution_count": 24,
   "metadata": {},
   "outputs": [
    {
     "data": {
      "text/plain": [
       "'Love'"
      ]
     },
     "execution_count": 24,
     "metadata": {},
     "output_type": "execute_result"
    }
   ],
   "source": [
    "#A few things to keep in mind:\n",
    "len(aRyan['TITLE'][2])      #calculate the length for you\n",
    "aRyan['SPOTIFY_URL'][6]     #this is a value that is NaN\n",
    "aRyan.iloc[48]              #gives you the whole row\n",
    "aRyan.iloc[48, 4]           #returns the theme of that row\n",
    "aRyan.loc[48]               #technically this does't he same thing as .iloc[] above\n",
    "aRyan.loc[48, 'THEME']      #access the theme of this row"
   ]
  },
  {
   "cell_type": "code",
   "execution_count": 27,
   "metadata": {},
   "outputs": [
    {
     "data": {
      "text/plain": [
       "array([1982, 2000, 1966, 1964, 1965, 1963, 1969, 1967, 1989, 1977, 1958,\n",
       "       2003, 1972, 1959, 1993, 1975, 1985, 1978, 1994, 1968, 1956, 1988,\n",
       "       1954, 1973, 1974, 1962, 1961, 1986, 1992, 1987, 1960, 2008, 1976,\n",
       "       1984, 1939, 1971, 1979, 2007, 2001, 1995, 1928, 1970, 1955, 1996,\n",
       "       1952, 1981, 1980, 1997, 2005, 1991, 2004, 2002, 2006, 1998, 1931,\n",
       "       1990, 1983, 1999, 1951, 1916, 1932, 1940, 1936, 1946, 1922, 1941,\n",
       "       1953, 1950, 1957, 1929, 1944, 1938, 1935, 1949])"
      ]
     },
     "execution_count": 27,
     "metadata": {},
     "output_type": "execute_result"
    }
   ],
   "source": [
    "# How many years are represented in this data?\n",
    "#len(set(aRyan['YEAR'])) #this is python's way, not pandas way\n",
    "\n",
    "#if you need help figuring out what to do use this:\n",
    "#help(aRyan['YEAR'].unique)\n",
    "\n",
    "#this is the pandas' way to show the number of years rep!\n",
    "aRyan['YEAR'].unique().size \n",
    "\n",
    "#if you just want to see the lears listed do this:\n",
    "aRyan['YEAR'].unique()"
   ]
  },
  {
   "cell_type": "code",
   "execution_count": 29,
   "metadata": {},
   "outputs": [
    {
     "name": "stdout",
     "output_type": "stream",
     "text": [
      "<class 'pandas.core.frame.DataFrame'>\n",
      "Int64Index: 18 entries, 0 to 974\n",
      "Data columns (total 5 columns):\n",
      "YEAR           18 non-null int64\n",
      "TITLE          18 non-null object\n",
      "ARTIST         18 non-null object\n",
      "THEME          18 non-null object\n",
      "SPOTIFY_URL    14 non-null object\n",
      "dtypes: int64(1), object(4)\n",
      "memory usage: 864.0+ bytes\n",
      "<class 'pandas.core.frame.DataFrame'>\n",
      "Int64Index: 12 entries, 1 to 949\n",
      "Data columns (total 5 columns):\n",
      "YEAR           12 non-null int64\n",
      "TITLE          12 non-null object\n",
      "ARTIST         12 non-null object\n",
      "THEME          12 non-null object\n",
      "SPOTIFY_URL    8 non-null object\n",
      "dtypes: int64(1), object(4)\n",
      "memory usage: 576.0+ bytes\n"
     ]
    }
   ],
   "source": [
    "#let's split this data for songs before 1982 and then songs after 2000\n",
    "oldfilter = aRyan[\"YEAR\"] == 1982\n",
    "newfilter = aRyan['YEAR'] == 2000\n",
    "\n",
    "#splice using the filter\n",
    "old = aRyan.loc[oldfilter,:]\n",
    "old.info()\n",
    "\n",
    "#splice using the other filter\n",
    "new = aRyan.loc[newfilter,:]\n",
    "new.info()"
   ]
  },
  {
   "cell_type": "code",
   "execution_count": 31,
   "metadata": {},
   "outputs": [
    {
     "data": {
      "text/plain": [
       "695"
      ]
     },
     "execution_count": 31,
     "metadata": {},
     "output_type": "execute_result"
    }
   ],
   "source": [
    "#how many love themed songs?\n",
    "aRyan.loc[aRyan['THEME']==\"Love\",:].size"
   ]
  },
  {
   "cell_type": "code",
   "execution_count": null,
   "metadata": {
    "collapsed": true
   },
   "outputs": [],
   "source": []
  }
 ],
 "metadata": {
  "kernelspec": {
   "display_name": "Python 3",
   "language": "python",
   "name": "python3"
  },
  "language_info": {
   "codemirror_mode": {
    "name": "ipython",
    "version": 3
   },
   "file_extension": ".py",
   "mimetype": "text/x-python",
   "name": "python",
   "nbconvert_exporter": "python",
   "pygments_lexer": "ipython3",
   "version": "3.6.1"
  }
 },
 "nbformat": 4,
 "nbformat_minor": 2
}
