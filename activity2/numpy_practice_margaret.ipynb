{
 "cells": [
  {
   "cell_type": "markdown",
   "metadata": {},
   "source": [
    "# Class Activity 2: `numpy` Practice\n",
    "9/7/2017"
   ]
  },
  {
   "cell_type": "markdown",
   "metadata": {},
   "source": [
    "## (1) Data comes in many forms! \n",
    "\n",
    "- Build a numpy array called `exams` from the string below. \n",
    "- There are three students (rows) and their five exam scores (columns). \n",
    "- String methods such as `.split()` will come in handy. \n",
    "- You will also want to pay attention to object types: string vs. integer\n"
   ]
  },
  {
   "cell_type": "code",
   "execution_count": 11,
   "metadata": {},
   "outputs": [
    {
     "data": {
      "text/plain": [
       "'lisa: 90, 99, 100, 95, 95\\nbart: 70, 82, 65, 53, 77\\nnelson: 80, 85, 85, 88, 84\\n'"
      ]
     },
     "execution_count": 11,
     "metadata": {},
     "output_type": "execute_result"
    }
   ],
   "source": [
    "teacher_notes = \"\"\"lisa: 90, 99, 100, 95, 95\n",
    "bart: 70, 82, 65, 53, 77\n",
    "nelson: 80, 85, 85, 88, 84\n",
    "\"\"\"\n",
    "teacher_notes"
   ]
  },
  {
   "cell_type": "code",
   "execution_count": 14,
   "metadata": {},
   "outputs": [
    {
     "data": {
      "text/plain": [
       "array([[ 90,  99, 100,  95,  95],\n",
       "       [ 70,  82,  65,  53,  77],\n",
       "       [ 80,  85,  85,  88,  84]])"
      ]
     },
     "execution_count": 14,
     "metadata": {},
     "output_type": "execute_result"
    }
   ],
   "source": [
    "# Your code here. \n",
    "lists = []\n",
    "for l in teacher_notes.strip().split('\\n'):\n",
    "    scores = l.replace(':',\",\").split(', ')\n",
    "    #print(scores)\n",
    "    numbers = [int(x) for x in scores[1:]]\n",
    "    #print(numbers)\n",
    "    lists.append(numbers)\n",
    "#print(lists)\n",
    "lists\n",
    "\n",
    "import numpy as np\n",
    "exams = np.array(lists)\n",
    "exams"
   ]
  },
  {
   "cell_type": "markdown",
   "metadata": {},
   "source": [
    "## (2) Accessing `exams` numpy array\n",
    "- Get Bart's exam scores\n",
    "- Get Nelson's exam scores\n",
    "- Get Lisa's 3rd exam score\n",
    "- Get Lisa's exam scores, without the last one\n",
    "- Get Bart's and Nelson's exam scores"
   ]
  },
  {
   "cell_type": "code",
   "execution_count": 15,
   "metadata": {},
   "outputs": [
    {
     "name": "stdout",
     "output_type": "stream",
     "text": [
      "[70 82 65 53 77]\n",
      "[80 85 85 88 84]\n",
      "100\n",
      "[ 90  99 100  95]\n",
      "[[70 82 65 53 77]\n",
      " [80 85 85 88 84]]\n"
     ]
    }
   ],
   "source": [
    "# Your code here.\n",
    "#Bart's exams\n",
    "bart = exams[1]\n",
    "\n",
    "#Nelson's exams\n",
    "nelson = exams[2]                    #same as exams[-1]\n",
    "\n",
    "#Lisa's 3rd exam score\n",
    "lisa_3 = exams[0,2]\n",
    "\n",
    "#Lisa's scores without last\n",
    "lisa_except_last = exams [0,:-1]     #same as exams[0, :5]\n",
    "\n",
    "#Bart and Nelson's scores\n",
    "bart_nelson = exams[1:,:]            #same as exams[[1,2],:]\n",
    "\n",
    "#print\n",
    "print(bart)\n",
    "print(nelson)\n",
    "print(lisa_3)\n",
    "print(lisa_except_last)\n",
    "print(bart_nelson)"
   ]
  },
  {
   "cell_type": "markdown",
   "metadata": {},
   "source": [
    "## (3) Statistics with `numpy`\n",
    "- What is Lisa's exam average? What is Bart's?\n",
    "- What is Lisa's maximum exam score? Minimum?\n",
    "- What is the total of Lisa's exam scores?\n",
    "- What is the average of the last exam? \n",
    "- What is the average of each student? (Use `for` loop!)"
   ]
  },
  {
   "cell_type": "code",
   "execution_count": 16,
   "metadata": {},
   "outputs": [
    {
     "name": "stdout",
     "output_type": "stream",
     "text": [
      "[ 90  99 100  95  95] 95.8\n",
      "[70 82 65 53 77] 69.4\n",
      "[80 85 85 88 84] 84.4\n",
      "95.8\n",
      "69.4\n",
      "100\n",
      "90\n",
      "479\n",
      "85.3333333333\n"
     ]
    }
   ],
   "source": [
    "# Your code here. \n",
    "#Lisa average\n",
    "lisa_avg = exams[0].mean()\n",
    "\n",
    "#Bart's average\n",
    "bart_avg = exams[1].mean()\n",
    "\n",
    "#Lisa's max and min\n",
    "lmax = exams[0].max()\n",
    "lmin = exams[0].min()\n",
    "\n",
    "#Lisa total\n",
    "ltotal = exams[0].sum()\n",
    "\n",
    "#Last average\n",
    "last_avg = exams[:,-1].mean()\n",
    "\n",
    "#Student averages\n",
    "for x in exams:\n",
    "    print(x, x.mean())\n",
    "\n",
    "#print everything\n",
    "print(lisa_avg)\n",
    "print(bart_avg)\n",
    "print(lmax)\n",
    "print(lmin)\n",
    "print(ltotal)\n",
    "print(last_avg)\n"
   ]
  },
  {
   "cell_type": "markdown",
   "metadata": {},
   "source": [
    "## (4) Manipulating an array\n",
    "- Teacher is having a good day. She decides to boost every exam score by 5. \n",
    "- Teacher is having a bad day. She takes 10 points off of everyone's last exam. \n",
    "- Teacher is having an even worse day. She decides to assign 0 to everyone's last exam. \n",
    "\n",
    "** Pay attention to the original `exams` array. Is it changing, or are you creating a new array?"
   ]
  },
  {
   "cell_type": "code",
   "execution_count": 24,
   "metadata": {},
   "outputs": [
    {
     "name": "stdout",
     "output_type": "stream",
     "text": [
      "[[ 95 104 105 100   5]\n",
      " [ 75  87  70  58   5]\n",
      " [ 85  90  90  93   5]]\n",
      "[[ 90  99 100  95 -10]\n",
      " [ 70  82  65  53 -10]\n",
      " [ 80  85  85  88 -10]]\n",
      "[[ 90  99 100  95   0]\n",
      " [ 70  82  65  53   0]\n",
      " [ 80  85  85  88   0]]\n"
     ]
    }
   ],
   "source": [
    "# Your code here. \n",
    "exams += 5\n",
    "print(exams)\n",
    "exams -= 5\n",
    "exams[:,-1] -= 10\n",
    "print(exams)\n",
    "exams[:,-1] += 10\n",
    "exams[:,-1] = 0\n",
    "print(exams)\n",
    "\n",
    "#IT ISN'T DOING A WORK WHYYYY"
   ]
  },
  {
   "cell_type": "markdown",
   "metadata": {},
   "source": [
    "## (5) Adding to existing array\n",
    "- Oops, teacher forgot about Milhouse's exam scores. \n",
    "- How to add them into `exams`?\n",
    "- Hint: use `np.append()`"
   ]
  },
  {
   "cell_type": "code",
   "execution_count": null,
   "metadata": {
    "collapsed": true
   },
   "outputs": [],
   "source": [
    "milhouse = [85, 90, 90, 70, 55]\n",
    "# Your code below. "
   ]
  },
  {
   "cell_type": "markdown",
   "metadata": {},
   "source": [
    "## (6) Transforming content\n",
    "- Teacher wants to convert numeric scores to letter grades. \n",
    "- First, build a function called `letter_grade()` which takes a numeric score and returns 'A', 'B', 'C', 'D', or 'F'. \n",
    "- Then, apply this function to each element in `exam`. (Hint: use `numpy.vectorize()`)"
   ]
  },
  {
   "cell_type": "code",
   "execution_count": null,
   "metadata": {
    "collapsed": true
   },
   "outputs": [],
   "source": [
    "# Your code here. "
   ]
  }
 ],
 "metadata": {
  "kernelspec": {
   "display_name": "Python 3",
   "language": "python",
   "name": "python3"
  },
  "language_info": {
   "codemirror_mode": {
    "name": "ipython",
    "version": 3
   },
   "file_extension": ".py",
   "mimetype": "text/x-python",
   "name": "python",
   "nbconvert_exporter": "python",
   "pygments_lexer": "ipython3",
   "version": "3.6.1"
  }
 },
 "nbformat": 4,
 "nbformat_minor": 2
}
