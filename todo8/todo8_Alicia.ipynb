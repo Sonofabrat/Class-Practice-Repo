{
 "cells": [
  {
   "cell_type": "markdown",
   "metadata": {},
   "source": [
    "Alicia Sigmon, als333@pitt.edu, 10/04/2017"
   ]
  },
  {
   "cell_type": "code",
   "execution_count": 1,
   "metadata": {},
   "outputs": [],
   "source": [
    "import tweepy\n",
    "import pandas as pd\n",
    "import matplotlib.pyplot as plt"
   ]
  },
  {
   "cell_type": "code",
   "execution_count": 2,
   "metadata": {},
   "outputs": [],
   "source": [
    "consumerKey= 'XXXXXXXXXXXXXXXXXXXXXXXXXXXX'\n",
    "consumerSecret='XXXXXXXXXXXXXXXXXXXXXXXXXXXX'\n",
    "\n",
    "# Creating Authentication\n",
    "auth = tweepy.OAuthHandler(consumer_key=consumerKey, \n",
    "                           consumer_secret=consumerSecret)\n",
    "# Connecting to Twitter API with the authentication\n",
    "api=tweepy.API(auth)"
   ]
  },
  {
   "cell_type": "code",
   "execution_count": 3,
   "metadata": {},
   "outputs": [
    {
     "data": {
      "text/plain": [
       "10"
      ]
     },
     "execution_count": 3,
     "metadata": {},
     "output_type": "execute_result"
    }
   ],
   "source": [
    "# Basic search for '#Australia'\n",
    "result = api.search(q='%23Australia')  # \"%23\" == \"#\"\n",
    "len(result)"
   ]
  },
  {
   "cell_type": "code",
   "execution_count": 4,
   "metadata": {},
   "outputs": [
    {
     "name": "stdout",
     "output_type": "stream",
     "text": [
      "author : User(_api=<tweepy.api.API object at 0x000002BBBE782128>, _json={'id': 567206965, 'id_str': '567206965', 'name': 'Mew', 'screen_name': 'Mew0629', 'location': 'Beijing', 'description': '', 'url': 'https://t.co/EslEB48Azr', 'entities': {'url': {'urls': [{'url': 'https://t.co/EslEB48Azr', 'expanded_url': 'http://wangzhihao.com.cn', 'display_url': 'wangzhihao.com.cn', 'indices': [0, 23]}]}, 'description': {'urls': []}}, 'protected': False, 'followers_count': 26, 'friends_count': 106, 'listed_count': 0, 'created_at': 'Mon Apr 30 12:56:54 +0000 2012', 'favourites_count': 9, 'utc_offset': None, 'time_zone': None, 'geo_enabled': True, 'verified': False, 'statuses_count': 23, 'lang': 'zh-cn', 'contributors_enabled': False, 'is_translator': False, 'is_translation_enabled': False, 'profile_background_color': 'C0DEED', 'profile_background_image_url': 'http://abs.twimg.com/images/themes/theme1/bg.png', 'profile_background_image_url_https': 'https://abs.twimg.com/images/themes/theme1/bg.png', 'profile_background_tile': False, 'profile_image_url': 'http://pbs.twimg.com/profile_images/879196921641947136/V5BjNS0c_normal.jpg', 'profile_image_url_https': 'https://pbs.twimg.com/profile_images/879196921641947136/V5BjNS0c_normal.jpg', 'profile_banner_url': 'https://pbs.twimg.com/profile_banners/567206965/1429080886', 'profile_link_color': '1DA1F2', 'profile_sidebar_border_color': 'C0DEED', 'profile_sidebar_fill_color': 'DDEEF6', 'profile_text_color': '333333', 'profile_use_background_image': True, 'has_extended_profile': True, 'default_profile': True, 'default_profile_image': False, 'following': None, 'follow_request_sent': None, 'notifications': None, 'translator_type': 'none'}, id=567206965, id_str='567206965', name='Mew', screen_name='Mew0629', location='Beijing', description='', url='https://t.co/EslEB48Azr', entities={'url': {'urls': [{'url': 'https://t.co/EslEB48Azr', 'expanded_url': 'http://wangzhihao.com.cn', 'display_url': 'wangzhihao.com.cn', 'indices': [0, 23]}]}, 'description': {'urls': []}}, protected=False, followers_count=26, friends_count=106, listed_count=0, created_at=datetime.datetime(2012, 4, 30, 12, 56, 54), favourites_count=9, utc_offset=None, time_zone=None, geo_enabled=True, verified=False, statuses_count=23, lang='zh-cn', contributors_enabled=False, is_translator=False, is_translation_enabled=False, profile_background_color='C0DEED', profile_background_image_url='http://abs.twimg.com/images/themes/theme1/bg.png', profile_background_image_url_https='https://abs.twimg.com/images/themes/theme1/bg.png', profile_background_tile=False, profile_image_url='http://pbs.twimg.com/profile_images/879196921641947136/V5BjNS0c_normal.jpg', profile_image_url_https='https://pbs.twimg.com/profile_images/879196921641947136/V5BjNS0c_normal.jpg', profile_banner_url='https://pbs.twimg.com/profile_banners/567206965/1429080886', profile_link_color='1DA1F2', profile_sidebar_border_color='C0DEED', profile_sidebar_fill_color='DDEEF6', profile_text_color='333333', profile_use_background_image=True, has_extended_profile=True, default_profile=True, default_profile_image=False, following=False, follow_request_sent=None, notifications=None, translator_type='none')\n",
      "\n",
      "contributors : None\n",
      "\n",
      "coordinates : {'type': 'Point', 'coordinates': [151.2085887, -33.8596155]}\n",
      "\n",
      "created_at : 2017-10-05 03:47:21\n",
      "\n",
      "destroy : <bound method Status.destroy of Status(_api=<tweepy.api.API object at 0x000002BBBE782128>, _json={'created_at': 'Thu Oct 05 03:47:21 +0000 2017', 'id': 915785455542591489, 'id_str': '915785455542591489', 'text': 'Hello, Apple. #applestore #sydney #australia @ Apple Store Sydney https://t.co/BXde8zXPQW', 'truncated': False, 'entities': {'hashtags': [{'text': 'applestore', 'indices': [14, 25]}, {'text': 'sydney', 'indices': [26, 33]}, {'text': 'australia', 'indices': [34, 44]}], 'symbols': [], 'user_mentions': [], 'urls': [{'url': 'https://t.co/BXde8zXPQW', 'expanded_url': 'https://www.instagram.com/p/BZ2g3dLDFpL/', 'display_url': 'instagram.com/p/BZ2g3dLDFpL/', 'indices': [66, 89]}]}, 'metadata': {'iso_language_code': 'en', 'result_type': 'recent'}, 'source': '<a href=\"http://instagram.com\" rel=\"nofollow\">Instagram</a>', 'in_reply_to_status_id': None, 'in_reply_to_status_id_str': None, 'in_reply_to_user_id': None, 'in_reply_to_user_id_str': None, 'in_reply_to_screen_name': None, 'user': {'id': 567206965, 'id_str': '567206965', 'name': 'Mew', 'screen_name': 'Mew0629', 'location': 'Beijing', 'description': '', 'url': 'https://t.co/EslEB48Azr', 'entities': {'url': {'urls': [{'url': 'https://t.co/EslEB48Azr', 'expanded_url': 'http://wangzhihao.com.cn', 'display_url': 'wangzhihao.com.cn', 'indices': [0, 23]}]}, 'description': {'urls': []}}, 'protected': False, 'followers_count': 26, 'friends_count': 106, 'listed_count': 0, 'created_at': 'Mon Apr 30 12:56:54 +0000 2012', 'favourites_count': 9, 'utc_offset': None, 'time_zone': None, 'geo_enabled': True, 'verified': False, 'statuses_count': 23, 'lang': 'zh-cn', 'contributors_enabled': False, 'is_translator': False, 'is_translation_enabled': False, 'profile_background_color': 'C0DEED', 'profile_background_image_url': 'http://abs.twimg.com/images/themes/theme1/bg.png', 'profile_background_image_url_https': 'https://abs.twimg.com/images/themes/theme1/bg.png', 'profile_background_tile': False, 'profile_image_url': 'http://pbs.twimg.com/profile_images/879196921641947136/V5BjNS0c_normal.jpg', 'profile_image_url_https': 'https://pbs.twimg.com/profile_images/879196921641947136/V5BjNS0c_normal.jpg', 'profile_banner_url': 'https://pbs.twimg.com/profile_banners/567206965/1429080886', 'profile_link_color': '1DA1F2', 'profile_sidebar_border_color': 'C0DEED', 'profile_sidebar_fill_color': 'DDEEF6', 'profile_text_color': '333333', 'profile_use_background_image': True, 'has_extended_profile': True, 'default_profile': True, 'default_profile_image': False, 'following': None, 'follow_request_sent': None, 'notifications': None, 'translator_type': 'none'}, 'geo': {'type': 'Point', 'coordinates': [-33.8596155, 151.2085887]}, 'coordinates': {'type': 'Point', 'coordinates': [151.2085887, -33.8596155]}, 'place': {'id': '0073b76548e5984f', 'url': 'https://api.twitter.com/1.1/geo/id/0073b76548e5984f.json', 'place_type': 'city', 'name': 'Sydney', 'full_name': 'Sydney, New South Wales', 'country_code': 'AU', 'country': 'Australia', 'contained_within': [], 'bounding_box': {'type': 'Polygon', 'coordinates': [[[150.520928608, -34.1183470085], [151.343020992, -34.1183470085], [151.343020992, -33.578140996], [150.520928608, -33.578140996]]]}, 'attributes': {}}, 'contributors': None, 'is_quote_status': False, 'retweet_count': 0, 'favorite_count': 0, 'favorited': False, 'retweeted': False, 'possibly_sensitive': False, 'lang': 'en'}, created_at=datetime.datetime(2017, 10, 5, 3, 47, 21), id=915785455542591489, id_str='915785455542591489', text='Hello, Apple. #applestore #sydney #australia @ Apple Store Sydney https://t.co/BXde8zXPQW', truncated=False, entities={'hashtags': [{'text': 'applestore', 'indices': [14, 25]}, {'text': 'sydney', 'indices': [26, 33]}, {'text': 'australia', 'indices': [34, 44]}], 'symbols': [], 'user_mentions': [], 'urls': [{'url': 'https://t.co/BXde8zXPQW', 'expanded_url': 'https://www.instagram.com/p/BZ2g3dLDFpL/', 'display_url': 'instagram.com/p/BZ2g3dLDFpL/', 'indices': [66, 89]}]}, metadata={'iso_language_code': 'en', 'result_type': 'recent'}, source='Instagram', source_url='http://instagram.com', in_reply_to_status_id=None, in_reply_to_status_id_str=None, in_reply_to_user_id=None, in_reply_to_user_id_str=None, in_reply_to_screen_name=None, author=User(_api=<tweepy.api.API object at 0x000002BBBE782128>, _json={'id': 567206965, 'id_str': '567206965', 'name': 'Mew', 'screen_name': 'Mew0629', 'location': 'Beijing', 'description': '', 'url': 'https://t.co/EslEB48Azr', 'entities': {'url': {'urls': [{'url': 'https://t.co/EslEB48Azr', 'expanded_url': 'http://wangzhihao.com.cn', 'display_url': 'wangzhihao.com.cn', 'indices': [0, 23]}]}, 'description': {'urls': []}}, 'protected': False, 'followers_count': 26, 'friends_count': 106, 'listed_count': 0, 'created_at': 'Mon Apr 30 12:56:54 +0000 2012', 'favourites_count': 9, 'utc_offset': None, 'time_zone': None, 'geo_enabled': True, 'verified': False, 'statuses_count': 23, 'lang': 'zh-cn', 'contributors_enabled': False, 'is_translator': False, 'is_translation_enabled': False, 'profile_background_color': 'C0DEED', 'profile_background_image_url': 'http://abs.twimg.com/images/themes/theme1/bg.png', 'profile_background_image_url_https': 'https://abs.twimg.com/images/themes/theme1/bg.png', 'profile_background_tile': False, 'profile_image_url': 'http://pbs.twimg.com/profile_images/879196921641947136/V5BjNS0c_normal.jpg', 'profile_image_url_https': 'https://pbs.twimg.com/profile_images/879196921641947136/V5BjNS0c_normal.jpg', 'profile_banner_url': 'https://pbs.twimg.com/profile_banners/567206965/1429080886', 'profile_link_color': '1DA1F2', 'profile_sidebar_border_color': 'C0DEED', 'profile_sidebar_fill_color': 'DDEEF6', 'profile_text_color': '333333', 'profile_use_background_image': True, 'has_extended_profile': True, 'default_profile': True, 'default_profile_image': False, 'following': None, 'follow_request_sent': None, 'notifications': None, 'translator_type': 'none'}, id=567206965, id_str='567206965', name='Mew', screen_name='Mew0629', location='Beijing', description='', url='https://t.co/EslEB48Azr', entities={'url': {'urls': [{'url': 'https://t.co/EslEB48Azr', 'expanded_url': 'http://wangzhihao.com.cn', 'display_url': 'wangzhihao.com.cn', 'indices': [0, 23]}]}, 'description': {'urls': []}}, protected=False, followers_count=26, friends_count=106, listed_count=0, created_at=datetime.datetime(2012, 4, 30, 12, 56, 54), favourites_count=9, utc_offset=None, time_zone=None, geo_enabled=True, verified=False, statuses_count=23, lang='zh-cn', contributors_enabled=False, is_translator=False, is_translation_enabled=False, profile_background_color='C0DEED', profile_background_image_url='http://abs.twimg.com/images/themes/theme1/bg.png', profile_background_image_url_https='https://abs.twimg.com/images/themes/theme1/bg.png', profile_background_tile=False, profile_image_url='http://pbs.twimg.com/profile_images/879196921641947136/V5BjNS0c_normal.jpg', profile_image_url_https='https://pbs.twimg.com/profile_images/879196921641947136/V5BjNS0c_normal.jpg', profile_banner_url='https://pbs.twimg.com/profile_banners/567206965/1429080886', profile_link_color='1DA1F2', profile_sidebar_border_color='C0DEED', profile_sidebar_fill_color='DDEEF6', profile_text_color='333333', profile_use_background_image=True, has_extended_profile=True, default_profile=True, default_profile_image=False, following=False, follow_request_sent=None, notifications=None, translator_type='none'), user=User(_api=<tweepy.api.API object at 0x000002BBBE782128>, _json={'id': 567206965, 'id_str': '567206965', 'name': 'Mew', 'screen_name': 'Mew0629', 'location': 'Beijing', 'description': '', 'url': 'https://t.co/EslEB48Azr', 'entities': {'url': {'urls': [{'url': 'https://t.co/EslEB48Azr', 'expanded_url': 'http://wangzhihao.com.cn', 'display_url': 'wangzhihao.com.cn', 'indices': [0, 23]}]}, 'description': {'urls': []}}, 'protected': False, 'followers_count': 26, 'friends_count': 106, 'listed_count': 0, 'created_at': 'Mon Apr 30 12:56:54 +0000 2012', 'favourites_count': 9, 'utc_offset': None, 'time_zone': None, 'geo_enabled': True, 'verified': False, 'statuses_count': 23, 'lang': 'zh-cn', 'contributors_enabled': False, 'is_translator': False, 'is_translation_enabled': False, 'profile_background_color': 'C0DEED', 'profile_background_image_url': 'http://abs.twimg.com/images/themes/theme1/bg.png', 'profile_background_image_url_https': 'https://abs.twimg.com/images/themes/theme1/bg.png', 'profile_background_tile': False, 'profile_image_url': 'http://pbs.twimg.com/profile_images/879196921641947136/V5BjNS0c_normal.jpg', 'profile_image_url_https': 'https://pbs.twimg.com/profile_images/879196921641947136/V5BjNS0c_normal.jpg', 'profile_banner_url': 'https://pbs.twimg.com/profile_banners/567206965/1429080886', 'profile_link_color': '1DA1F2', 'profile_sidebar_border_color': 'C0DEED', 'profile_sidebar_fill_color': 'DDEEF6', 'profile_text_color': '333333', 'profile_use_background_image': True, 'has_extended_profile': True, 'default_profile': True, 'default_profile_image': False, 'following': None, 'follow_request_sent': None, 'notifications': None, 'translator_type': 'none'}, id=567206965, id_str='567206965', name='Mew', screen_name='Mew0629', location='Beijing', description='', url='https://t.co/EslEB48Azr', entities={'url': {'urls': [{'url': 'https://t.co/EslEB48Azr', 'expanded_url': 'http://wangzhihao.com.cn', 'display_url': 'wangzhihao.com.cn', 'indices': [0, 23]}]}, 'description': {'urls': []}}, protected=False, followers_count=26, friends_count=106, listed_count=0, created_at=datetime.datetime(2012, 4, 30, 12, 56, 54), favourites_count=9, utc_offset=None, time_zone=None, geo_enabled=True, verified=False, statuses_count=23, lang='zh-cn', contributors_enabled=False, is_translator=False, is_translation_enabled=False, profile_background_color='C0DEED', profile_background_image_url='http://abs.twimg.com/images/themes/theme1/bg.png', profile_background_image_url_https='https://abs.twimg.com/images/themes/theme1/bg.png', profile_background_tile=False, profile_image_url='http://pbs.twimg.com/profile_images/879196921641947136/V5BjNS0c_normal.jpg', profile_image_url_https='https://pbs.twimg.com/profile_images/879196921641947136/V5BjNS0c_normal.jpg', profile_banner_url='https://pbs.twimg.com/profile_banners/567206965/1429080886', profile_link_color='1DA1F2', profile_sidebar_border_color='C0DEED', profile_sidebar_fill_color='DDEEF6', profile_text_color='333333', profile_use_background_image=True, has_extended_profile=True, default_profile=True, default_profile_image=False, following=False, follow_request_sent=None, notifications=None, translator_type='none'), geo={'type': 'Point', 'coordinates': [-33.8596155, 151.2085887]}, coordinates={'type': 'Point', 'coordinates': [151.2085887, -33.8596155]}, place=Place(_api=<tweepy.api.API object at 0x000002BBBE782128>, id='0073b76548e5984f', url='https://api.twitter.com/1.1/geo/id/0073b76548e5984f.json', place_type='city', name='Sydney', full_name='Sydney, New South Wales', country_code='AU', country='Australia', contained_within=[], bounding_box=BoundingBox(_api=<tweepy.api.API object at 0x000002BBBE782128>, type='Polygon', coordinates=[[[150.520928608, -34.1183470085], [151.343020992, -34.1183470085], [151.343020992, -33.578140996], [150.520928608, -33.578140996]]]), attributes={}), contributors=None, is_quote_status=False, retweet_count=0, favorite_count=0, favorited=False, retweeted=False, possibly_sensitive=False, lang='en')>\n",
      "\n",
      "entities : {'hashtags': [{'text': 'applestore', 'indices': [14, 25]}, {'text': 'sydney', 'indices': [26, 33]}, {'text': 'australia', 'indices': [34, 44]}], 'symbols': [], 'user_mentions': [], 'urls': [{'url': 'https://t.co/BXde8zXPQW', 'expanded_url': 'https://www.instagram.com/p/BZ2g3dLDFpL/', 'display_url': 'instagram.com/p/BZ2g3dLDFpL/', 'indices': [66, 89]}]}\n",
      "\n",
      "favorite : <bound method Status.favorite of Status(_api=<tweepy.api.API object at 0x000002BBBE782128>, _json={'created_at': 'Thu Oct 05 03:47:21 +0000 2017', 'id': 915785455542591489, 'id_str': '915785455542591489', 'text': 'Hello, Apple. #applestore #sydney #australia @ Apple Store Sydney https://t.co/BXde8zXPQW', 'truncated': False, 'entities': {'hashtags': [{'text': 'applestore', 'indices': [14, 25]}, {'text': 'sydney', 'indices': [26, 33]}, {'text': 'australia', 'indices': [34, 44]}], 'symbols': [], 'user_mentions': [], 'urls': [{'url': 'https://t.co/BXde8zXPQW', 'expanded_url': 'https://www.instagram.com/p/BZ2g3dLDFpL/', 'display_url': 'instagram.com/p/BZ2g3dLDFpL/', 'indices': [66, 89]}]}, 'metadata': {'iso_language_code': 'en', 'result_type': 'recent'}, 'source': '<a href=\"http://instagram.com\" rel=\"nofollow\">Instagram</a>', 'in_reply_to_status_id': None, 'in_reply_to_status_id_str': None, 'in_reply_to_user_id': None, 'in_reply_to_user_id_str': None, 'in_reply_to_screen_name': None, 'user': {'id': 567206965, 'id_str': '567206965', 'name': 'Mew', 'screen_name': 'Mew0629', 'location': 'Beijing', 'description': '', 'url': 'https://t.co/EslEB48Azr', 'entities': {'url': {'urls': [{'url': 'https://t.co/EslEB48Azr', 'expanded_url': 'http://wangzhihao.com.cn', 'display_url': 'wangzhihao.com.cn', 'indices': [0, 23]}]}, 'description': {'urls': []}}, 'protected': False, 'followers_count': 26, 'friends_count': 106, 'listed_count': 0, 'created_at': 'Mon Apr 30 12:56:54 +0000 2012', 'favourites_count': 9, 'utc_offset': None, 'time_zone': None, 'geo_enabled': True, 'verified': False, 'statuses_count': 23, 'lang': 'zh-cn', 'contributors_enabled': False, 'is_translator': False, 'is_translation_enabled': False, 'profile_background_color': 'C0DEED', 'profile_background_image_url': 'http://abs.twimg.com/images/themes/theme1/bg.png', 'profile_background_image_url_https': 'https://abs.twimg.com/images/themes/theme1/bg.png', 'profile_background_tile': False, 'profile_image_url': 'http://pbs.twimg.com/profile_images/879196921641947136/V5BjNS0c_normal.jpg', 'profile_image_url_https': 'https://pbs.twimg.com/profile_images/879196921641947136/V5BjNS0c_normal.jpg', 'profile_banner_url': 'https://pbs.twimg.com/profile_banners/567206965/1429080886', 'profile_link_color': '1DA1F2', 'profile_sidebar_border_color': 'C0DEED', 'profile_sidebar_fill_color': 'DDEEF6', 'profile_text_color': '333333', 'profile_use_background_image': True, 'has_extended_profile': True, 'default_profile': True, 'default_profile_image': False, 'following': None, 'follow_request_sent': None, 'notifications': None, 'translator_type': 'none'}, 'geo': {'type': 'Point', 'coordinates': [-33.8596155, 151.2085887]}, 'coordinates': {'type': 'Point', 'coordinates': [151.2085887, -33.8596155]}, 'place': {'id': '0073b76548e5984f', 'url': 'https://api.twitter.com/1.1/geo/id/0073b76548e5984f.json', 'place_type': 'city', 'name': 'Sydney', 'full_name': 'Sydney, New South Wales', 'country_code': 'AU', 'country': 'Australia', 'contained_within': [], 'bounding_box': {'type': 'Polygon', 'coordinates': [[[150.520928608, -34.1183470085], [151.343020992, -34.1183470085], [151.343020992, -33.578140996], [150.520928608, -33.578140996]]]}, 'attributes': {}}, 'contributors': None, 'is_quote_status': False, 'retweet_count': 0, 'favorite_count': 0, 'favorited': False, 'retweeted': False, 'possibly_sensitive': False, 'lang': 'en'}, created_at=datetime.datetime(2017, 10, 5, 3, 47, 21), id=915785455542591489, id_str='915785455542591489', text='Hello, Apple. #applestore #sydney #australia @ Apple Store Sydney https://t.co/BXde8zXPQW', truncated=False, entities={'hashtags': [{'text': 'applestore', 'indices': [14, 25]}, {'text': 'sydney', 'indices': [26, 33]}, {'text': 'australia', 'indices': [34, 44]}], 'symbols': [], 'user_mentions': [], 'urls': [{'url': 'https://t.co/BXde8zXPQW', 'expanded_url': 'https://www.instagram.com/p/BZ2g3dLDFpL/', 'display_url': 'instagram.com/p/BZ2g3dLDFpL/', 'indices': [66, 89]}]}, metadata={'iso_language_code': 'en', 'result_type': 'recent'}, source='Instagram', source_url='http://instagram.com', in_reply_to_status_id=None, in_reply_to_status_id_str=None, in_reply_to_user_id=None, in_reply_to_user_id_str=None, in_reply_to_screen_name=None, author=User(_api=<tweepy.api.API object at 0x000002BBBE782128>, _json={'id': 567206965, 'id_str': '567206965', 'name': 'Mew', 'screen_name': 'Mew0629', 'location': 'Beijing', 'description': '', 'url': 'https://t.co/EslEB48Azr', 'entities': {'url': {'urls': [{'url': 'https://t.co/EslEB48Azr', 'expanded_url': 'http://wangzhihao.com.cn', 'display_url': 'wangzhihao.com.cn', 'indices': [0, 23]}]}, 'description': {'urls': []}}, 'protected': False, 'followers_count': 26, 'friends_count': 106, 'listed_count': 0, 'created_at': 'Mon Apr 30 12:56:54 +0000 2012', 'favourites_count': 9, 'utc_offset': None, 'time_zone': None, 'geo_enabled': True, 'verified': False, 'statuses_count': 23, 'lang': 'zh-cn', 'contributors_enabled': False, 'is_translator': False, 'is_translation_enabled': False, 'profile_background_color': 'C0DEED', 'profile_background_image_url': 'http://abs.twimg.com/images/themes/theme1/bg.png', 'profile_background_image_url_https': 'https://abs.twimg.com/images/themes/theme1/bg.png', 'profile_background_tile': False, 'profile_image_url': 'http://pbs.twimg.com/profile_images/879196921641947136/V5BjNS0c_normal.jpg', 'profile_image_url_https': 'https://pbs.twimg.com/profile_images/879196921641947136/V5BjNS0c_normal.jpg', 'profile_banner_url': 'https://pbs.twimg.com/profile_banners/567206965/1429080886', 'profile_link_color': '1DA1F2', 'profile_sidebar_border_color': 'C0DEED', 'profile_sidebar_fill_color': 'DDEEF6', 'profile_text_color': '333333', 'profile_use_background_image': True, 'has_extended_profile': True, 'default_profile': True, 'default_profile_image': False, 'following': None, 'follow_request_sent': None, 'notifications': None, 'translator_type': 'none'}, id=567206965, id_str='567206965', name='Mew', screen_name='Mew0629', location='Beijing', description='', url='https://t.co/EslEB48Azr', entities={'url': {'urls': [{'url': 'https://t.co/EslEB48Azr', 'expanded_url': 'http://wangzhihao.com.cn', 'display_url': 'wangzhihao.com.cn', 'indices': [0, 23]}]}, 'description': {'urls': []}}, protected=False, followers_count=26, friends_count=106, listed_count=0, created_at=datetime.datetime(2012, 4, 30, 12, 56, 54), favourites_count=9, utc_offset=None, time_zone=None, geo_enabled=True, verified=False, statuses_count=23, lang='zh-cn', contributors_enabled=False, is_translator=False, is_translation_enabled=False, profile_background_color='C0DEED', profile_background_image_url='http://abs.twimg.com/images/themes/theme1/bg.png', profile_background_image_url_https='https://abs.twimg.com/images/themes/theme1/bg.png', profile_background_tile=False, profile_image_url='http://pbs.twimg.com/profile_images/879196921641947136/V5BjNS0c_normal.jpg', profile_image_url_https='https://pbs.twimg.com/profile_images/879196921641947136/V5BjNS0c_normal.jpg', profile_banner_url='https://pbs.twimg.com/profile_banners/567206965/1429080886', profile_link_color='1DA1F2', profile_sidebar_border_color='C0DEED', profile_sidebar_fill_color='DDEEF6', profile_text_color='333333', profile_use_background_image=True, has_extended_profile=True, default_profile=True, default_profile_image=False, following=False, follow_request_sent=None, notifications=None, translator_type='none'), user=User(_api=<tweepy.api.API object at 0x000002BBBE782128>, _json={'id': 567206965, 'id_str': '567206965', 'name': 'Mew', 'screen_name': 'Mew0629', 'location': 'Beijing', 'description': '', 'url': 'https://t.co/EslEB48Azr', 'entities': {'url': {'urls': [{'url': 'https://t.co/EslEB48Azr', 'expanded_url': 'http://wangzhihao.com.cn', 'display_url': 'wangzhihao.com.cn', 'indices': [0, 23]}]}, 'description': {'urls': []}}, 'protected': False, 'followers_count': 26, 'friends_count': 106, 'listed_count': 0, 'created_at': 'Mon Apr 30 12:56:54 +0000 2012', 'favourites_count': 9, 'utc_offset': None, 'time_zone': None, 'geo_enabled': True, 'verified': False, 'statuses_count': 23, 'lang': 'zh-cn', 'contributors_enabled': False, 'is_translator': False, 'is_translation_enabled': False, 'profile_background_color': 'C0DEED', 'profile_background_image_url': 'http://abs.twimg.com/images/themes/theme1/bg.png', 'profile_background_image_url_https': 'https://abs.twimg.com/images/themes/theme1/bg.png', 'profile_background_tile': False, 'profile_image_url': 'http://pbs.twimg.com/profile_images/879196921641947136/V5BjNS0c_normal.jpg', 'profile_image_url_https': 'https://pbs.twimg.com/profile_images/879196921641947136/V5BjNS0c_normal.jpg', 'profile_banner_url': 'https://pbs.twimg.com/profile_banners/567206965/1429080886', 'profile_link_color': '1DA1F2', 'profile_sidebar_border_color': 'C0DEED', 'profile_sidebar_fill_color': 'DDEEF6', 'profile_text_color': '333333', 'profile_use_background_image': True, 'has_extended_profile': True, 'default_profile': True, 'default_profile_image': False, 'following': None, 'follow_request_sent': None, 'notifications': None, 'translator_type': 'none'}, id=567206965, id_str='567206965', name='Mew', screen_name='Mew0629', location='Beijing', description='', url='https://t.co/EslEB48Azr', entities={'url': {'urls': [{'url': 'https://t.co/EslEB48Azr', 'expanded_url': 'http://wangzhihao.com.cn', 'display_url': 'wangzhihao.com.cn', 'indices': [0, 23]}]}, 'description': {'urls': []}}, protected=False, followers_count=26, friends_count=106, listed_count=0, created_at=datetime.datetime(2012, 4, 30, 12, 56, 54), favourites_count=9, utc_offset=None, time_zone=None, geo_enabled=True, verified=False, statuses_count=23, lang='zh-cn', contributors_enabled=False, is_translator=False, is_translation_enabled=False, profile_background_color='C0DEED', profile_background_image_url='http://abs.twimg.com/images/themes/theme1/bg.png', profile_background_image_url_https='https://abs.twimg.com/images/themes/theme1/bg.png', profile_background_tile=False, profile_image_url='http://pbs.twimg.com/profile_images/879196921641947136/V5BjNS0c_normal.jpg', profile_image_url_https='https://pbs.twimg.com/profile_images/879196921641947136/V5BjNS0c_normal.jpg', profile_banner_url='https://pbs.twimg.com/profile_banners/567206965/1429080886', profile_link_color='1DA1F2', profile_sidebar_border_color='C0DEED', profile_sidebar_fill_color='DDEEF6', profile_text_color='333333', profile_use_background_image=True, has_extended_profile=True, default_profile=True, default_profile_image=False, following=False, follow_request_sent=None, notifications=None, translator_type='none'), geo={'type': 'Point', 'coordinates': [-33.8596155, 151.2085887]}, coordinates={'type': 'Point', 'coordinates': [151.2085887, -33.8596155]}, place=Place(_api=<tweepy.api.API object at 0x000002BBBE782128>, id='0073b76548e5984f', url='https://api.twitter.com/1.1/geo/id/0073b76548e5984f.json', place_type='city', name='Sydney', full_name='Sydney, New South Wales', country_code='AU', country='Australia', contained_within=[], bounding_box=BoundingBox(_api=<tweepy.api.API object at 0x000002BBBE782128>, type='Polygon', coordinates=[[[150.520928608, -34.1183470085], [151.343020992, -34.1183470085], [151.343020992, -33.578140996], [150.520928608, -33.578140996]]]), attributes={}), contributors=None, is_quote_status=False, retweet_count=0, favorite_count=0, favorited=False, retweeted=False, possibly_sensitive=False, lang='en')>\n",
      "\n",
      "favorite_count : 0\n",
      "\n",
      "favorited : False\n",
      "\n",
      "geo : {'type': 'Point', 'coordinates': [-33.8596155, 151.2085887]}\n",
      "\n",
      "id : 915785455542591489\n",
      "\n",
      "id_str : 915785455542591489\n",
      "\n",
      "in_reply_to_screen_name : None\n",
      "\n",
      "in_reply_to_status_id : None\n",
      "\n",
      "in_reply_to_status_id_str : None\n",
      "\n",
      "in_reply_to_user_id : None\n",
      "\n",
      "in_reply_to_user_id_str : None\n",
      "\n",
      "is_quote_status : False\n",
      "\n",
      "lang : en\n",
      "\n",
      "metadata : {'iso_language_code': 'en', 'result_type': 'recent'}\n",
      "\n",
      "parse : <bound method Status.parse of <class 'tweepy.models.Status'>>\n",
      "\n",
      "parse_list : <bound method Model.parse_list of <class 'tweepy.models.Status'>>\n",
      "\n",
      "place : Place(_api=<tweepy.api.API object at 0x000002BBBE782128>, id='0073b76548e5984f', url='https://api.twitter.com/1.1/geo/id/0073b76548e5984f.json', place_type='city', name='Sydney', full_name='Sydney, New South Wales', country_code='AU', country='Australia', contained_within=[], bounding_box=BoundingBox(_api=<tweepy.api.API object at 0x000002BBBE782128>, type='Polygon', coordinates=[[[150.520928608, -34.1183470085], [151.343020992, -34.1183470085], [151.343020992, -33.578140996], [150.520928608, -33.578140996]]]), attributes={})\n",
      "\n",
      "possibly_sensitive : False\n",
      "\n",
      "retweet : <bound method Status.retweet of Status(_api=<tweepy.api.API object at 0x000002BBBE782128>, _json={'created_at': 'Thu Oct 05 03:47:21 +0000 2017', 'id': 915785455542591489, 'id_str': '915785455542591489', 'text': 'Hello, Apple. #applestore #sydney #australia @ Apple Store Sydney https://t.co/BXde8zXPQW', 'truncated': False, 'entities': {'hashtags': [{'text': 'applestore', 'indices': [14, 25]}, {'text': 'sydney', 'indices': [26, 33]}, {'text': 'australia', 'indices': [34, 44]}], 'symbols': [], 'user_mentions': [], 'urls': [{'url': 'https://t.co/BXde8zXPQW', 'expanded_url': 'https://www.instagram.com/p/BZ2g3dLDFpL/', 'display_url': 'instagram.com/p/BZ2g3dLDFpL/', 'indices': [66, 89]}]}, 'metadata': {'iso_language_code': 'en', 'result_type': 'recent'}, 'source': '<a href=\"http://instagram.com\" rel=\"nofollow\">Instagram</a>', 'in_reply_to_status_id': None, 'in_reply_to_status_id_str': None, 'in_reply_to_user_id': None, 'in_reply_to_user_id_str': None, 'in_reply_to_screen_name': None, 'user': {'id': 567206965, 'id_str': '567206965', 'name': 'Mew', 'screen_name': 'Mew0629', 'location': 'Beijing', 'description': '', 'url': 'https://t.co/EslEB48Azr', 'entities': {'url': {'urls': [{'url': 'https://t.co/EslEB48Azr', 'expanded_url': 'http://wangzhihao.com.cn', 'display_url': 'wangzhihao.com.cn', 'indices': [0, 23]}]}, 'description': {'urls': []}}, 'protected': False, 'followers_count': 26, 'friends_count': 106, 'listed_count': 0, 'created_at': 'Mon Apr 30 12:56:54 +0000 2012', 'favourites_count': 9, 'utc_offset': None, 'time_zone': None, 'geo_enabled': True, 'verified': False, 'statuses_count': 23, 'lang': 'zh-cn', 'contributors_enabled': False, 'is_translator': False, 'is_translation_enabled': False, 'profile_background_color': 'C0DEED', 'profile_background_image_url': 'http://abs.twimg.com/images/themes/theme1/bg.png', 'profile_background_image_url_https': 'https://abs.twimg.com/images/themes/theme1/bg.png', 'profile_background_tile': False, 'profile_image_url': 'http://pbs.twimg.com/profile_images/879196921641947136/V5BjNS0c_normal.jpg', 'profile_image_url_https': 'https://pbs.twimg.com/profile_images/879196921641947136/V5BjNS0c_normal.jpg', 'profile_banner_url': 'https://pbs.twimg.com/profile_banners/567206965/1429080886', 'profile_link_color': '1DA1F2', 'profile_sidebar_border_color': 'C0DEED', 'profile_sidebar_fill_color': 'DDEEF6', 'profile_text_color': '333333', 'profile_use_background_image': True, 'has_extended_profile': True, 'default_profile': True, 'default_profile_image': False, 'following': None, 'follow_request_sent': None, 'notifications': None, 'translator_type': 'none'}, 'geo': {'type': 'Point', 'coordinates': [-33.8596155, 151.2085887]}, 'coordinates': {'type': 'Point', 'coordinates': [151.2085887, -33.8596155]}, 'place': {'id': '0073b76548e5984f', 'url': 'https://api.twitter.com/1.1/geo/id/0073b76548e5984f.json', 'place_type': 'city', 'name': 'Sydney', 'full_name': 'Sydney, New South Wales', 'country_code': 'AU', 'country': 'Australia', 'contained_within': [], 'bounding_box': {'type': 'Polygon', 'coordinates': [[[150.520928608, -34.1183470085], [151.343020992, -34.1183470085], [151.343020992, -33.578140996], [150.520928608, -33.578140996]]]}, 'attributes': {}}, 'contributors': None, 'is_quote_status': False, 'retweet_count': 0, 'favorite_count': 0, 'favorited': False, 'retweeted': False, 'possibly_sensitive': False, 'lang': 'en'}, created_at=datetime.datetime(2017, 10, 5, 3, 47, 21), id=915785455542591489, id_str='915785455542591489', text='Hello, Apple. #applestore #sydney #australia @ Apple Store Sydney https://t.co/BXde8zXPQW', truncated=False, entities={'hashtags': [{'text': 'applestore', 'indices': [14, 25]}, {'text': 'sydney', 'indices': [26, 33]}, {'text': 'australia', 'indices': [34, 44]}], 'symbols': [], 'user_mentions': [], 'urls': [{'url': 'https://t.co/BXde8zXPQW', 'expanded_url': 'https://www.instagram.com/p/BZ2g3dLDFpL/', 'display_url': 'instagram.com/p/BZ2g3dLDFpL/', 'indices': [66, 89]}]}, metadata={'iso_language_code': 'en', 'result_type': 'recent'}, source='Instagram', source_url='http://instagram.com', in_reply_to_status_id=None, in_reply_to_status_id_str=None, in_reply_to_user_id=None, in_reply_to_user_id_str=None, in_reply_to_screen_name=None, author=User(_api=<tweepy.api.API object at 0x000002BBBE782128>, _json={'id': 567206965, 'id_str': '567206965', 'name': 'Mew', 'screen_name': 'Mew0629', 'location': 'Beijing', 'description': '', 'url': 'https://t.co/EslEB48Azr', 'entities': {'url': {'urls': [{'url': 'https://t.co/EslEB48Azr', 'expanded_url': 'http://wangzhihao.com.cn', 'display_url': 'wangzhihao.com.cn', 'indices': [0, 23]}]}, 'description': {'urls': []}}, 'protected': False, 'followers_count': 26, 'friends_count': 106, 'listed_count': 0, 'created_at': 'Mon Apr 30 12:56:54 +0000 2012', 'favourites_count': 9, 'utc_offset': None, 'time_zone': None, 'geo_enabled': True, 'verified': False, 'statuses_count': 23, 'lang': 'zh-cn', 'contributors_enabled': False, 'is_translator': False, 'is_translation_enabled': False, 'profile_background_color': 'C0DEED', 'profile_background_image_url': 'http://abs.twimg.com/images/themes/theme1/bg.png', 'profile_background_image_url_https': 'https://abs.twimg.com/images/themes/theme1/bg.png', 'profile_background_tile': False, 'profile_image_url': 'http://pbs.twimg.com/profile_images/879196921641947136/V5BjNS0c_normal.jpg', 'profile_image_url_https': 'https://pbs.twimg.com/profile_images/879196921641947136/V5BjNS0c_normal.jpg', 'profile_banner_url': 'https://pbs.twimg.com/profile_banners/567206965/1429080886', 'profile_link_color': '1DA1F2', 'profile_sidebar_border_color': 'C0DEED', 'profile_sidebar_fill_color': 'DDEEF6', 'profile_text_color': '333333', 'profile_use_background_image': True, 'has_extended_profile': True, 'default_profile': True, 'default_profile_image': False, 'following': None, 'follow_request_sent': None, 'notifications': None, 'translator_type': 'none'}, id=567206965, id_str='567206965', name='Mew', screen_name='Mew0629', location='Beijing', description='', url='https://t.co/EslEB48Azr', entities={'url': {'urls': [{'url': 'https://t.co/EslEB48Azr', 'expanded_url': 'http://wangzhihao.com.cn', 'display_url': 'wangzhihao.com.cn', 'indices': [0, 23]}]}, 'description': {'urls': []}}, protected=False, followers_count=26, friends_count=106, listed_count=0, created_at=datetime.datetime(2012, 4, 30, 12, 56, 54), favourites_count=9, utc_offset=None, time_zone=None, geo_enabled=True, verified=False, statuses_count=23, lang='zh-cn', contributors_enabled=False, is_translator=False, is_translation_enabled=False, profile_background_color='C0DEED', profile_background_image_url='http://abs.twimg.com/images/themes/theme1/bg.png', profile_background_image_url_https='https://abs.twimg.com/images/themes/theme1/bg.png', profile_background_tile=False, profile_image_url='http://pbs.twimg.com/profile_images/879196921641947136/V5BjNS0c_normal.jpg', profile_image_url_https='https://pbs.twimg.com/profile_images/879196921641947136/V5BjNS0c_normal.jpg', profile_banner_url='https://pbs.twimg.com/profile_banners/567206965/1429080886', profile_link_color='1DA1F2', profile_sidebar_border_color='C0DEED', profile_sidebar_fill_color='DDEEF6', profile_text_color='333333', profile_use_background_image=True, has_extended_profile=True, default_profile=True, default_profile_image=False, following=False, follow_request_sent=None, notifications=None, translator_type='none'), user=User(_api=<tweepy.api.API object at 0x000002BBBE782128>, _json={'id': 567206965, 'id_str': '567206965', 'name': 'Mew', 'screen_name': 'Mew0629', 'location': 'Beijing', 'description': '', 'url': 'https://t.co/EslEB48Azr', 'entities': {'url': {'urls': [{'url': 'https://t.co/EslEB48Azr', 'expanded_url': 'http://wangzhihao.com.cn', 'display_url': 'wangzhihao.com.cn', 'indices': [0, 23]}]}, 'description': {'urls': []}}, 'protected': False, 'followers_count': 26, 'friends_count': 106, 'listed_count': 0, 'created_at': 'Mon Apr 30 12:56:54 +0000 2012', 'favourites_count': 9, 'utc_offset': None, 'time_zone': None, 'geo_enabled': True, 'verified': False, 'statuses_count': 23, 'lang': 'zh-cn', 'contributors_enabled': False, 'is_translator': False, 'is_translation_enabled': False, 'profile_background_color': 'C0DEED', 'profile_background_image_url': 'http://abs.twimg.com/images/themes/theme1/bg.png', 'profile_background_image_url_https': 'https://abs.twimg.com/images/themes/theme1/bg.png', 'profile_background_tile': False, 'profile_image_url': 'http://pbs.twimg.com/profile_images/879196921641947136/V5BjNS0c_normal.jpg', 'profile_image_url_https': 'https://pbs.twimg.com/profile_images/879196921641947136/V5BjNS0c_normal.jpg', 'profile_banner_url': 'https://pbs.twimg.com/profile_banners/567206965/1429080886', 'profile_link_color': '1DA1F2', 'profile_sidebar_border_color': 'C0DEED', 'profile_sidebar_fill_color': 'DDEEF6', 'profile_text_color': '333333', 'profile_use_background_image': True, 'has_extended_profile': True, 'default_profile': True, 'default_profile_image': False, 'following': None, 'follow_request_sent': None, 'notifications': None, 'translator_type': 'none'}, id=567206965, id_str='567206965', name='Mew', screen_name='Mew0629', location='Beijing', description='', url='https://t.co/EslEB48Azr', entities={'url': {'urls': [{'url': 'https://t.co/EslEB48Azr', 'expanded_url': 'http://wangzhihao.com.cn', 'display_url': 'wangzhihao.com.cn', 'indices': [0, 23]}]}, 'description': {'urls': []}}, protected=False, followers_count=26, friends_count=106, listed_count=0, created_at=datetime.datetime(2012, 4, 30, 12, 56, 54), favourites_count=9, utc_offset=None, time_zone=None, geo_enabled=True, verified=False, statuses_count=23, lang='zh-cn', contributors_enabled=False, is_translator=False, is_translation_enabled=False, profile_background_color='C0DEED', profile_background_image_url='http://abs.twimg.com/images/themes/theme1/bg.png', profile_background_image_url_https='https://abs.twimg.com/images/themes/theme1/bg.png', profile_background_tile=False, profile_image_url='http://pbs.twimg.com/profile_images/879196921641947136/V5BjNS0c_normal.jpg', profile_image_url_https='https://pbs.twimg.com/profile_images/879196921641947136/V5BjNS0c_normal.jpg', profile_banner_url='https://pbs.twimg.com/profile_banners/567206965/1429080886', profile_link_color='1DA1F2', profile_sidebar_border_color='C0DEED', profile_sidebar_fill_color='DDEEF6', profile_text_color='333333', profile_use_background_image=True, has_extended_profile=True, default_profile=True, default_profile_image=False, following=False, follow_request_sent=None, notifications=None, translator_type='none'), geo={'type': 'Point', 'coordinates': [-33.8596155, 151.2085887]}, coordinates={'type': 'Point', 'coordinates': [151.2085887, -33.8596155]}, place=Place(_api=<tweepy.api.API object at 0x000002BBBE782128>, id='0073b76548e5984f', url='https://api.twitter.com/1.1/geo/id/0073b76548e5984f.json', place_type='city', name='Sydney', full_name='Sydney, New South Wales', country_code='AU', country='Australia', contained_within=[], bounding_box=BoundingBox(_api=<tweepy.api.API object at 0x000002BBBE782128>, type='Polygon', coordinates=[[[150.520928608, -34.1183470085], [151.343020992, -34.1183470085], [151.343020992, -33.578140996], [150.520928608, -33.578140996]]]), attributes={}), contributors=None, is_quote_status=False, retweet_count=0, favorite_count=0, favorited=False, retweeted=False, possibly_sensitive=False, lang='en')>\n",
      "\n",
      "retweet_count : 0\n",
      "\n",
      "retweeted : False\n",
      "\n",
      "retweets : <bound method Status.retweets of Status(_api=<tweepy.api.API object at 0x000002BBBE782128>, _json={'created_at': 'Thu Oct 05 03:47:21 +0000 2017', 'id': 915785455542591489, 'id_str': '915785455542591489', 'text': 'Hello, Apple. #applestore #sydney #australia @ Apple Store Sydney https://t.co/BXde8zXPQW', 'truncated': False, 'entities': {'hashtags': [{'text': 'applestore', 'indices': [14, 25]}, {'text': 'sydney', 'indices': [26, 33]}, {'text': 'australia', 'indices': [34, 44]}], 'symbols': [], 'user_mentions': [], 'urls': [{'url': 'https://t.co/BXde8zXPQW', 'expanded_url': 'https://www.instagram.com/p/BZ2g3dLDFpL/', 'display_url': 'instagram.com/p/BZ2g3dLDFpL/', 'indices': [66, 89]}]}, 'metadata': {'iso_language_code': 'en', 'result_type': 'recent'}, 'source': '<a href=\"http://instagram.com\" rel=\"nofollow\">Instagram</a>', 'in_reply_to_status_id': None, 'in_reply_to_status_id_str': None, 'in_reply_to_user_id': None, 'in_reply_to_user_id_str': None, 'in_reply_to_screen_name': None, 'user': {'id': 567206965, 'id_str': '567206965', 'name': 'Mew', 'screen_name': 'Mew0629', 'location': 'Beijing', 'description': '', 'url': 'https://t.co/EslEB48Azr', 'entities': {'url': {'urls': [{'url': 'https://t.co/EslEB48Azr', 'expanded_url': 'http://wangzhihao.com.cn', 'display_url': 'wangzhihao.com.cn', 'indices': [0, 23]}]}, 'description': {'urls': []}}, 'protected': False, 'followers_count': 26, 'friends_count': 106, 'listed_count': 0, 'created_at': 'Mon Apr 30 12:56:54 +0000 2012', 'favourites_count': 9, 'utc_offset': None, 'time_zone': None, 'geo_enabled': True, 'verified': False, 'statuses_count': 23, 'lang': 'zh-cn', 'contributors_enabled': False, 'is_translator': False, 'is_translation_enabled': False, 'profile_background_color': 'C0DEED', 'profile_background_image_url': 'http://abs.twimg.com/images/themes/theme1/bg.png', 'profile_background_image_url_https': 'https://abs.twimg.com/images/themes/theme1/bg.png', 'profile_background_tile': False, 'profile_image_url': 'http://pbs.twimg.com/profile_images/879196921641947136/V5BjNS0c_normal.jpg', 'profile_image_url_https': 'https://pbs.twimg.com/profile_images/879196921641947136/V5BjNS0c_normal.jpg', 'profile_banner_url': 'https://pbs.twimg.com/profile_banners/567206965/1429080886', 'profile_link_color': '1DA1F2', 'profile_sidebar_border_color': 'C0DEED', 'profile_sidebar_fill_color': 'DDEEF6', 'profile_text_color': '333333', 'profile_use_background_image': True, 'has_extended_profile': True, 'default_profile': True, 'default_profile_image': False, 'following': None, 'follow_request_sent': None, 'notifications': None, 'translator_type': 'none'}, 'geo': {'type': 'Point', 'coordinates': [-33.8596155, 151.2085887]}, 'coordinates': {'type': 'Point', 'coordinates': [151.2085887, -33.8596155]}, 'place': {'id': '0073b76548e5984f', 'url': 'https://api.twitter.com/1.1/geo/id/0073b76548e5984f.json', 'place_type': 'city', 'name': 'Sydney', 'full_name': 'Sydney, New South Wales', 'country_code': 'AU', 'country': 'Australia', 'contained_within': [], 'bounding_box': {'type': 'Polygon', 'coordinates': [[[150.520928608, -34.1183470085], [151.343020992, -34.1183470085], [151.343020992, -33.578140996], [150.520928608, -33.578140996]]]}, 'attributes': {}}, 'contributors': None, 'is_quote_status': False, 'retweet_count': 0, 'favorite_count': 0, 'favorited': False, 'retweeted': False, 'possibly_sensitive': False, 'lang': 'en'}, created_at=datetime.datetime(2017, 10, 5, 3, 47, 21), id=915785455542591489, id_str='915785455542591489', text='Hello, Apple. #applestore #sydney #australia @ Apple Store Sydney https://t.co/BXde8zXPQW', truncated=False, entities={'hashtags': [{'text': 'applestore', 'indices': [14, 25]}, {'text': 'sydney', 'indices': [26, 33]}, {'text': 'australia', 'indices': [34, 44]}], 'symbols': [], 'user_mentions': [], 'urls': [{'url': 'https://t.co/BXde8zXPQW', 'expanded_url': 'https://www.instagram.com/p/BZ2g3dLDFpL/', 'display_url': 'instagram.com/p/BZ2g3dLDFpL/', 'indices': [66, 89]}]}, metadata={'iso_language_code': 'en', 'result_type': 'recent'}, source='Instagram', source_url='http://instagram.com', in_reply_to_status_id=None, in_reply_to_status_id_str=None, in_reply_to_user_id=None, in_reply_to_user_id_str=None, in_reply_to_screen_name=None, author=User(_api=<tweepy.api.API object at 0x000002BBBE782128>, _json={'id': 567206965, 'id_str': '567206965', 'name': 'Mew', 'screen_name': 'Mew0629', 'location': 'Beijing', 'description': '', 'url': 'https://t.co/EslEB48Azr', 'entities': {'url': {'urls': [{'url': 'https://t.co/EslEB48Azr', 'expanded_url': 'http://wangzhihao.com.cn', 'display_url': 'wangzhihao.com.cn', 'indices': [0, 23]}]}, 'description': {'urls': []}}, 'protected': False, 'followers_count': 26, 'friends_count': 106, 'listed_count': 0, 'created_at': 'Mon Apr 30 12:56:54 +0000 2012', 'favourites_count': 9, 'utc_offset': None, 'time_zone': None, 'geo_enabled': True, 'verified': False, 'statuses_count': 23, 'lang': 'zh-cn', 'contributors_enabled': False, 'is_translator': False, 'is_translation_enabled': False, 'profile_background_color': 'C0DEED', 'profile_background_image_url': 'http://abs.twimg.com/images/themes/theme1/bg.png', 'profile_background_image_url_https': 'https://abs.twimg.com/images/themes/theme1/bg.png', 'profile_background_tile': False, 'profile_image_url': 'http://pbs.twimg.com/profile_images/879196921641947136/V5BjNS0c_normal.jpg', 'profile_image_url_https': 'https://pbs.twimg.com/profile_images/879196921641947136/V5BjNS0c_normal.jpg', 'profile_banner_url': 'https://pbs.twimg.com/profile_banners/567206965/1429080886', 'profile_link_color': '1DA1F2', 'profile_sidebar_border_color': 'C0DEED', 'profile_sidebar_fill_color': 'DDEEF6', 'profile_text_color': '333333', 'profile_use_background_image': True, 'has_extended_profile': True, 'default_profile': True, 'default_profile_image': False, 'following': None, 'follow_request_sent': None, 'notifications': None, 'translator_type': 'none'}, id=567206965, id_str='567206965', name='Mew', screen_name='Mew0629', location='Beijing', description='', url='https://t.co/EslEB48Azr', entities={'url': {'urls': [{'url': 'https://t.co/EslEB48Azr', 'expanded_url': 'http://wangzhihao.com.cn', 'display_url': 'wangzhihao.com.cn', 'indices': [0, 23]}]}, 'description': {'urls': []}}, protected=False, followers_count=26, friends_count=106, listed_count=0, created_at=datetime.datetime(2012, 4, 30, 12, 56, 54), favourites_count=9, utc_offset=None, time_zone=None, geo_enabled=True, verified=False, statuses_count=23, lang='zh-cn', contributors_enabled=False, is_translator=False, is_translation_enabled=False, profile_background_color='C0DEED', profile_background_image_url='http://abs.twimg.com/images/themes/theme1/bg.png', profile_background_image_url_https='https://abs.twimg.com/images/themes/theme1/bg.png', profile_background_tile=False, profile_image_url='http://pbs.twimg.com/profile_images/879196921641947136/V5BjNS0c_normal.jpg', profile_image_url_https='https://pbs.twimg.com/profile_images/879196921641947136/V5BjNS0c_normal.jpg', profile_banner_url='https://pbs.twimg.com/profile_banners/567206965/1429080886', profile_link_color='1DA1F2', profile_sidebar_border_color='C0DEED', profile_sidebar_fill_color='DDEEF6', profile_text_color='333333', profile_use_background_image=True, has_extended_profile=True, default_profile=True, default_profile_image=False, following=False, follow_request_sent=None, notifications=None, translator_type='none'), user=User(_api=<tweepy.api.API object at 0x000002BBBE782128>, _json={'id': 567206965, 'id_str': '567206965', 'name': 'Mew', 'screen_name': 'Mew0629', 'location': 'Beijing', 'description': '', 'url': 'https://t.co/EslEB48Azr', 'entities': {'url': {'urls': [{'url': 'https://t.co/EslEB48Azr', 'expanded_url': 'http://wangzhihao.com.cn', 'display_url': 'wangzhihao.com.cn', 'indices': [0, 23]}]}, 'description': {'urls': []}}, 'protected': False, 'followers_count': 26, 'friends_count': 106, 'listed_count': 0, 'created_at': 'Mon Apr 30 12:56:54 +0000 2012', 'favourites_count': 9, 'utc_offset': None, 'time_zone': None, 'geo_enabled': True, 'verified': False, 'statuses_count': 23, 'lang': 'zh-cn', 'contributors_enabled': False, 'is_translator': False, 'is_translation_enabled': False, 'profile_background_color': 'C0DEED', 'profile_background_image_url': 'http://abs.twimg.com/images/themes/theme1/bg.png', 'profile_background_image_url_https': 'https://abs.twimg.com/images/themes/theme1/bg.png', 'profile_background_tile': False, 'profile_image_url': 'http://pbs.twimg.com/profile_images/879196921641947136/V5BjNS0c_normal.jpg', 'profile_image_url_https': 'https://pbs.twimg.com/profile_images/879196921641947136/V5BjNS0c_normal.jpg', 'profile_banner_url': 'https://pbs.twimg.com/profile_banners/567206965/1429080886', 'profile_link_color': '1DA1F2', 'profile_sidebar_border_color': 'C0DEED', 'profile_sidebar_fill_color': 'DDEEF6', 'profile_text_color': '333333', 'profile_use_background_image': True, 'has_extended_profile': True, 'default_profile': True, 'default_profile_image': False, 'following': None, 'follow_request_sent': None, 'notifications': None, 'translator_type': 'none'}, id=567206965, id_str='567206965', name='Mew', screen_name='Mew0629', location='Beijing', description='', url='https://t.co/EslEB48Azr', entities={'url': {'urls': [{'url': 'https://t.co/EslEB48Azr', 'expanded_url': 'http://wangzhihao.com.cn', 'display_url': 'wangzhihao.com.cn', 'indices': [0, 23]}]}, 'description': {'urls': []}}, protected=False, followers_count=26, friends_count=106, listed_count=0, created_at=datetime.datetime(2012, 4, 30, 12, 56, 54), favourites_count=9, utc_offset=None, time_zone=None, geo_enabled=True, verified=False, statuses_count=23, lang='zh-cn', contributors_enabled=False, is_translator=False, is_translation_enabled=False, profile_background_color='C0DEED', profile_background_image_url='http://abs.twimg.com/images/themes/theme1/bg.png', profile_background_image_url_https='https://abs.twimg.com/images/themes/theme1/bg.png', profile_background_tile=False, profile_image_url='http://pbs.twimg.com/profile_images/879196921641947136/V5BjNS0c_normal.jpg', profile_image_url_https='https://pbs.twimg.com/profile_images/879196921641947136/V5BjNS0c_normal.jpg', profile_banner_url='https://pbs.twimg.com/profile_banners/567206965/1429080886', profile_link_color='1DA1F2', profile_sidebar_border_color='C0DEED', profile_sidebar_fill_color='DDEEF6', profile_text_color='333333', profile_use_background_image=True, has_extended_profile=True, default_profile=True, default_profile_image=False, following=False, follow_request_sent=None, notifications=None, translator_type='none'), geo={'type': 'Point', 'coordinates': [-33.8596155, 151.2085887]}, coordinates={'type': 'Point', 'coordinates': [151.2085887, -33.8596155]}, place=Place(_api=<tweepy.api.API object at 0x000002BBBE782128>, id='0073b76548e5984f', url='https://api.twitter.com/1.1/geo/id/0073b76548e5984f.json', place_type='city', name='Sydney', full_name='Sydney, New South Wales', country_code='AU', country='Australia', contained_within=[], bounding_box=BoundingBox(_api=<tweepy.api.API object at 0x000002BBBE782128>, type='Polygon', coordinates=[[[150.520928608, -34.1183470085], [151.343020992, -34.1183470085], [151.343020992, -33.578140996], [150.520928608, -33.578140996]]]), attributes={}), contributors=None, is_quote_status=False, retweet_count=0, favorite_count=0, favorited=False, retweeted=False, possibly_sensitive=False, lang='en')>\n",
      "\n",
      "source : Instagram\n",
      "\n",
      "source_url : http://instagram.com\n",
      "\n",
      "text : Hello, Apple. #applestore #sydney #australia @ Apple Store Sydney https://t.co/BXde8zXPQW\n",
      "\n",
      "truncated : False\n",
      "\n",
      "user : User(_api=<tweepy.api.API object at 0x000002BBBE782128>, _json={'id': 567206965, 'id_str': '567206965', 'name': 'Mew', 'screen_name': 'Mew0629', 'location': 'Beijing', 'description': '', 'url': 'https://t.co/EslEB48Azr', 'entities': {'url': {'urls': [{'url': 'https://t.co/EslEB48Azr', 'expanded_url': 'http://wangzhihao.com.cn', 'display_url': 'wangzhihao.com.cn', 'indices': [0, 23]}]}, 'description': {'urls': []}}, 'protected': False, 'followers_count': 26, 'friends_count': 106, 'listed_count': 0, 'created_at': 'Mon Apr 30 12:56:54 +0000 2012', 'favourites_count': 9, 'utc_offset': None, 'time_zone': None, 'geo_enabled': True, 'verified': False, 'statuses_count': 23, 'lang': 'zh-cn', 'contributors_enabled': False, 'is_translator': False, 'is_translation_enabled': False, 'profile_background_color': 'C0DEED', 'profile_background_image_url': 'http://abs.twimg.com/images/themes/theme1/bg.png', 'profile_background_image_url_https': 'https://abs.twimg.com/images/themes/theme1/bg.png', 'profile_background_tile': False, 'profile_image_url': 'http://pbs.twimg.com/profile_images/879196921641947136/V5BjNS0c_normal.jpg', 'profile_image_url_https': 'https://pbs.twimg.com/profile_images/879196921641947136/V5BjNS0c_normal.jpg', 'profile_banner_url': 'https://pbs.twimg.com/profile_banners/567206965/1429080886', 'profile_link_color': '1DA1F2', 'profile_sidebar_border_color': 'C0DEED', 'profile_sidebar_fill_color': 'DDEEF6', 'profile_text_color': '333333', 'profile_use_background_image': True, 'has_extended_profile': True, 'default_profile': True, 'default_profile_image': False, 'following': None, 'follow_request_sent': None, 'notifications': None, 'translator_type': 'none'}, id=567206965, id_str='567206965', name='Mew', screen_name='Mew0629', location='Beijing', description='', url='https://t.co/EslEB48Azr', entities={'url': {'urls': [{'url': 'https://t.co/EslEB48Azr', 'expanded_url': 'http://wangzhihao.com.cn', 'display_url': 'wangzhihao.com.cn', 'indices': [0, 23]}]}, 'description': {'urls': []}}, protected=False, followers_count=26, friends_count=106, listed_count=0, created_at=datetime.datetime(2012, 4, 30, 12, 56, 54), favourites_count=9, utc_offset=None, time_zone=None, geo_enabled=True, verified=False, statuses_count=23, lang='zh-cn', contributors_enabled=False, is_translator=False, is_translation_enabled=False, profile_background_color='C0DEED', profile_background_image_url='http://abs.twimg.com/images/themes/theme1/bg.png', profile_background_image_url_https='https://abs.twimg.com/images/themes/theme1/bg.png', profile_background_tile=False, profile_image_url='http://pbs.twimg.com/profile_images/879196921641947136/V5BjNS0c_normal.jpg', profile_image_url_https='https://pbs.twimg.com/profile_images/879196921641947136/V5BjNS0c_normal.jpg', profile_banner_url='https://pbs.twimg.com/profile_banners/567206965/1429080886', profile_link_color='1DA1F2', profile_sidebar_border_color='C0DEED', profile_sidebar_fill_color='DDEEF6', profile_text_color='333333', profile_use_background_image=True, has_extended_profile=True, default_profile=True, default_profile_image=False, following=False, follow_request_sent=None, notifications=None, translator_type='none')\n",
      "\n"
     ]
    }
   ],
   "source": [
    "# First tweet (in json format)\n",
    "tweet = result[0]\n",
    "\n",
    "# Analyzing the first tweet on all keys in the directory (except for key names beginning with \"_\")\n",
    "for param in dir(tweet):\n",
    "    if not param.startswith(\"_\"):\n",
    "        print(\"%s : %s\\n\" % (param, eval('tweet.'+param)))"
   ]
  },
  {
   "cell_type": "code",
   "execution_count": 5,
   "metadata": {},
   "outputs": [
    {
     "name": "stdout",
     "output_type": "stream",
     "text": [
      "Pretty printing has been turned OFF\n"
     ]
    }
   ],
   "source": [
    "# Turn off pretty print\n",
    "%pprint"
   ]
  },
  {
   "cell_type": "code",
   "execution_count": 6,
   "metadata": {},
   "outputs": [],
   "source": [
    "# Show all output\n",
    "from IPython.core.interactiveshell import InteractiveShell\n",
    "InteractiveShell.ast_node_interactivity = \"all\""
   ]
  },
  {
   "cell_type": "code",
   "execution_count": 7,
   "metadata": {},
   "outputs": [
    {
     "data": {
      "text/plain": [
       "'en'"
      ]
     },
     "execution_count": 7,
     "metadata": {},
     "output_type": "execute_result"
    },
    {
     "data": {
      "text/plain": [
       "'Hello, Apple. #applestore #sydney #australia @ Apple Store Sydney https://t.co/BXde8zXPQW'"
      ]
     },
     "execution_count": 7,
     "metadata": {},
     "output_type": "execute_result"
    },
    {
     "data": {
      "text/plain": [
       "0"
      ]
     },
     "execution_count": 7,
     "metadata": {},
     "output_type": "execute_result"
    },
    {
     "data": {
      "text/plain": [
       "Place(_api=<tweepy.api.API object at 0x000002BBBE782128>, id='0073b76548e5984f', url='https://api.twitter.com/1.1/geo/id/0073b76548e5984f.json', place_type='city', name='Sydney', full_name='Sydney, New South Wales', country_code='AU', country='Australia', contained_within=[], bounding_box=BoundingBox(_api=<tweepy.api.API object at 0x000002BBBE782128>, type='Polygon', coordinates=[[[150.520928608, -34.1183470085], [151.343020992, -34.1183470085], [151.343020992, -33.578140996], [150.520928608, -33.578140996]]]), attributes={})"
      ]
     },
     "execution_count": 7,
     "metadata": {},
     "output_type": "execute_result"
    },
    {
     "data": {
      "text/plain": [
       "{'type': 'Point', 'coordinates': [-33.8596155, 151.2085887]}"
      ]
     },
     "execution_count": 7,
     "metadata": {},
     "output_type": "execute_result"
    }
   ],
   "source": [
    "# Individual keys\n",
    "tweet.lang\n",
    "tweet.text\n",
    "tweet.retweet_count\n",
    "\n",
    "# Why aren't the keys below outputting anything?\n",
    "tweet.place\n",
    "tweet.geo"
   ]
  },
  {
   "cell_type": "code",
   "execution_count": 8,
   "metadata": {},
   "outputs": [
    {
     "data": {
      "text/plain": [
       "'Beijing'"
      ]
     },
     "execution_count": 8,
     "metadata": {},
     "output_type": "execute_result"
    },
    {
     "data": {
      "text/plain": [
       "datetime.datetime(2017, 10, 5, 3, 47, 21)"
      ]
     },
     "execution_count": 8,
     "metadata": {},
     "output_type": "execute_result"
    },
    {
     "data": {
      "text/plain": [
       "'Mew'"
      ]
     },
     "execution_count": 8,
     "metadata": {},
     "output_type": "execute_result"
    },
    {
     "data": {
      "text/plain": [
       "'Mew0629'"
      ]
     },
     "execution_count": 8,
     "metadata": {},
     "output_type": "execute_result"
    }
   ],
   "source": [
    "#tweet.user\n",
    "    # Looking at inidividual keys under user\n",
    "tweet.user.location\n",
    "tweet.created_at\n",
    "tweet.user.name\n",
    "tweet.user.screen_name"
   ]
  },
  {
   "cell_type": "code",
   "execution_count": 9,
   "metadata": {},
   "outputs": [
    {
     "name": "stdout",
     "output_type": "stream",
     "text": [
      "5000\n"
     ]
    }
   ],
   "source": [
    "results = []\n",
    "\n",
    "#Get the first 5000 items based on the search query\n",
    "for tweet in tweepy.Cursor(api.search, q='%23Australia').items(5000):\n",
    "    results.append(tweet)\n",
    "\n",
    "# Verify the number of items returned\n",
    "print(len(results))"
   ]
  },
  {
   "cell_type": "code",
   "execution_count": 10,
   "metadata": {},
   "outputs": [],
   "source": [
    "# Converts given tweet list into Pandas DataFrame, consisting of values only\n",
    "\n",
    "def toDataFrame(tweets):\n",
    "    DataSet = pd.DataFrame()\n",
    "    \n",
    "    DataSet['tweetID'] = [tweet.id for tweet in tweets]\n",
    "    DataSet['tweetText'] = [tweet.text for tweet in tweets]\n",
    "    DataSet['tweetRetweetCt'] = [tweet.retweet_count for tweet in tweets]\n",
    "    DataSet['tweetSource'] = [tweet.source for tweet in tweets]\n",
    "    DataSet['tweetCreated'] = [tweet.created_at for tweet in tweets]\n",
    "\n",
    "\n",
    "    DataSet['userID'] = [tweet.user.id for tweet in tweets]\n",
    "    DataSet['userScreen'] = [tweet.user.screen_name for tweet \n",
    "    in tweets]\n",
    "    DataSet['userName'] = [tweet.user.name for tweet in tweets]\n",
    "    DataSet['userCreateDt'] = [tweet.user.created_at for tweet \n",
    "    in tweets]\n",
    "    DataSet['userDesc'] = [tweet.user.description for tweet in tweets]\n",
    "    DataSet['userFollowerCt'] = [tweet.user.followers_count for tweet \n",
    "    in tweets]\n",
    "    DataSet['userFriendsCt'] = [tweet.user.friends_count for tweet \n",
    "    in tweets]\n",
    "    DataSet['userLocation'] = [tweet.user.location for tweet in tweets]\n",
    "    DataSet['userTimezone'] = [tweet.user.time_zone for tweet \n",
    "    in tweets]\n",
    "\n",
    "    return DataSet\n",
    "\n",
    "#Pass the tweets list to 'toDataFrame' to create the DataFrame\n",
    "DataSet = toDataFrame(results)"
   ]
  },
  {
   "cell_type": "code",
   "execution_count": 11,
   "metadata": {},
   "outputs": [
    {
     "data": {
      "text/html": [
       "<div>\n",
       "<style>\n",
       "    .dataframe thead tr:only-child th {\n",
       "        text-align: right;\n",
       "    }\n",
       "\n",
       "    .dataframe thead th {\n",
       "        text-align: left;\n",
       "    }\n",
       "\n",
       "    .dataframe tbody tr th {\n",
       "        vertical-align: top;\n",
       "    }\n",
       "</style>\n",
       "<table border=\"1\" class=\"dataframe\">\n",
       "  <thead>\n",
       "    <tr style=\"text-align: right;\">\n",
       "      <th></th>\n",
       "      <th>tweetID</th>\n",
       "      <th>tweetText</th>\n",
       "      <th>tweetRetweetCt</th>\n",
       "      <th>tweetSource</th>\n",
       "      <th>tweetCreated</th>\n",
       "      <th>userID</th>\n",
       "      <th>userScreen</th>\n",
       "      <th>userName</th>\n",
       "      <th>userCreateDt</th>\n",
       "      <th>userDesc</th>\n",
       "      <th>userFollowerCt</th>\n",
       "      <th>userFriendsCt</th>\n",
       "      <th>userLocation</th>\n",
       "      <th>userTimezone</th>\n",
       "    </tr>\n",
       "  </thead>\n",
       "  <tbody>\n",
       "    <tr>\n",
       "      <th>0</th>\n",
       "      <td>915785455542591489</td>\n",
       "      <td>Hello, Apple. #applestore #sydney #australia @...</td>\n",
       "      <td>0</td>\n",
       "      <td>Instagram</td>\n",
       "      <td>2017-10-05 03:47:21</td>\n",
       "      <td>567206965</td>\n",
       "      <td>Mew0629</td>\n",
       "      <td>Mew</td>\n",
       "      <td>2012-04-30 12:56:54</td>\n",
       "      <td></td>\n",
       "      <td>26</td>\n",
       "      <td>106</td>\n",
       "      <td>Beijing</td>\n",
       "      <td>None</td>\n",
       "    </tr>\n",
       "    <tr>\n",
       "      <th>1</th>\n",
       "      <td>915785320167301120</td>\n",
       "      <td>RT @itsfuturewave: Good insight into the Austr...</td>\n",
       "      <td>1</td>\n",
       "      <td>RoundTeam</td>\n",
       "      <td>2017-10-05 03:46:49</td>\n",
       "      <td>740864424370638848</td>\n",
       "      <td>TrumpvsScience</td>\n",
       "      <td>Trump vs. Science</td>\n",
       "      <td>2016-06-09 11:13:38</td>\n",
       "      <td>Throw evidence at Trump's unscientific and der...</td>\n",
       "      <td>4991</td>\n",
       "      <td>3951</td>\n",
       "      <td></td>\n",
       "      <td>Pacific Time (US &amp; Canada)</td>\n",
       "    </tr>\n",
       "    <tr>\n",
       "      <th>2</th>\n",
       "      <td>915785312906780674</td>\n",
       "      <td>Something to track: #exceptional #heat in #Aus...</td>\n",
       "      <td>0</td>\n",
       "      <td>Twitter for iPhone</td>\n",
       "      <td>2017-10-05 03:46:47</td>\n",
       "      <td>882330443080531968</td>\n",
       "      <td>j_nalau</td>\n",
       "      <td>Johanna Nalau</td>\n",
       "      <td>2017-07-04 20:09:05</td>\n",
       "      <td>#Adaptation #Scientist @Griffith_Uni. #Decisio...</td>\n",
       "      <td>110</td>\n",
       "      <td>180</td>\n",
       "      <td>Gold Coast, Queensland</td>\n",
       "      <td>None</td>\n",
       "    </tr>\n",
       "    <tr>\n",
       "      <th>3</th>\n",
       "      <td>915784963542237184</td>\n",
       "      <td>Good insight into the Australian #renewableene...</td>\n",
       "      <td>1</td>\n",
       "      <td>Twitter Web Client</td>\n",
       "      <td>2017-10-05 03:45:24</td>\n",
       "      <td>749224452001456132</td>\n",
       "      <td>itsfuturewave</td>\n",
       "      <td>futurewave</td>\n",
       "      <td>2016-07-02 12:53:24</td>\n",
       "      <td>Working towards the promotion and advancement ...</td>\n",
       "      <td>27</td>\n",
       "      <td>165</td>\n",
       "      <td></td>\n",
       "      <td>Pacific Time (US &amp; Canada)</td>\n",
       "    </tr>\n",
       "    <tr>\n",
       "      <th>4</th>\n",
       "      <td>915784886048391169</td>\n",
       "      <td>What do #investors want? Peace and security - ...</td>\n",
       "      <td>0</td>\n",
       "      <td>Hootsuite</td>\n",
       "      <td>2017-10-05 03:45:05</td>\n",
       "      <td>1321389338</td>\n",
       "      <td>FortisAP</td>\n",
       "      <td>Fortis AP</td>\n",
       "      <td>2013-04-01 23:55:07</td>\n",
       "      <td>Providing a full spectrum of accounting/taxati...</td>\n",
       "      <td>242</td>\n",
       "      <td>180</td>\n",
       "      <td>Sydney, Australia</td>\n",
       "      <td>Pacific Time (US &amp; Canada)</td>\n",
       "    </tr>\n",
       "    <tr>\n",
       "      <th>5</th>\n",
       "      <td>915784829194719234</td>\n",
       "      <td>RT @AzamaraVoyages: #Australia is calling and ...</td>\n",
       "      <td>1</td>\n",
       "      <td>Twitter for Android</td>\n",
       "      <td>2017-10-05 03:44:52</td>\n",
       "      <td>4226547732</td>\n",
       "      <td>CPATA15</td>\n",
       "      <td>CruisePlannersATA</td>\n",
       "      <td>2015-11-13 19:28:37</td>\n",
       "      <td>I am Dena, from Cruise Planners in Marietta, G...</td>\n",
       "      <td>296</td>\n",
       "      <td>98</td>\n",
       "      <td>Marietta, GA</td>\n",
       "      <td>Eastern Time (US &amp; Canada)</td>\n",
       "    </tr>\n",
       "    <tr>\n",
       "      <th>6</th>\n",
       "      <td>915784621974945792</td>\n",
       "      <td>HC / MC Driver - Eastern Creek, Huntingwood, S...</td>\n",
       "      <td>0</td>\n",
       "      <td>dlvr.it</td>\n",
       "      <td>2017-10-05 03:44:02</td>\n",
       "      <td>526093006</td>\n",
       "      <td>ZoomRecruit</td>\n",
       "      <td>Zoom Recruitment</td>\n",
       "      <td>2012-03-16 06:18:45</td>\n",
       "      <td>Zoom Recruitment &amp; Training offers a full suit...</td>\n",
       "      <td>79</td>\n",
       "      <td>1</td>\n",
       "      <td>VIC, Australia</td>\n",
       "      <td>New Caledonia</td>\n",
       "    </tr>\n",
       "    <tr>\n",
       "      <th>7</th>\n",
       "      <td>915784617013252098</td>\n",
       "      <td>#nowplaying on #Australia #Radio ♫ Elvis Presl...</td>\n",
       "      <td>0</td>\n",
       "      <td>SocialOomph</td>\n",
       "      <td>2017-10-05 03:44:01</td>\n",
       "      <td>820160734671695872</td>\n",
       "      <td>StevenB58668930</td>\n",
       "      <td>DJ Steven Bamo</td>\n",
       "      <td>2017-01-14 06:48:51</td>\n",
       "      <td>Hot Sounds Only for inq DJBamo930@gmail.com - ...</td>\n",
       "      <td>1626</td>\n",
       "      <td>77</td>\n",
       "      <td></td>\n",
       "      <td>None</td>\n",
       "    </tr>\n",
       "    <tr>\n",
       "      <th>8</th>\n",
       "      <td>915784612919566336</td>\n",
       "      <td>#nowplaying on #Australia #Radio ♫ Elvis Presl...</td>\n",
       "      <td>0</td>\n",
       "      <td>SocialOomph</td>\n",
       "      <td>2017-10-05 03:44:00</td>\n",
       "      <td>820160905149153280</td>\n",
       "      <td>CarterRonald10</td>\n",
       "      <td>CMR ℙℝ☮ÐÜ℃✝ℑѺℵϟ</td>\n",
       "      <td>2017-01-14 06:49:32</td>\n",
       "      <td>#CMR Promotions</td>\n",
       "      <td>1800</td>\n",
       "      <td>85</td>\n",
       "      <td>Fresno, CA</td>\n",
       "      <td>None</td>\n",
       "    </tr>\n",
       "    <tr>\n",
       "      <th>9</th>\n",
       "      <td>915784610583375872</td>\n",
       "      <td>#nowplaying on #Australia #Radio ♫ Patsy Cline...</td>\n",
       "      <td>0</td>\n",
       "      <td>SocialOomph</td>\n",
       "      <td>2017-10-05 03:44:00</td>\n",
       "      <td>820160934349914116</td>\n",
       "      <td>PhillipsLewis11</td>\n",
       "      <td>ℬαηḱ﹩ ℜαⅾ☤◎</td>\n",
       "      <td>2017-01-14 06:49:39</td>\n",
       "      <td>ℬαᾔкṧ øη $¢εηℯ #ℙґ◎ღ◎T☤☺ηαℓ</td>\n",
       "      <td>1929</td>\n",
       "      <td>71</td>\n",
       "      <td>Virginia Beach, VA</td>\n",
       "      <td>None</td>\n",
       "    </tr>\n",
       "  </tbody>\n",
       "</table>\n",
       "</div>"
      ],
      "text/plain": [
       "              tweetID                                          tweetText  \\\n",
       "0  915785455542591489  Hello, Apple. #applestore #sydney #australia @...   \n",
       "1  915785320167301120  RT @itsfuturewave: Good insight into the Austr...   \n",
       "2  915785312906780674  Something to track: #exceptional #heat in #Aus...   \n",
       "3  915784963542237184  Good insight into the Australian #renewableene...   \n",
       "4  915784886048391169  What do #investors want? Peace and security - ...   \n",
       "5  915784829194719234  RT @AzamaraVoyages: #Australia is calling and ...   \n",
       "6  915784621974945792  HC / MC Driver - Eastern Creek, Huntingwood, S...   \n",
       "7  915784617013252098  #nowplaying on #Australia #Radio ♫ Elvis Presl...   \n",
       "8  915784612919566336  #nowplaying on #Australia #Radio ♫ Elvis Presl...   \n",
       "9  915784610583375872  #nowplaying on #Australia #Radio ♫ Patsy Cline...   \n",
       "\n",
       "   tweetRetweetCt          tweetSource        tweetCreated  \\\n",
       "0               0            Instagram 2017-10-05 03:47:21   \n",
       "1               1            RoundTeam 2017-10-05 03:46:49   \n",
       "2               0   Twitter for iPhone 2017-10-05 03:46:47   \n",
       "3               1   Twitter Web Client 2017-10-05 03:45:24   \n",
       "4               0            Hootsuite 2017-10-05 03:45:05   \n",
       "5               1  Twitter for Android 2017-10-05 03:44:52   \n",
       "6               0              dlvr.it 2017-10-05 03:44:02   \n",
       "7               0          SocialOomph 2017-10-05 03:44:01   \n",
       "8               0          SocialOomph 2017-10-05 03:44:00   \n",
       "9               0          SocialOomph 2017-10-05 03:44:00   \n",
       "\n",
       "               userID       userScreen           userName        userCreateDt  \\\n",
       "0           567206965          Mew0629                Mew 2012-04-30 12:56:54   \n",
       "1  740864424370638848   TrumpvsScience  Trump vs. Science 2016-06-09 11:13:38   \n",
       "2  882330443080531968          j_nalau      Johanna Nalau 2017-07-04 20:09:05   \n",
       "3  749224452001456132    itsfuturewave         futurewave 2016-07-02 12:53:24   \n",
       "4          1321389338         FortisAP          Fortis AP 2013-04-01 23:55:07   \n",
       "5          4226547732          CPATA15  CruisePlannersATA 2015-11-13 19:28:37   \n",
       "6           526093006      ZoomRecruit   Zoom Recruitment 2012-03-16 06:18:45   \n",
       "7  820160734671695872  StevenB58668930     DJ Steven Bamo 2017-01-14 06:48:51   \n",
       "8  820160905149153280   CarterRonald10    CMR ℙℝ☮ÐÜ℃✝ℑѺℵϟ 2017-01-14 06:49:32   \n",
       "9  820160934349914116  PhillipsLewis11        ℬαηḱ﹩ ℜαⅾ☤◎ 2017-01-14 06:49:39   \n",
       "\n",
       "                                            userDesc  userFollowerCt  \\\n",
       "0                                                                 26   \n",
       "1  Throw evidence at Trump's unscientific and der...            4991   \n",
       "2  #Adaptation #Scientist @Griffith_Uni. #Decisio...             110   \n",
       "3  Working towards the promotion and advancement ...              27   \n",
       "4  Providing a full spectrum of accounting/taxati...             242   \n",
       "5  I am Dena, from Cruise Planners in Marietta, G...             296   \n",
       "6  Zoom Recruitment & Training offers a full suit...              79   \n",
       "7  Hot Sounds Only for inq DJBamo930@gmail.com - ...            1626   \n",
       "8                                    #CMR Promotions            1800   \n",
       "9                        ℬαᾔкṧ øη $¢εηℯ #ℙґ◎ღ◎T☤☺ηαℓ            1929   \n",
       "\n",
       "   userFriendsCt            userLocation                userTimezone  \n",
       "0            106                 Beijing                        None  \n",
       "1           3951                          Pacific Time (US & Canada)  \n",
       "2            180  Gold Coast, Queensland                        None  \n",
       "3            165                          Pacific Time (US & Canada)  \n",
       "4            180       Sydney, Australia  Pacific Time (US & Canada)  \n",
       "5             98            Marietta, GA  Eastern Time (US & Canada)  \n",
       "6              1          VIC, Australia               New Caledonia  \n",
       "7             77                                                None  \n",
       "8             85              Fresno, CA                        None  \n",
       "9             71      Virginia Beach, VA                        None  "
      ]
     },
     "execution_count": 11,
     "metadata": {},
     "output_type": "execute_result"
    },
    {
     "data": {
      "text/html": [
       "<div>\n",
       "<style>\n",
       "    .dataframe thead tr:only-child th {\n",
       "        text-align: right;\n",
       "    }\n",
       "\n",
       "    .dataframe thead th {\n",
       "        text-align: left;\n",
       "    }\n",
       "\n",
       "    .dataframe tbody tr th {\n",
       "        vertical-align: top;\n",
       "    }\n",
       "</style>\n",
       "<table border=\"1\" class=\"dataframe\">\n",
       "  <thead>\n",
       "    <tr style=\"text-align: right;\">\n",
       "      <th></th>\n",
       "      <th>tweetID</th>\n",
       "      <th>tweetText</th>\n",
       "      <th>tweetRetweetCt</th>\n",
       "      <th>tweetSource</th>\n",
       "      <th>tweetCreated</th>\n",
       "      <th>userID</th>\n",
       "      <th>userScreen</th>\n",
       "      <th>userName</th>\n",
       "      <th>userCreateDt</th>\n",
       "      <th>userDesc</th>\n",
       "      <th>userFollowerCt</th>\n",
       "      <th>userFriendsCt</th>\n",
       "      <th>userLocation</th>\n",
       "      <th>userTimezone</th>\n",
       "    </tr>\n",
       "  </thead>\n",
       "  <tbody>\n",
       "    <tr>\n",
       "      <th>4995</th>\n",
       "      <td>915436630114131968</td>\n",
       "      <td>Very happy celebrations today at Spring-Dale G...</td>\n",
       "      <td>0</td>\n",
       "      <td>Twitter for Android</td>\n",
       "      <td>2017-10-04 04:41:15</td>\n",
       "      <td>151409528</td>\n",
       "      <td>CrLisaBradley</td>\n",
       "      <td>Cr Lisa Bradley</td>\n",
       "      <td>2010-06-03 10:17:31</td>\n",
       "      <td>Cr Lisa Bradley is Councillor for Division 1, ...</td>\n",
       "      <td>803</td>\n",
       "      <td>269</td>\n",
       "      <td>Logan, Queensland, Australia</td>\n",
       "      <td>Brisbane</td>\n",
       "    </tr>\n",
       "    <tr>\n",
       "      <th>4996</th>\n",
       "      <td>915436589492432896</td>\n",
       "      <td>RT @RT_com: #Australia's FM: We bought guns ba...</td>\n",
       "      <td>50</td>\n",
       "      <td>Twitter for iPad</td>\n",
       "      <td>2017-10-04 04:41:05</td>\n",
       "      <td>1202619470</td>\n",
       "      <td>istaff4you</td>\n",
       "      <td>❤️Carry-Okie ❤️</td>\n",
       "      <td>2013-02-21 01:18:10</td>\n",
       "      <td>🇺🇸Jesus Saved Me - Military Mom - Love Jesus, ...</td>\n",
       "      <td>490</td>\n",
       "      <td>347</td>\n",
       "      <td>Okie Homie</td>\n",
       "      <td>Central Time (US &amp; Canada)</td>\n",
       "    </tr>\n",
       "    <tr>\n",
       "      <th>4997</th>\n",
       "      <td>915436556076294144</td>\n",
       "      <td>RT @RT_com: #Australia's FM: We bought guns ba...</td>\n",
       "      <td>50</td>\n",
       "      <td>Twitter Web Client</td>\n",
       "      <td>2017-10-04 04:40:57</td>\n",
       "      <td>1405380116</td>\n",
       "      <td>jhl0749</td>\n",
       "      <td>jhl0749</td>\n",
       "      <td>2013-05-05 15:44:43</td>\n",
       "      <td>이름은 간편히 J라고 불러주시면 됩니다!, 알티요정이라구욧☆/日本語はまだ勉強中です！...</td>\n",
       "      <td>977</td>\n",
       "      <td>1876</td>\n",
       "      <td>대한민국 / Korea / 韓國</td>\n",
       "      <td>Irkutsk</td>\n",
       "    </tr>\n",
       "    <tr>\n",
       "      <th>4998</th>\n",
       "      <td>915436432545714176</td>\n",
       "      <td>RT @RT_com: #Australia's FM: We bought guns ba...</td>\n",
       "      <td>50</td>\n",
       "      <td>Tweetbot for iΟS</td>\n",
       "      <td>2017-10-04 04:40:28</td>\n",
       "      <td>18363234</td>\n",
       "      <td>appleblossomBe</td>\n",
       "      <td>appleblossomB</td>\n",
       "      <td>2008-12-24 19:23:10</td>\n",
       "      <td>Rt's not necessarily endorsements . Surrounded...</td>\n",
       "      <td>1759</td>\n",
       "      <td>2514</td>\n",
       "      <td>Happy place</td>\n",
       "      <td>Dublin</td>\n",
       "    </tr>\n",
       "    <tr>\n",
       "      <th>4999</th>\n",
       "      <td>915436389973528576</td>\n",
       "      <td>RT @RT_com: #Australia's FM: We bought guns ba...</td>\n",
       "      <td>50</td>\n",
       "      <td>Twitter for iPhone</td>\n",
       "      <td>2017-10-04 04:40:18</td>\n",
       "      <td>3143629779</td>\n",
       "      <td>Bhorius</td>\n",
       "      <td>Bhorius</td>\n",
       "      <td>2015-04-07 12:21:34</td>\n",
       "      <td>Man. Gamer. Part Time Nerd, Full Time Dad. You...</td>\n",
       "      <td>126</td>\n",
       "      <td>214</td>\n",
       "      <td>Moscow, Russia</td>\n",
       "      <td>None</td>\n",
       "    </tr>\n",
       "  </tbody>\n",
       "</table>\n",
       "</div>"
      ],
      "text/plain": [
       "                 tweetID                                          tweetText  \\\n",
       "4995  915436630114131968  Very happy celebrations today at Spring-Dale G...   \n",
       "4996  915436589492432896  RT @RT_com: #Australia's FM: We bought guns ba...   \n",
       "4997  915436556076294144  RT @RT_com: #Australia's FM: We bought guns ba...   \n",
       "4998  915436432545714176  RT @RT_com: #Australia's FM: We bought guns ba...   \n",
       "4999  915436389973528576  RT @RT_com: #Australia's FM: We bought guns ba...   \n",
       "\n",
       "      tweetRetweetCt          tweetSource        tweetCreated      userID  \\\n",
       "4995               0  Twitter for Android 2017-10-04 04:41:15   151409528   \n",
       "4996              50     Twitter for iPad 2017-10-04 04:41:05  1202619470   \n",
       "4997              50   Twitter Web Client 2017-10-04 04:40:57  1405380116   \n",
       "4998              50     Tweetbot for iΟS 2017-10-04 04:40:28    18363234   \n",
       "4999              50   Twitter for iPhone 2017-10-04 04:40:18  3143629779   \n",
       "\n",
       "          userScreen         userName        userCreateDt  \\\n",
       "4995   CrLisaBradley  Cr Lisa Bradley 2010-06-03 10:17:31   \n",
       "4996      istaff4you  ❤️Carry-Okie ❤️ 2013-02-21 01:18:10   \n",
       "4997         jhl0749          jhl0749 2013-05-05 15:44:43   \n",
       "4998  appleblossomBe    appleblossomB 2008-12-24 19:23:10   \n",
       "4999         Bhorius          Bhorius 2015-04-07 12:21:34   \n",
       "\n",
       "                                               userDesc  userFollowerCt  \\\n",
       "4995  Cr Lisa Bradley is Councillor for Division 1, ...             803   \n",
       "4996  🇺🇸Jesus Saved Me - Military Mom - Love Jesus, ...             490   \n",
       "4997  이름은 간편히 J라고 불러주시면 됩니다!, 알티요정이라구욧☆/日本語はまだ勉強中です！...             977   \n",
       "4998  Rt's not necessarily endorsements . Surrounded...            1759   \n",
       "4999  Man. Gamer. Part Time Nerd, Full Time Dad. You...             126   \n",
       "\n",
       "      userFriendsCt                  userLocation                userTimezone  \n",
       "4995            269  Logan, Queensland, Australia                    Brisbane  \n",
       "4996            347                    Okie Homie  Central Time (US & Canada)  \n",
       "4997           1876             대한민국 / Korea / 韓國                     Irkutsk  \n",
       "4998           2514                   Happy place                      Dublin  \n",
       "4999            214                Moscow, Russia                        None  "
      ]
     },
     "execution_count": 11,
     "metadata": {},
     "output_type": "execute_result"
    }
   ],
   "source": [
    "# Verify DataFrame:\n",
    "DataSet.head(10)\n",
    "DataSet.tail(5)"
   ]
  },
  {
   "cell_type": "markdown",
   "metadata": {},
   "source": [
    "At first glance I seet a lot of tweets coming from the computer - is twitter usually used on the computer? \n",
    "\n",
    "It's kind of scary that we can see all of this information, especially seeing the data organized in a DataFrame"
   ]
  },
  {
   "cell_type": "code",
   "execution_count": 12,
   "metadata": {},
   "outputs": [
    {
     "data": {
      "text/plain": [
       "3171"
      ]
     },
     "execution_count": 12,
     "metadata": {},
     "output_type": "execute_result"
    },
    {
     "data": {
      "text/plain": [
       "63.42"
      ]
     },
     "execution_count": 12,
     "metadata": {},
     "output_type": "execute_result"
    }
   ],
   "source": [
    "# Removing rows with \"None\" in \"userTimezone\"\n",
    "DataSet = DataSet[DataSet.userTimezone.notnull()]\n",
    "\n",
    "# Rows remaining\n",
    "len(DataSet)\n",
    "\n",
    "# Percentage of rows remaining\n",
    "len(DataSet)/5000*100\n",
    "\n",
    "# Lost about 1/3 of the tweets! :/"
   ]
  },
  {
   "cell_type": "code",
   "execution_count": 13,
   "metadata": {},
   "outputs": [
    {
     "name": "stdout",
     "output_type": "stream",
     "text": [
      "Pacific Time (US & Canada)    855\n",
      "Sydney                        256\n",
      "London                        202\n",
      "Brisbane                      200\n",
      "Melbourne                     184\n",
      "Eastern Time (US & Canada)    169\n",
      "Central Time (US & Canada)    110\n",
      "Casablanca                     63\n",
      "Madrid                         56\n",
      "Amsterdam                      48\n",
      "Name: userTimezone, dtype: int64\n"
     ]
    }
   ],
   "source": [
    "# Count tweets per time zone for the top 10 time zones\n",
    "tzs = DataSet['userTimezone'].value_counts()[:10]\n",
    "print(tzs)"
   ]
  },
  {
   "cell_type": "code",
   "execution_count": 14,
   "metadata": {},
   "outputs": [
    {
     "data": {
      "text/plain": [
       "<matplotlib.axes._subplots.AxesSubplot object at 0x000002BBBE834E80>"
      ]
     },
     "execution_count": 14,
     "metadata": {},
     "output_type": "execute_result"
    },
    {
     "data": {
      "text/plain": [
       "<matplotlib.text.Text object at 0x000002BBC58725F8>"
      ]
     },
     "execution_count": 14,
     "metadata": {},
     "output_type": "execute_result"
    },
    {
     "data": {
      "text/plain": [
       "<matplotlib.text.Text object at 0x000002BBC58BB278>"
      ]
     },
     "execution_count": 14,
     "metadata": {},
     "output_type": "execute_result"
    },
    {
     "data": {
      "text/plain": [
       "<matplotlib.text.Text object at 0x000002BBC5C267F0>"
      ]
     },
     "execution_count": 14,
     "metadata": {},
     "output_type": "execute_result"
    }
   ],
   "source": [
    "# Bar Graph of Time Zone data\n",
    "plt.rcParams['figure.figsize'] = (15, 5)\n",
    "tzs.plot(kind='bar')\n",
    "# Graph Labeling\n",
    "plt.xlabel('Timezones')\n",
    "plt.ylabel('Tweet Count')\n",
    "plt.title('Top 10 Timezones tweeting about #Australia')"
   ]
  },
  {
   "cell_type": "markdown",
   "metadata": {},
   "source": [
    "Surprisingly, more people in the the Pacific Time Zone (US and Canada) are tweeting about Australia than people in Sydney, Australia. \n",
    "\n",
    "This is good to know, because it means the hashtag of a location is not a reliable way to find tweets from that location. "
   ]
  },
  {
   "cell_type": "code",
   "execution_count": 15,
   "metadata": {},
   "outputs": [
    {
     "data": {
      "text/html": [
       "<div>\n",
       "<style>\n",
       "    .dataframe thead tr:only-child th {\n",
       "        text-align: right;\n",
       "    }\n",
       "\n",
       "    .dataframe thead th {\n",
       "        text-align: left;\n",
       "    }\n",
       "\n",
       "    .dataframe tbody tr th {\n",
       "        vertical-align: top;\n",
       "    }\n",
       "</style>\n",
       "<table border=\"1\" class=\"dataframe\">\n",
       "  <thead>\n",
       "    <tr style=\"text-align: right;\">\n",
       "      <th></th>\n",
       "      <th>tweetID</th>\n",
       "      <th>tweetText</th>\n",
       "      <th>tweetRetweetCt</th>\n",
       "      <th>tweetSource</th>\n",
       "      <th>tweetCreated</th>\n",
       "      <th>userID</th>\n",
       "      <th>userScreen</th>\n",
       "      <th>userName</th>\n",
       "      <th>userCreateDt</th>\n",
       "      <th>userDesc</th>\n",
       "      <th>userFollowerCt</th>\n",
       "      <th>userFriendsCt</th>\n",
       "      <th>userLocation</th>\n",
       "      <th>userTimezone</th>\n",
       "    </tr>\n",
       "  </thead>\n",
       "  <tbody>\n",
       "    <tr>\n",
       "      <th>173</th>\n",
       "      <td>915772585639534592</td>\n",
       "      <td>RT @RachelHollisArt: Finally emerging from the...</td>\n",
       "      <td>36</td>\n",
       "      <td>Twitter for Android</td>\n",
       "      <td>2017-10-05 02:56:13</td>\n",
       "      <td>1427606390</td>\n",
       "      <td>MayanAp0calypse</td>\n",
       "      <td>🏳️‍🌈 Mayan 🏳️‍🌈</td>\n",
       "      <td>2013-05-14 11:30:48</td>\n",
       "      <td>PhD student @Garvaninstitute |#Lezza | #Immuno...</td>\n",
       "      <td>533</td>\n",
       "      <td>491</td>\n",
       "      <td>Sydney</td>\n",
       "      <td>Sydney</td>\n",
       "    </tr>\n",
       "    <tr>\n",
       "      <th>206</th>\n",
       "      <td>915769788546162688</td>\n",
       "      <td>How does your performance compare to your cash...</td>\n",
       "      <td>0</td>\n",
       "      <td>Twitter Web Client</td>\n",
       "      <td>2017-10-05 02:45:06</td>\n",
       "      <td>69496477</td>\n",
       "      <td>CashFlowAdv</td>\n",
       "      <td>Cashflow Finance</td>\n",
       "      <td>2009-08-28 03:50:02</td>\n",
       "      <td>Cashflow Finance is a comprehensive provider o...</td>\n",
       "      <td>3110</td>\n",
       "      <td>3535</td>\n",
       "      <td>Sydney</td>\n",
       "      <td>Sydney</td>\n",
       "    </tr>\n",
       "  </tbody>\n",
       "</table>\n",
       "</div>"
      ],
      "text/plain": [
       "                tweetID                                          tweetText  \\\n",
       "173  915772585639534592  RT @RachelHollisArt: Finally emerging from the...   \n",
       "206  915769788546162688  How does your performance compare to your cash...   \n",
       "\n",
       "     tweetRetweetCt          tweetSource        tweetCreated      userID  \\\n",
       "173              36  Twitter for Android 2017-10-05 02:56:13  1427606390   \n",
       "206               0   Twitter Web Client 2017-10-05 02:45:06    69496477   \n",
       "\n",
       "          userScreen          userName        userCreateDt  \\\n",
       "173  MayanAp0calypse   🏳️‍🌈 Mayan 🏳️‍🌈 2013-05-14 11:30:48   \n",
       "206      CashFlowAdv  Cashflow Finance 2009-08-28 03:50:02   \n",
       "\n",
       "                                              userDesc  userFollowerCt  \\\n",
       "173  PhD student @Garvaninstitute |#Lezza | #Immuno...             533   \n",
       "206  Cashflow Finance is a comprehensive provider o...            3110   \n",
       "\n",
       "     userFriendsCt userLocation userTimezone  \n",
       "173            491       Sydney       Sydney  \n",
       "206           3535       Sydney       Sydney  "
      ]
     },
     "execution_count": 15,
     "metadata": {},
     "output_type": "execute_result"
    },
    {
     "data": {
      "text/html": [
       "<div>\n",
       "<style>\n",
       "    .dataframe thead tr:only-child th {\n",
       "        text-align: right;\n",
       "    }\n",
       "\n",
       "    .dataframe thead th {\n",
       "        text-align: left;\n",
       "    }\n",
       "\n",
       "    .dataframe tbody tr th {\n",
       "        vertical-align: top;\n",
       "    }\n",
       "</style>\n",
       "<table border=\"1\" class=\"dataframe\">\n",
       "  <thead>\n",
       "    <tr style=\"text-align: right;\">\n",
       "      <th></th>\n",
       "      <th>tweetID</th>\n",
       "      <th>tweetText</th>\n",
       "      <th>tweetRetweetCt</th>\n",
       "      <th>tweetSource</th>\n",
       "      <th>tweetCreated</th>\n",
       "      <th>userID</th>\n",
       "      <th>userScreen</th>\n",
       "      <th>userName</th>\n",
       "      <th>userCreateDt</th>\n",
       "      <th>userDesc</th>\n",
       "      <th>userFollowerCt</th>\n",
       "      <th>userFriendsCt</th>\n",
       "      <th>userLocation</th>\n",
       "      <th>userTimezone</th>\n",
       "    </tr>\n",
       "  </thead>\n",
       "  <tbody>\n",
       "    <tr>\n",
       "      <th>299</th>\n",
       "      <td>915762351097311233</td>\n",
       "      <td>RT @Girrali: Fascist dictatorship allied with ...</td>\n",
       "      <td>2</td>\n",
       "      <td>Twitter for Android</td>\n",
       "      <td>2017-10-05 02:15:33</td>\n",
       "      <td>2733971311</td>\n",
       "      <td>43a6f0ce5dac4ea</td>\n",
       "      <td>Malcolm Ellis</td>\n",
       "      <td>2014-08-15 07:46:01</td>\n",
       "      <td>NO TPP SHENHUA ADANI CSG SAY NO TO AGENDA21   ...</td>\n",
       "      <td>3333</td>\n",
       "      <td>3662</td>\n",
       "      <td>Brisbane</td>\n",
       "      <td>Brisbane</td>\n",
       "    </tr>\n",
       "    <tr>\n",
       "      <th>836</th>\n",
       "      <td>915721392141697024</td>\n",
       "      <td>@cspyyc Our project in #Australia to combat th...</td>\n",
       "      <td>0</td>\n",
       "      <td>Twitter Web Client</td>\n",
       "      <td>2017-10-04 23:32:47</td>\n",
       "      <td>146675158</td>\n",
       "      <td>LeeCrockford</td>\n",
       "      <td>Lee Crockford</td>\n",
       "      <td>2010-05-22 02:06:42</td>\n",
       "      <td>Social Change | Mental Health | The Arts | Edu...</td>\n",
       "      <td>1461</td>\n",
       "      <td>1851</td>\n",
       "      <td>Brisbane</td>\n",
       "      <td>Brisbane</td>\n",
       "    </tr>\n",
       "  </tbody>\n",
       "</table>\n",
       "</div>"
      ],
      "text/plain": [
       "                tweetID                                          tweetText  \\\n",
       "299  915762351097311233  RT @Girrali: Fascist dictatorship allied with ...   \n",
       "836  915721392141697024  @cspyyc Our project in #Australia to combat th...   \n",
       "\n",
       "     tweetRetweetCt          tweetSource        tweetCreated      userID  \\\n",
       "299               2  Twitter for Android 2017-10-05 02:15:33  2733971311   \n",
       "836               0   Twitter Web Client 2017-10-04 23:32:47   146675158   \n",
       "\n",
       "          userScreen       userName        userCreateDt  \\\n",
       "299  43a6f0ce5dac4ea  Malcolm Ellis 2014-08-15 07:46:01   \n",
       "836     LeeCrockford  Lee Crockford 2010-05-22 02:06:42   \n",
       "\n",
       "                                              userDesc  userFollowerCt  \\\n",
       "299  NO TPP SHENHUA ADANI CSG SAY NO TO AGENDA21   ...            3333   \n",
       "836  Social Change | Mental Health | The Arts | Edu...            1461   \n",
       "\n",
       "     userFriendsCt userLocation userTimezone  \n",
       "299           3662     Brisbane     Brisbane  \n",
       "836           1851     Brisbane     Brisbane  "
      ]
     },
     "execution_count": 15,
     "metadata": {},
     "output_type": "execute_result"
    },
    {
     "data": {
      "text/html": [
       "<div>\n",
       "<style>\n",
       "    .dataframe thead tr:only-child th {\n",
       "        text-align: right;\n",
       "    }\n",
       "\n",
       "    .dataframe thead th {\n",
       "        text-align: left;\n",
       "    }\n",
       "\n",
       "    .dataframe tbody tr th {\n",
       "        vertical-align: top;\n",
       "    }\n",
       "</style>\n",
       "<table border=\"1\" class=\"dataframe\">\n",
       "  <thead>\n",
       "    <tr style=\"text-align: right;\">\n",
       "      <th></th>\n",
       "      <th>tweetID</th>\n",
       "      <th>tweetText</th>\n",
       "      <th>tweetRetweetCt</th>\n",
       "      <th>tweetSource</th>\n",
       "      <th>tweetCreated</th>\n",
       "      <th>userID</th>\n",
       "      <th>userScreen</th>\n",
       "      <th>userName</th>\n",
       "      <th>userCreateDt</th>\n",
       "      <th>userDesc</th>\n",
       "      <th>userFollowerCt</th>\n",
       "      <th>userFriendsCt</th>\n",
       "      <th>userLocation</th>\n",
       "      <th>userTimezone</th>\n",
       "    </tr>\n",
       "  </thead>\n",
       "  <tbody>\n",
       "    <tr>\n",
       "      <th>1094</th>\n",
       "      <td>915700081533136896</td>\n",
       "      <td>RT @AnimalNsw2015: Pls #Qld &amp;amp; #Australia t...</td>\n",
       "      <td>51</td>\n",
       "      <td>Twitter Web Client</td>\n",
       "      <td>2017-10-04 22:08:06</td>\n",
       "      <td>31352232</td>\n",
       "      <td>MarionGroves</td>\n",
       "      <td>Marion Groves</td>\n",
       "      <td>2009-04-15 05:50:47</td>\n",
       "      <td>Independent technical, academic and general ed...</td>\n",
       "      <td>8091</td>\n",
       "      <td>6090</td>\n",
       "      <td>Melbourne</td>\n",
       "      <td>Melbourne</td>\n",
       "    </tr>\n",
       "    <tr>\n",
       "      <th>1273</th>\n",
       "      <td>915688252979298304</td>\n",
       "      <td>#Australia #guns #guncontrol https://t.co/xZlU...</td>\n",
       "      <td>0</td>\n",
       "      <td>Twitter for iPad</td>\n",
       "      <td>2017-10-04 21:21:06</td>\n",
       "      <td>32340937</td>\n",
       "      <td>MediaActive</td>\n",
       "      <td>Peter Clarke</td>\n",
       "      <td>2009-04-17 07:32:00</td>\n",
       "      <td>Former ABC broadcast journalist. Pioneered Aus...</td>\n",
       "      <td>2193</td>\n",
       "      <td>2246</td>\n",
       "      <td>Melbourne</td>\n",
       "      <td>Melbourne</td>\n",
       "    </tr>\n",
       "  </tbody>\n",
       "</table>\n",
       "</div>"
      ],
      "text/plain": [
       "                 tweetID                                          tweetText  \\\n",
       "1094  915700081533136896  RT @AnimalNsw2015: Pls #Qld &amp; #Australia t...   \n",
       "1273  915688252979298304  #Australia #guns #guncontrol https://t.co/xZlU...   \n",
       "\n",
       "      tweetRetweetCt         tweetSource        tweetCreated    userID  \\\n",
       "1094              51  Twitter Web Client 2017-10-04 22:08:06  31352232   \n",
       "1273               0    Twitter for iPad 2017-10-04 21:21:06  32340937   \n",
       "\n",
       "        userScreen       userName        userCreateDt  \\\n",
       "1094  MarionGroves  Marion Groves 2009-04-15 05:50:47   \n",
       "1273   MediaActive   Peter Clarke 2009-04-17 07:32:00   \n",
       "\n",
       "                                               userDesc  userFollowerCt  \\\n",
       "1094  Independent technical, academic and general ed...            8091   \n",
       "1273  Former ABC broadcast journalist. Pioneered Aus...            2193   \n",
       "\n",
       "      userFriendsCt userLocation userTimezone  \n",
       "1094           6090    Melbourne    Melbourne  \n",
       "1273           2246    Melbourne    Melbourne  "
      ]
     },
     "execution_count": 15,
     "metadata": {},
     "output_type": "execute_result"
    }
   ],
   "source": [
    "sydney = DataSet.loc[DataSet['userLocation'] == 'Sydney', :] \n",
    "sydney.head(2)\n",
    "\n",
    "brisbane = DataSet.loc[DataSet['userLocation'] == 'Brisbane',:]  \n",
    "melbourne = DataSet.loc[DataSet['userLocation'] == 'Melbourne',:]\n",
    "brisbane.head(2)\n",
    "melbourne.head(2)\n"
   ]
  },
  {
   "cell_type": "markdown",
   "metadata": {},
   "source": [
    "There are a lot more locations in Australia than these 3!\n",
    "Since I only pulled the top 3 locations, I'm probably missing a lot of tweets from other locations in Australia.\n",
    "Also, tourists! These are merely tweets of people that are in these locations, not necessarily that live there!"
   ]
  },
  {
   "cell_type": "code",
   "execution_count": 16,
   "metadata": {},
   "outputs": [
    {
     "data": {
      "text/html": [
       "<div>\n",
       "<style>\n",
       "    .dataframe thead tr:only-child th {\n",
       "        text-align: right;\n",
       "    }\n",
       "\n",
       "    .dataframe thead th {\n",
       "        text-align: left;\n",
       "    }\n",
       "\n",
       "    .dataframe tbody tr th {\n",
       "        vertical-align: top;\n",
       "    }\n",
       "</style>\n",
       "<table border=\"1\" class=\"dataframe\">\n",
       "  <thead>\n",
       "    <tr style=\"text-align: right;\">\n",
       "      <th></th>\n",
       "      <th>userFriendsCt</th>\n",
       "      <th>userFollowerCt</th>\n",
       "    </tr>\n",
       "    <tr>\n",
       "      <th>userTimezone</th>\n",
       "      <th></th>\n",
       "      <th></th>\n",
       "    </tr>\n",
       "  </thead>\n",
       "  <tbody>\n",
       "    <tr>\n",
       "      <th>Auckland</th>\n",
       "      <td>29049.875000</td>\n",
       "      <td>36574.250000</td>\n",
       "    </tr>\n",
       "    <tr>\n",
       "      <th>Belgrade</th>\n",
       "      <td>10578.750000</td>\n",
       "      <td>10973.125000</td>\n",
       "    </tr>\n",
       "    <tr>\n",
       "      <th>Eastern Time (US &amp; Canada)</th>\n",
       "      <td>10015.426036</td>\n",
       "      <td>19848.810651</td>\n",
       "    </tr>\n",
       "    <tr>\n",
       "      <th>Rome</th>\n",
       "      <td>9693.318182</td>\n",
       "      <td>29458.545455</td>\n",
       "    </tr>\n",
       "    <tr>\n",
       "      <th>Istanbul</th>\n",
       "      <td>9353.500000</td>\n",
       "      <td>12671.500000</td>\n",
       "    </tr>\n",
       "    <tr>\n",
       "      <th>Jakarta</th>\n",
       "      <td>8496.444444</td>\n",
       "      <td>26335.111111</td>\n",
       "    </tr>\n",
       "    <tr>\n",
       "      <th>Jerusalem</th>\n",
       "      <td>8005.333333</td>\n",
       "      <td>8419.833333</td>\n",
       "    </tr>\n",
       "    <tr>\n",
       "      <th>Baghdad</th>\n",
       "      <td>7511.666667</td>\n",
       "      <td>15428.166667</td>\n",
       "    </tr>\n",
       "    <tr>\n",
       "      <th>London</th>\n",
       "      <td>6187.742574</td>\n",
       "      <td>13189.549505</td>\n",
       "    </tr>\n",
       "    <tr>\n",
       "      <th>Abu Dhabi</th>\n",
       "      <td>5801.000000</td>\n",
       "      <td>4745.333333</td>\n",
       "    </tr>\n",
       "  </tbody>\n",
       "</table>\n",
       "</div>"
      ],
      "text/plain": [
       "                            userFriendsCt  userFollowerCt\n",
       "userTimezone                                             \n",
       "Auckland                     29049.875000    36574.250000\n",
       "Belgrade                     10578.750000    10973.125000\n",
       "Eastern Time (US & Canada)   10015.426036    19848.810651\n",
       "Rome                          9693.318182    29458.545455\n",
       "Istanbul                      9353.500000    12671.500000\n",
       "Jakarta                       8496.444444    26335.111111\n",
       "Jerusalem                     8005.333333     8419.833333\n",
       "Baghdad                       7511.666667    15428.166667\n",
       "London                        6187.742574    13189.549505\n",
       "Abu Dhabi                     5801.000000     4745.333333"
      ]
     },
     "execution_count": 16,
     "metadata": {},
     "output_type": "execute_result"
    },
    {
     "data": {
      "text/plain": [
       "126"
      ]
     },
     "execution_count": 16,
     "metadata": {},
     "output_type": "execute_result"
    }
   ],
   "source": [
    "# Look at friends and followers\n",
    "friends_n_followers=DataSet.groupby('userTimezone')[['userFriendsCt','userFollowerCt']].mean()\n",
    "# Sort to have the highest number of friends at the top\n",
    "friends_n_followers=friends_n_followers.sort_values(['userFriendsCt'],ascending=False)\n",
    "friends_n_followers.head(10)\n",
    "len(friends_n_followers)"
   ]
  },
  {
   "cell_type": "markdown",
   "metadata": {},
   "source": [
    "People in Auckland, New Zealand have a lot of friends!! \n",
    "\n",
    "Why are there so many time zones???\n",
    "Is there something wrong here?"
   ]
  },
  {
   "cell_type": "code",
   "execution_count": 17,
   "metadata": {},
   "outputs": [
    {
     "data": {
      "text/plain": [
       "<matplotlib.axes._subplots.AxesSubplot object at 0x000002BBBE834E80>"
      ]
     },
     "execution_count": 17,
     "metadata": {},
     "output_type": "execute_result"
    },
    {
     "data": {
      "text/plain": [
       "<matplotlib.text.Text object at 0x000002BBC5C267F0>"
      ]
     },
     "execution_count": 17,
     "metadata": {},
     "output_type": "execute_result"
    },
    {
     "data": {
      "text/plain": [
       "<matplotlib.text.Text object at 0x000002BBC58725F8>"
      ]
     },
     "execution_count": 17,
     "metadata": {},
     "output_type": "execute_result"
    },
    {
     "data": {
      "text/plain": [
       "<matplotlib.text.Text object at 0x000002BBC58BB278>"
      ]
     },
     "execution_count": 17,
     "metadata": {},
     "output_type": "execute_result"
    },
    {
     "data": {
      "image/png": "[encoded data removed]",
      "text/plain": [
       "<matplotlib.figure.Figure object at 0x000002BBC588AE48>"
      ]
     },
     "metadata": {},
     "output_type": "display_data"
    }
   ],
   "source": [
    "# Graph number of friends by time zone\n",
    "friends_n_followers['userFriendsCt'].plot(kind = 'bar')\n",
    "# Labeling\n",
    "plt.title('Friends by Time Zone')\n",
    "plt.xlabel('Time Zone')\n",
    "plt.ylabel('Number of Friends')\n",
    "plt.show()"
   ]
  },
  {
   "cell_type": "code",
   "execution_count": 18,
   "metadata": {},
   "outputs": [
    {
     "data": {
      "text/plain": [
       "['T', '_AXIS_ALIASES', '_AXIS_IALIASES', '_AXIS_LEN', '_AXIS_NAMES', '_AXIS_NUMBERS', '_AXIS_ORDERS', '_AXIS_REVERSED', '_AXIS_SLICEMAP', '__abs__', '__add__', '__and__', '__array__', '__array_wrap__', '__bool__', '__bytes__', '__class__', '__contains__', '__copy__', '__deepcopy__', '__delattr__', '__delitem__', '__dict__', '__dir__', '__div__', '__doc__', '__eq__', '__finalize__', '__floordiv__', '__format__', '__ge__', '__getattr__', '__getattribute__', '__getitem__', '__getstate__', '__gt__', '__hash__', '__iadd__', '__imul__', '__init__', '__init_subclass__', '__invert__', '__ipow__', '__isub__', '__iter__', '__itruediv__', '__le__', '__len__', '__lt__', '__mod__', '__module__', '__mul__', '__ne__', '__neg__', '__new__', '__nonzero__', '__or__', '__pow__', '__radd__', '__rand__', '__rdiv__', '__reduce__', '__reduce_ex__', '__repr__', '__rfloordiv__', '__rmod__', '__rmul__', '__ror__', '__round__', '__rpow__', '__rsub__', '__rtruediv__', '__rxor__', '__setattr__', '__setitem__', '__setstate__', '__sizeof__', '__str__', '__sub__', '__subclasshook__', '__truediv__', '__unicode__', '__weakref__', '__xor__', '_accessors', '_add_numeric_operations', '_add_series_only_operations', '_add_series_or_dataframe_operations', '_agg_by_level', '_agg_doc', '_aggregate', '_aggregate_multiple_funcs', '_align_frame', '_align_series', '_apply_broadcast', '_apply_empty_result', '_apply_raw', '_apply_standard', '_at', '_box_col_values', '_box_item_values', '_builtin_table', '_check_inplace_setting', '_check_is_chained_assignment_possible', '_check_percentile', '_check_setitem_copy', '_clear_item_cache', '_combine_const', '_combine_frame', '_combine_match_columns', '_combine_match_index', '_combine_series', '_combine_series_infer', '_compare_frame', '_compare_frame_evaluate', '_consolidate', '_consolidate_inplace', '_construct_axes_dict', '_construct_axes_dict_for_slice', '_construct_axes_dict_from', '_construct_axes_from_arguments', '_constructor', '_constructor_expanddim', '_constructor_sliced', '_convert', '_count_level', '_create_indexer', '_cython_table', '_dir_additions', '_dir_deletions', '_ensure_valid_index', '_expand_axes', '_flex_compare_frame', '_from_arrays', '_from_axes', '_get_agg_axis', '_get_axis', '_get_axis_name', '_get_axis_number', '_get_axis_resolvers', '_get_block_manager_axis', '_get_bool_data', '_get_cacher', '_get_index_resolvers', '_get_item_cache', '_get_numeric_data', '_get_values', '_getitem_array', '_getitem_column', '_getitem_frame', '_getitem_multilevel', '_getitem_slice', '_gotitem', '_iat', '_iget_item_cache', '_iloc', '_indexed_same', '_info_axis', '_info_axis_name', '_info_axis_number', '_info_repr', '_init_dict', '_init_mgr', '_init_ndarray', '_internal_names', '_internal_names_set', '_is_builtin_func', '_is_cached', '_is_cython_func', '_is_datelike_mixed_type', '_is_mixed_type', '_is_numeric_mixed_type', '_is_view', '_ix', '_ixs', '_join_compat', '_loc', '_maybe_cache_changed', '_maybe_update_cacher', '_metadata', '_needs_reindex_multi', '_obj_with_exclusions', '_protect_consolidate', '_reduce', '_reindex_axes', '_reindex_axis', '_reindex_columns', '_reindex_index', '_reindex_multi', '_reindex_with_indexers', '_repr_data_resource_', '_repr_fits_horizontal_', '_repr_fits_vertical_', '_repr_html_', '_repr_latex_', '_reset_cache', '_reset_cacher', '_sanitize_column', '_selected_obj', '_selection', '_selection_list', '_selection_name', '_series', '_set_as_cached', '_set_axis', '_set_axis_name', '_set_is_copy', '_set_item', '_setitem_array', '_setitem_frame', '_setitem_slice', '_setup_axes', '_shallow_copy', '_slice', '_stat_axis', '_stat_axis_name', '_stat_axis_number', '_try_aggregate_string_function', '_typ', '_unpickle_frame_compat', '_unpickle_matrix_compat', '_update_inplace', '_validate_dtype', '_values', '_where', '_xs', 'abs', 'add', 'add_prefix', 'add_suffix', 'agg', 'aggregate', 'align', 'all', 'any', 'append', 'apply', 'applymap', 'as_blocks', 'as_matrix', 'asfreq', 'asof', 'assign', 'astype', 'at', 'at_time', 'axes', 'between_time', 'bfill', 'blocks', 'bool', 'boxplot', 'clip', 'clip_lower', 'clip_upper', 'columns', 'combine', 'combine_first', 'compound', 'consolidate', 'convert_objects', 'copy', 'corr', 'corrwith', 'count', 'cov', 'cummax', 'cummin', 'cumprod', 'cumsum', 'describe', 'diff', 'div', 'divide', 'dot', 'drop', 'drop_duplicates', 'dropna', 'dtypes', 'duplicated', 'empty', 'eq', 'equals', 'eval', 'ewm', 'expanding', 'ffill', 'fillna', 'filter', 'first', 'first_valid_index', 'floordiv', 'from_csv', 'from_dict', 'from_items', 'from_records', 'ftypes', 'ge', 'get', 'get_dtype_counts', 'get_ftype_counts', 'get_value', 'get_values', 'groupby', 'gt', 'head', 'hist', 'iat', 'idxmax', 'idxmin', 'iloc', 'index', 'info', 'insert', 'interpolate', 'is_copy', 'isin', 'isnull', 'items', 'iteritems', 'iterrows', 'itertuples', 'ix', 'join', 'keys', 'kurt', 'kurtosis', 'last', 'last_valid_index', 'le', 'loc', 'lookup', 'lt', 'mad', 'mask', 'max', 'mean', 'median', 'melt', 'memory_usage', 'merge', 'min', 'mod', 'mode', 'mul', 'multiply', 'ndim', 'ne', 'nlargest', 'notnull', 'nsmallest', 'nunique', 'pct_change', 'pipe', 'pivot', 'pivot_table', 'plot', 'pop', 'pow', 'prod', 'product', 'quantile', 'query', 'radd', 'rank', 'rdiv', 'reindex', 'reindex_axis', 'reindex_like', 'rename', 'rename_axis', 'reorder_levels', 'replace', 'resample', 'reset_index', 'rfloordiv', 'rmod', 'rmul', 'rolling', 'round', 'rpow', 'rsub', 'rtruediv', 'sample', 'select', 'select_dtypes', 'sem', 'set_axis', 'set_index', 'set_value', 'shape', 'shift', 'size', 'skew', 'slice_shift', 'sort_index', 'sort_values', 'sortlevel', 'squeeze', 'stack', 'std', 'style', 'sub', 'subtract', 'sum', 'swapaxes', 'swaplevel', 'tail', 'take', 'to_clipboard', 'to_csv', 'to_dense', 'to_dict', 'to_excel', 'to_feather', 'to_gbq', 'to_hdf', 'to_html', 'to_json', 'to_latex', 'to_msgpack', 'to_panel', 'to_period', 'to_pickle', 'to_records', 'to_sparse', 'to_sql', 'to_stata', 'to_string', 'to_timestamp', 'to_xarray', 'transform', 'transpose', 'truediv', 'truncate', 'tshift', 'tz_convert', 'tz_localize', 'unstack', 'update', 'userFollowerCt', 'userFriendsCt', 'values', 'var', 'where', 'xs']"
      ]
     },
     "execution_count": 18,
     "metadata": {},
     "output_type": "execute_result"
    },
    {
     "name": "stdout",
     "output_type": "stream",
     "text": [
      "Help on method sort_values in module pandas.core.frame:\n",
      "\n",
      "sort_values(by, axis=0, ascending=True, inplace=False, kind='quicksort', na_position='last') method of pandas.core.frame.DataFrame instance\n",
      "    Sort by the values along either axis\n",
      "    \n",
      "    .. versionadded:: 0.17.0\n",
      "    \n",
      "    Parameters\n",
      "    ----------\n",
      "    by : str or list of str\n",
      "        Name or list of names which refer to the axis items.\n",
      "    axis : {0 or 'index', 1 or 'columns'}, default 0\n",
      "        Axis to direct sorting\n",
      "    ascending : bool or list of bool, default True\n",
      "         Sort ascending vs. descending. Specify list for multiple sort\n",
      "         orders.  If this is a list of bools, must match the length of\n",
      "         the by.\n",
      "    inplace : bool, default False\n",
      "         if True, perform operation in-place\n",
      "    kind : {'quicksort', 'mergesort', 'heapsort'}, default 'quicksort'\n",
      "         Choice of sorting algorithm. See also ndarray.np.sort for more\n",
      "         information.  `mergesort` is the only stable algorithm. For\n",
      "         DataFrames, this option is only applied when sorting on a single\n",
      "         column or label.\n",
      "    na_position : {'first', 'last'}, default 'last'\n",
      "         `first` puts NaNs at the beginning, `last` puts NaNs at the end\n",
      "    \n",
      "    Returns\n",
      "    -------\n",
      "    sorted_obj : DataFrame\n",
      "\n"
     ]
    }
   ],
   "source": [
    "# figuring out how to sort friends_n_followers by number of friends\n",
    "dir(friends_n_followers)\n",
    "help(friends_n_followers.sort_values)"
   ]
  },
  {
   "cell_type": "code",
   "execution_count": 19,
   "metadata": {},
   "outputs": [
    {
     "data": {
      "text/html": [
       "<div>\n",
       "<style>\n",
       "    .dataframe thead tr:only-child th {\n",
       "        text-align: right;\n",
       "    }\n",
       "\n",
       "    .dataframe thead th {\n",
       "        text-align: left;\n",
       "    }\n",
       "\n",
       "    .dataframe tbody tr th {\n",
       "        vertical-align: top;\n",
       "    }\n",
       "</style>\n",
       "<table border=\"1\" class=\"dataframe\">\n",
       "  <thead>\n",
       "    <tr style=\"text-align: right;\">\n",
       "      <th></th>\n",
       "      <th>tweetID</th>\n",
       "      <th>tweetText</th>\n",
       "      <th>tweetRetweetCt</th>\n",
       "      <th>tweetSource</th>\n",
       "      <th>tweetCreated</th>\n",
       "      <th>userID</th>\n",
       "      <th>userScreen</th>\n",
       "      <th>userName</th>\n",
       "      <th>userCreateDt</th>\n",
       "      <th>userDesc</th>\n",
       "      <th>userFollowerCt</th>\n",
       "      <th>userFriendsCt</th>\n",
       "      <th>userLocation</th>\n",
       "      <th>userTimezone</th>\n",
       "    </tr>\n",
       "  </thead>\n",
       "  <tbody>\n",
       "    <tr>\n",
       "      <th>4931</th>\n",
       "      <td>915441150953062402</td>\n",
       "      <td>Timeout in #WatsonsBay #Sydney. Bring me back ...</td>\n",
       "      <td>7</td>\n",
       "      <td>Twitter for iPhone</td>\n",
       "      <td>2017-10-04 04:59:13</td>\n",
       "      <td>160047813</td>\n",
       "      <td>ohsunnymornings</td>\n",
       "      <td>Sylvia</td>\n",
       "      <td>2010-06-27 01:57:46</td>\n",
       "      <td>#SocialMediaCoach. #Australia's Rising Soci@l ...</td>\n",
       "      <td>326213</td>\n",
       "      <td>128482</td>\n",
       "      <td>Sydney</td>\n",
       "      <td>Sydney</td>\n",
       "    </tr>\n",
       "    <tr>\n",
       "      <th>886</th>\n",
       "      <td>915716874779770880</td>\n",
       "      <td>RT @ohsunnymornings: Bird's eye view of Sal Sa...</td>\n",
       "      <td>3</td>\n",
       "      <td>Twitter for iPhone</td>\n",
       "      <td>2017-10-04 23:14:50</td>\n",
       "      <td>160047813</td>\n",
       "      <td>ohsunnymornings</td>\n",
       "      <td>Sylvia</td>\n",
       "      <td>2010-06-27 01:57:46</td>\n",
       "      <td>#SocialMediaCoach. #Australia's Rising Soci@l ...</td>\n",
       "      <td>326213</td>\n",
       "      <td>128482</td>\n",
       "      <td>Sydney</td>\n",
       "      <td>Sydney</td>\n",
       "    </tr>\n",
       "    <tr>\n",
       "      <th>1564</th>\n",
       "      <td>915665370668785664</td>\n",
       "      <td>Bird's eye view of Sal Salis #NingalooReef via...</td>\n",
       "      <td>3</td>\n",
       "      <td>Hootsuite</td>\n",
       "      <td>2017-10-04 19:50:11</td>\n",
       "      <td>160047813</td>\n",
       "      <td>ohsunnymornings</td>\n",
       "      <td>Sylvia</td>\n",
       "      <td>2010-06-27 01:57:46</td>\n",
       "      <td>#SocialMediaCoach. #Australia's Rising Soci@l ...</td>\n",
       "      <td>326213</td>\n",
       "      <td>128482</td>\n",
       "      <td>Sydney</td>\n",
       "      <td>Sydney</td>\n",
       "    </tr>\n",
       "    <tr>\n",
       "      <th>4929</th>\n",
       "      <td>915441188974379008</td>\n",
       "      <td>RT @ohsunnymornings: Timeout in #WatsonsBay #S...</td>\n",
       "      <td>7</td>\n",
       "      <td>Twitter for iPhone</td>\n",
       "      <td>2017-10-04 04:59:22</td>\n",
       "      <td>160047813</td>\n",
       "      <td>ohsunnymornings</td>\n",
       "      <td>Sylvia</td>\n",
       "      <td>2010-06-27 01:57:46</td>\n",
       "      <td>#SocialMediaCoach. #Australia's Rising Soci@l ...</td>\n",
       "      <td>326213</td>\n",
       "      <td>128482</td>\n",
       "      <td>Sydney</td>\n",
       "      <td>Sydney</td>\n",
       "    </tr>\n",
       "    <tr>\n",
       "      <th>4936</th>\n",
       "      <td>915440744055181312</td>\n",
       "      <td>Real-time payments to be launched after Austra...</td>\n",
       "      <td>0</td>\n",
       "      <td>Twitter Web Client</td>\n",
       "      <td>2017-10-04 04:57:36</td>\n",
       "      <td>69496477</td>\n",
       "      <td>CashFlowAdv</td>\n",
       "      <td>Cashflow Finance</td>\n",
       "      <td>2009-08-28 03:50:02</td>\n",
       "      <td>Cashflow Finance is a comprehensive provider o...</td>\n",
       "      <td>3110</td>\n",
       "      <td>3535</td>\n",
       "      <td>Sydney</td>\n",
       "      <td>Sydney</td>\n",
       "    </tr>\n",
       "    <tr>\n",
       "      <th>206</th>\n",
       "      <td>915769788546162688</td>\n",
       "      <td>How does your performance compare to your cash...</td>\n",
       "      <td>0</td>\n",
       "      <td>Twitter Web Client</td>\n",
       "      <td>2017-10-05 02:45:06</td>\n",
       "      <td>69496477</td>\n",
       "      <td>CashFlowAdv</td>\n",
       "      <td>Cashflow Finance</td>\n",
       "      <td>2009-08-28 03:50:02</td>\n",
       "      <td>Cashflow Finance is a comprehensive provider o...</td>\n",
       "      <td>3110</td>\n",
       "      <td>3535</td>\n",
       "      <td>Sydney</td>\n",
       "      <td>Sydney</td>\n",
       "    </tr>\n",
       "    <tr>\n",
       "      <th>3260</th>\n",
       "      <td>915534960550748161</td>\n",
       "      <td>RT @healthmap: #Australia: #Measles alert spre...</td>\n",
       "      <td>2</td>\n",
       "      <td>Twitter for iPhone</td>\n",
       "      <td>2017-10-04 11:11:59</td>\n",
       "      <td>44559480</td>\n",
       "      <td>PalinComm</td>\n",
       "      <td>Palin Communications</td>\n",
       "      <td>2009-06-04 06:14:34</td>\n",
       "      <td>Where evidence-based PR drives change in the h...</td>\n",
       "      <td>3096</td>\n",
       "      <td>3244</td>\n",
       "      <td>Sydney</td>\n",
       "      <td>Sydney</td>\n",
       "    </tr>\n",
       "    <tr>\n",
       "      <th>2780</th>\n",
       "      <td>915565318017134592</td>\n",
       "      <td>RT @CBoyleImages: A cheeky little chap out enj...</td>\n",
       "      <td>9</td>\n",
       "      <td>TweetDeck</td>\n",
       "      <td>2017-10-04 13:12:36</td>\n",
       "      <td>305482111</td>\n",
       "      <td>Gordicans</td>\n",
       "      <td>Ian Gordicans</td>\n",
       "      <td>2011-05-26 09:01:22</td>\n",
       "      <td>misanthropist, misophonia sufferer &amp; guilty of...</td>\n",
       "      <td>2699</td>\n",
       "      <td>2232</td>\n",
       "      <td>Sydney</td>\n",
       "      <td>Sydney</td>\n",
       "    </tr>\n",
       "    <tr>\n",
       "      <th>4797</th>\n",
       "      <td>915447447391920128</td>\n",
       "      <td>RT @abc730: Cecil Healy, #Australia's forgotte...</td>\n",
       "      <td>9</td>\n",
       "      <td>Twitter for iPhone</td>\n",
       "      <td>2017-10-04 05:24:14</td>\n",
       "      <td>272237235</td>\n",
       "      <td>SteveKellyABC</td>\n",
       "      <td>Steve Kelly</td>\n",
       "      <td>2011-03-26 03:23:39</td>\n",
       "      <td>@ABCNews hack. Tweeting #suicideprevention #au...</td>\n",
       "      <td>627</td>\n",
       "      <td>1869</td>\n",
       "      <td>Sydney</td>\n",
       "      <td>Sydney</td>\n",
       "    </tr>\n",
       "    <tr>\n",
       "      <th>1616</th>\n",
       "      <td>915661497312964608</td>\n",
       "      <td>Sun's up. #sunrise #cronulla #theshire #sydney...</td>\n",
       "      <td>0</td>\n",
       "      <td>Instagram</td>\n",
       "      <td>2017-10-04 19:34:47</td>\n",
       "      <td>17571208</td>\n",
       "      <td>AnthonyClarkAU</td>\n",
       "      <td>Anthony Clark</td>\n",
       "      <td>2008-11-23 09:55:49</td>\n",
       "      <td>NSW RFS Director of Corporate Communications. ...</td>\n",
       "      <td>2882</td>\n",
       "      <td>1164</td>\n",
       "      <td>Sydney</td>\n",
       "      <td>Sydney</td>\n",
       "    </tr>\n",
       "  </tbody>\n",
       "</table>\n",
       "</div>"
      ],
      "text/plain": [
       "                 tweetID                                          tweetText  \\\n",
       "4931  915441150953062402  Timeout in #WatsonsBay #Sydney. Bring me back ...   \n",
       "886   915716874779770880  RT @ohsunnymornings: Bird's eye view of Sal Sa...   \n",
       "1564  915665370668785664  Bird's eye view of Sal Salis #NingalooReef via...   \n",
       "4929  915441188974379008  RT @ohsunnymornings: Timeout in #WatsonsBay #S...   \n",
       "4936  915440744055181312  Real-time payments to be launched after Austra...   \n",
       "206   915769788546162688  How does your performance compare to your cash...   \n",
       "3260  915534960550748161  RT @healthmap: #Australia: #Measles alert spre...   \n",
       "2780  915565318017134592  RT @CBoyleImages: A cheeky little chap out enj...   \n",
       "4797  915447447391920128  RT @abc730: Cecil Healy, #Australia's forgotte...   \n",
       "1616  915661497312964608  Sun's up. #sunrise #cronulla #theshire #sydney...   \n",
       "\n",
       "      tweetRetweetCt         tweetSource        tweetCreated     userID  \\\n",
       "4931               7  Twitter for iPhone 2017-10-04 04:59:13  160047813   \n",
       "886                3  Twitter for iPhone 2017-10-04 23:14:50  160047813   \n",
       "1564               3           Hootsuite 2017-10-04 19:50:11  160047813   \n",
       "4929               7  Twitter for iPhone 2017-10-04 04:59:22  160047813   \n",
       "4936               0  Twitter Web Client 2017-10-04 04:57:36   69496477   \n",
       "206                0  Twitter Web Client 2017-10-05 02:45:06   69496477   \n",
       "3260               2  Twitter for iPhone 2017-10-04 11:11:59   44559480   \n",
       "2780               9           TweetDeck 2017-10-04 13:12:36  305482111   \n",
       "4797               9  Twitter for iPhone 2017-10-04 05:24:14  272237235   \n",
       "1616               0           Instagram 2017-10-04 19:34:47   17571208   \n",
       "\n",
       "           userScreen              userName        userCreateDt  \\\n",
       "4931  ohsunnymornings                Sylvia 2010-06-27 01:57:46   \n",
       "886   ohsunnymornings                Sylvia 2010-06-27 01:57:46   \n",
       "1564  ohsunnymornings                Sylvia 2010-06-27 01:57:46   \n",
       "4929  ohsunnymornings                Sylvia 2010-06-27 01:57:46   \n",
       "4936      CashFlowAdv      Cashflow Finance 2009-08-28 03:50:02   \n",
       "206       CashFlowAdv      Cashflow Finance 2009-08-28 03:50:02   \n",
       "3260        PalinComm  Palin Communications 2009-06-04 06:14:34   \n",
       "2780        Gordicans         Ian Gordicans 2011-05-26 09:01:22   \n",
       "4797    SteveKellyABC           Steve Kelly 2011-03-26 03:23:39   \n",
       "1616   AnthonyClarkAU         Anthony Clark 2008-11-23 09:55:49   \n",
       "\n",
       "                                               userDesc  userFollowerCt  \\\n",
       "4931  #SocialMediaCoach. #Australia's Rising Soci@l ...          326213   \n",
       "886   #SocialMediaCoach. #Australia's Rising Soci@l ...          326213   \n",
       "1564  #SocialMediaCoach. #Australia's Rising Soci@l ...          326213   \n",
       "4929  #SocialMediaCoach. #Australia's Rising Soci@l ...          326213   \n",
       "4936  Cashflow Finance is a comprehensive provider o...            3110   \n",
       "206   Cashflow Finance is a comprehensive provider o...            3110   \n",
       "3260  Where evidence-based PR drives change in the h...            3096   \n",
       "2780  misanthropist, misophonia sufferer & guilty of...            2699   \n",
       "4797  @ABCNews hack. Tweeting #suicideprevention #au...             627   \n",
       "1616  NSW RFS Director of Corporate Communications. ...            2882   \n",
       "\n",
       "      userFriendsCt userLocation userTimezone  \n",
       "4931         128482       Sydney       Sydney  \n",
       "886          128482       Sydney       Sydney  \n",
       "1564         128482       Sydney       Sydney  \n",
       "4929         128482       Sydney       Sydney  \n",
       "4936           3535       Sydney       Sydney  \n",
       "206            3535       Sydney       Sydney  \n",
       "3260           3244       Sydney       Sydney  \n",
       "2780           2232       Sydney       Sydney  \n",
       "4797           1869       Sydney       Sydney  \n",
       "1616           1164       Sydney       Sydney  "
      ]
     },
     "execution_count": 19,
     "metadata": {},
     "output_type": "execute_result"
    },
    {
     "data": {
      "text/plain": [
       "19"
      ]
     },
     "execution_count": 19,
     "metadata": {},
     "output_type": "execute_result"
    }
   ],
   "source": [
    "# The time zone seemed weird before - lets try this out on another DataFrame\n",
    "\n",
    "# Look at friends and followers\n",
    "sydney_friends=sydney.groupby('userTimezone')[['userFriendsCt','userFollowerCt']].mean()\n",
    "# Sort to have the highest number of friends at the top\n",
    "sydney_friends=sydney.sort_values(['userFriendsCt'],ascending=False)\n",
    "sydney_friends.head(10)\n",
    "len(sydney_friends)"
   ]
  },
  {
   "cell_type": "code",
   "execution_count": 20,
   "metadata": {},
   "outputs": [
    {
     "data": {
      "text/plain": [
       "<matplotlib.axes._subplots.AxesSubplot object at 0x000002BBC5C9F7F0>"
      ]
     },
     "execution_count": 20,
     "metadata": {},
     "output_type": "execute_result"
    },
    {
     "data": {
      "text/plain": [
       "<matplotlib.text.Text object at 0x000002BBC5F04748>"
      ]
     },
     "execution_count": 20,
     "metadata": {},
     "output_type": "execute_result"
    },
    {
     "data": {
      "text/plain": [
       "<matplotlib.text.Text object at 0x000002BBC5E0B978>"
      ]
     },
     "execution_count": 20,
     "metadata": {},
     "output_type": "execute_result"
    },
    {
     "data": {
      "text/plain": [
       "<matplotlib.text.Text object at 0x000002BBC5E949E8>"
      ]
     },
     "execution_count": 20,
     "metadata": {},
     "output_type": "execute_result"
    },
    {
     "data": {
      "image/png": "[encoded data removed]",
      "text/plain": [
       "<matplotlib.figure.Figure object at 0x000002BBC5D7ED68>"
      ]
     },
     "metadata": {},
     "output_type": "display_data"
    }
   ],
   "source": [
    "# Graph number of friends by time zone\n",
    "sydney_friends['userFriendsCt'].plot(kind = 'bar')\n",
    "# Labeling\n",
    "plt.title('Sydney Friends')\n",
    "plt.xlabel('Time Zone')\n",
    "plt.ylabel('Number of Friends')\n",
    "plt.show()"
   ]
  },
  {
   "cell_type": "markdown",
   "metadata": {},
   "source": [
    "The Time Zones are DEFINITELY wrong. WHY???"
   ]
  }
 ],
 "metadata": {
  "kernelspec": {
   "display_name": "Python 3",
   "language": "python",
   "name": "python3"
  },
  "language_info": {
   "codemirror_mode": {
    "name": "ipython",
    "version": 3
   },
   "file_extension": ".py",
   "mimetype": "text/x-python",
   "name": "python",
   "nbconvert_exporter": "python",
   "pygments_lexer": "ipython3",
   "version": "3.6.1"
  }
 },
 "nbformat": 4,
 "nbformat_minor": 2
}
