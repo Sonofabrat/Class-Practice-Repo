{
 "cells": [
  {
   "cell_type": "markdown",
   "metadata": {},
   "source": [
    "### Some Twitter Data!\n",
    "Daniel Zheng"
   ]
  },
  {
   "cell_type": "code",
   "execution_count": 7,
   "metadata": {},
   "outputs": [],
   "source": [
    "import seaborn as sns\n",
    "import matplotlib.pyplot as plt\n",
    "import tweepy as tp\n",
    "import pandas as pd"
   ]
  },
  {
   "cell_type": "code",
   "execution_count": 8,
   "metadata": {},
   "outputs": [],
   "source": [
    "key, secret = open('api_key.txt').read().splitlines()"
   ]
  },
  {
   "cell_type": "code",
   "execution_count": 9,
   "metadata": {},
   "outputs": [],
   "source": [
    "auth = tp.OAuthHandler(consumer_key=key, consumer_secret=secret)\n",
    "api = tp.API(auth)"
   ]
  },
  {
   "cell_type": "code",
   "execution_count": 13,
   "metadata": {},
   "outputs": [],
   "source": [
    "trump = api.user_timeline(id='realDonaldTrump') # last 20 tweets"
   ]
  },
  {
   "cell_type": "code",
   "execution_count": 26,
   "metadata": {},
   "outputs": [
    {
     "data": {
      "text/plain": [
       "<bound method Status.retweets of Status(favorited=False, truncated=False, source='Twitter for iPhone', source_url='http://twitter.com/download/iphone', extended_entities={'media': [{'sizes': {'small': {'resize': 'fit', 'w': 340, 'h': 191}, 'medium': {'resize': 'fit', 'w': 600, 'h': 338}, 'thumb': {'resize': 'crop', 'w': 150, 'h': 150}, 'large': {'resize': 'fit', 'w': 1024, 'h': 576}}, 'video_info': {'aspect_ratio': [16, 9], 'duration_millis': 139740, 'variants': [{'content_type': 'video/mp4', 'bitrate': 832000, 'url': 'https://video.twimg.com/ext_tw_video/915717596414017536/pu/vid/640x360/pVL71D4hPVv8oNij.mp4'}, {'content_type': 'application/x-mpegURL', 'url': 'https://video.twimg.com/ext_tw_video/915717596414017536/pu/pl/oolbDnwrlW5D3ltq.m3u8'}, {'content_type': 'video/mp4', 'bitrate': 320000, 'url': 'https://video.twimg.com/ext_tw_video/915717596414017536/pu/vid/320x180/zNKwaKPRxxtDEcHj.mp4'}, {'content_type': 'video/mp4', 'bitrate': 2176000, 'url': 'https://video.twimg.com/ext_tw_video/915717596414017536/pu/vid/1280x720/PT_7y5VRuDXWEGBw.mp4'}]}, 'media_url_https': 'https://pbs.twimg.com/ext_tw_video_thumb/915717596414017536/pu/img/_oumMLBSSSrqVz9-.jpg', 'url': 'https://t.co/nxRWeR1gEz', 'indices': [23, 46], 'id_str': '915717596414017536', 'additional_media_info': {'monetizable': False}, 'expanded_url': 'https://twitter.com/realDonaldTrump/status/915722355757985792/video/1', 'id': 915717596414017536, 'display_url': 'pic.twitter.com/nxRWeR1gEz', 'type': 'video', 'media_url': 'http://pbs.twimg.com/ext_tw_video_thumb/915717596414017536/pu/img/_oumMLBSSSrqVz9-.jpg'}]}, created_at=datetime.datetime(2017, 10, 4, 23, 36, 37), id_str='915722355757985792', contributors=None, author=User(follow_request_sent=None, description='45th President of the United States of America🇺🇸', profile_link_color='1B95E0', id_str='25073877', name='Donald J. Trump', time_zone='Eastern Time (US & Canada)', profile_image_url='http://pbs.twimg.com/profile_images/874276197357596672/kUuht00m_normal.jpg', profile_background_image_url_https='https://pbs.twimg.com/profile_background_images/530021613/trump_scotland__43_of_70_cc.jpg', following=False, profile_use_background_image=True, profile_sidebar_fill_color='C5CEC0', is_translator=False, utc_offset=-14400, url=None, profile_banner_url='https://pbs.twimg.com/profile_banners/25073877/1506284043', notifications=None, is_translation_enabled=True, id=25073877, profile_background_color='6D5C18', listed_count=77708, favourites_count=15, protected=False, _json={'screen_name': 'realDonaldTrump', 'profile_link_color': '1B95E0', 'notifications': None, 'default_profile': False, 'follow_request_sent': None, 'description': '45th President of the United States of America🇺🇸', 'profile_image_url_https': 'https://pbs.twimg.com/profile_images/874276197357596672/kUuht00m_normal.jpg', 'profile_background_tile': True, 'profile_use_background_image': True, 'default_profile_image': False, 'id_str': '25073877', 'following': None, 'name': 'Donald J. Trump', 'friends_count': 45, 'profile_image_url': 'http://pbs.twimg.com/profile_images/874276197357596672/kUuht00m_normal.jpg', 'time_zone': 'Eastern Time (US & Canada)', 'profile_background_image_url_https': 'https://pbs.twimg.com/profile_background_images/530021613/trump_scotland__43_of_70_cc.jpg', 'entities': {'description': {'urls': []}}, 'location': 'Washington, DC', 'profile_background_image_url': 'http://pbs.twimg.com/profile_background_images/530021613/trump_scotland__43_of_70_cc.jpg', 'created_at': 'Wed Mar 18 13:46:38 +0000 2009', 'followers_count': 39981114, 'profile_sidebar_fill_color': 'C5CEC0', 'is_translator': False, 'utc_offset': -14400, 'geo_enabled': True, 'contributors_enabled': False, 'profile_banner_url': 'https://pbs.twimg.com/profile_banners/25073877/1506284043', 'has_extended_profile': False, 'profile_sidebar_border_color': 'BDDCAD', 'verified': True, 'is_translation_enabled': True, 'translator_type': 'regular', 'lang': 'en', 'profile_background_color': '6D5C18', 'listed_count': 77708, 'favourites_count': 15, 'profile_text_color': '333333', 'statuses_count': 35997, 'url': None, 'protected': False, 'id': 25073877}, default_profile_image=False, profile_image_url_https='https://pbs.twimg.com/profile_images/874276197357596672/kUuht00m_normal.jpg', profile_background_tile=True, created_at=datetime.datetime(2009, 3, 18, 13, 46, 38), followers_count=39981114, friends_count=45, entities={'description': {'urls': []}}, location='Washington, DC', profile_background_image_url='http://pbs.twimg.com/profile_background_images/530021613/trump_scotland__43_of_70_cc.jpg', _api=<tweepy.api.API object at 0x7f18822ca940>, screen_name='realDonaldTrump', default_profile=False, contributors_enabled=False, has_extended_profile=False, profile_sidebar_border_color='BDDCAD', verified=True, lang='en', translator_type='regular', profile_text_color='333333', statuses_count=35997, geo_enabled=True), coordinates=None, geo=None, favorite_count=12992, in_reply_to_user_id=None, in_reply_to_user_id_str=None, entities={'urls': [], 'media': [{'expanded_url': 'https://twitter.com/realDonaldTrump/status/915722355757985792/video/1', 'sizes': {'small': {'resize': 'fit', 'w': 340, 'h': 191}, 'medium': {'resize': 'fit', 'w': 600, 'h': 338}, 'thumb': {'resize': 'crop', 'w': 150, 'h': 150}, 'large': {'resize': 'fit', 'w': 1024, 'h': 576}}, 'display_url': 'pic.twitter.com/nxRWeR1gEz', 'media_url': 'http://pbs.twimg.com/ext_tw_video_thumb/915717596414017536/pu/img/_oumMLBSSSrqVz9-.jpg', 'media_url_https': 'https://pbs.twimg.com/ext_tw_video_thumb/915717596414017536/pu/img/_oumMLBSSSrqVz9-.jpg', 'url': 'https://t.co/nxRWeR1gEz', 'id_str': '915717596414017536', 'type': 'photo', 'indices': [23, 46], 'id': 915717596414017536}], 'user_mentions': [], 'hashtags': [], 'symbols': []}, in_reply_to_status_id=None, retweet_count=3585, _api=<tweepy.api.API object at 0x7f18822ca940>, is_quote_status=False, retweeted=False, in_reply_to_status_id_str=None, place=None, user=User(follow_request_sent=None, description='45th President of the United States of America🇺🇸', profile_link_color='1B95E0', id_str='25073877', name='Donald J. Trump', time_zone='Eastern Time (US & Canada)', profile_image_url='http://pbs.twimg.com/profile_images/874276197357596672/kUuht00m_normal.jpg', profile_background_image_url_https='https://pbs.twimg.com/profile_background_images/530021613/trump_scotland__43_of_70_cc.jpg', following=False, profile_use_background_image=True, profile_sidebar_fill_color='C5CEC0', is_translator=False, utc_offset=-14400, url=None, profile_banner_url='https://pbs.twimg.com/profile_banners/25073877/1506284043', notifications=None, is_translation_enabled=True, id=25073877, profile_background_color='6D5C18', listed_count=77708, favourites_count=15, protected=False, _json={'screen_name': 'realDonaldTrump', 'profile_link_color': '1B95E0', 'notifications': None, 'default_profile': False, 'follow_request_sent': None, 'description': '45th President of the United States of America🇺🇸', 'profile_image_url_https': 'https://pbs.twimg.com/profile_images/874276197357596672/kUuht00m_normal.jpg', 'profile_background_tile': True, 'profile_use_background_image': True, 'default_profile_image': False, 'id_str': '25073877', 'following': None, 'name': 'Donald J. Trump', 'friends_count': 45, 'profile_image_url': 'http://pbs.twimg.com/profile_images/874276197357596672/kUuht00m_normal.jpg', 'time_zone': 'Eastern Time (US & Canada)', 'profile_background_image_url_https': 'https://pbs.twimg.com/profile_background_images/530021613/trump_scotland__43_of_70_cc.jpg', 'entities': {'description': {'urls': []}}, 'location': 'Washington, DC', 'profile_background_image_url': 'http://pbs.twimg.com/profile_background_images/530021613/trump_scotland__43_of_70_cc.jpg', 'created_at': 'Wed Mar 18 13:46:38 +0000 2009', 'followers_count': 39981114, 'profile_sidebar_fill_color': 'C5CEC0', 'is_translator': False, 'utc_offset': -14400, 'geo_enabled': True, 'contributors_enabled': False, 'profile_banner_url': 'https://pbs.twimg.com/profile_banners/25073877/1506284043', 'has_extended_profile': False, 'profile_sidebar_border_color': 'BDDCAD', 'verified': True, 'is_translation_enabled': True, 'translator_type': 'regular', 'lang': 'en', 'profile_background_color': '6D5C18', 'listed_count': 77708, 'favourites_count': 15, 'profile_text_color': '333333', 'statuses_count': 35997, 'url': None, 'protected': False, 'id': 25073877}, default_profile_image=False, profile_image_url_https='https://pbs.twimg.com/profile_images/874276197357596672/kUuht00m_normal.jpg', profile_background_tile=True, created_at=datetime.datetime(2009, 3, 18, 13, 46, 38), followers_count=39981114, friends_count=45, entities={'description': {'urls': []}}, location='Washington, DC', profile_background_image_url='http://pbs.twimg.com/profile_background_images/530021613/trump_scotland__43_of_70_cc.jpg', _api=<tweepy.api.API object at 0x7f18822ca940>, screen_name='realDonaldTrump', default_profile=False, contributors_enabled=False, has_extended_profile=False, profile_sidebar_border_color='BDDCAD', verified=True, lang='en', translator_type='regular', profile_text_color='333333', statuses_count=35997, geo_enabled=True), text='WE LOVE YOU LAS VEGAS! https://t.co/nxRWeR1gEz', possibly_sensitive=False, in_reply_to_screen_name=None, lang='en', id=915722355757985792, _json={'favorited': False, 'truncated': False, 'source': '<a href=\"http://twitter.com/download/iphone\" rel=\"nofollow\">Twitter for iPhone</a>', 'extended_entities': {'media': [{'sizes': {'small': {'resize': 'fit', 'w': 340, 'h': 191}, 'medium': {'resize': 'fit', 'w': 600, 'h': 338}, 'thumb': {'resize': 'crop', 'w': 150, 'h': 150}, 'large': {'resize': 'fit', 'w': 1024, 'h': 576}}, 'video_info': {'aspect_ratio': [16, 9], 'duration_millis': 139740, 'variants': [{'content_type': 'video/mp4', 'bitrate': 832000, 'url': 'https://video.twimg.com/ext_tw_video/915717596414017536/pu/vid/640x360/pVL71D4hPVv8oNij.mp4'}, {'content_type': 'application/x-mpegURL', 'url': 'https://video.twimg.com/ext_tw_video/915717596414017536/pu/pl/oolbDnwrlW5D3ltq.m3u8'}, {'content_type': 'video/mp4', 'bitrate': 320000, 'url': 'https://video.twimg.com/ext_tw_video/915717596414017536/pu/vid/320x180/zNKwaKPRxxtDEcHj.mp4'}, {'content_type': 'video/mp4', 'bitrate': 2176000, 'url': 'https://video.twimg.com/ext_tw_video/915717596414017536/pu/vid/1280x720/PT_7y5VRuDXWEGBw.mp4'}]}, 'media_url_https': 'https://pbs.twimg.com/ext_tw_video_thumb/915717596414017536/pu/img/_oumMLBSSSrqVz9-.jpg', 'url': 'https://t.co/nxRWeR1gEz', 'indices': [23, 46], 'id_str': '915717596414017536', 'additional_media_info': {'monetizable': False}, 'expanded_url': 'https://twitter.com/realDonaldTrump/status/915722355757985792/video/1', 'id': 915717596414017536, 'display_url': 'pic.twitter.com/nxRWeR1gEz', 'type': 'video', 'media_url': 'http://pbs.twimg.com/ext_tw_video_thumb/915717596414017536/pu/img/_oumMLBSSSrqVz9-.jpg'}]}, 'lang': 'en', 'id_str': '915722355757985792', 'contributors': None, 'geo': None, 'favorite_count': 12992, 'in_reply_to_user_id': None, 'in_reply_to_user_id_str': None, 'entities': {'urls': [], 'media': [{'expanded_url': 'https://twitter.com/realDonaldTrump/status/915722355757985792/video/1', 'sizes': {'small': {'resize': 'fit', 'w': 340, 'h': 191}, 'medium': {'resize': 'fit', 'w': 600, 'h': 338}, 'thumb': {'resize': 'crop', 'w': 150, 'h': 150}, 'large': {'resize': 'fit', 'w': 1024, 'h': 576}}, 'display_url': 'pic.twitter.com/nxRWeR1gEz', 'media_url': 'http://pbs.twimg.com/ext_tw_video_thumb/915717596414017536/pu/img/_oumMLBSSSrqVz9-.jpg', 'media_url_https': 'https://pbs.twimg.com/ext_tw_video_thumb/915717596414017536/pu/img/_oumMLBSSSrqVz9-.jpg', 'url': 'https://t.co/nxRWeR1gEz', 'id_str': '915717596414017536', 'type': 'photo', 'indices': [23, 46], 'id': 915717596414017536}], 'user_mentions': [], 'hashtags': [], 'symbols': []}, 'in_reply_to_status_id': None, 'retweet_count': 3585, 'created_at': 'Wed Oct 04 23:36:37 +0000 2017', 'is_quote_status': False, 'retweeted': False, 'place': None, 'possibly_sensitive': False, 'text': 'WE LOVE YOU LAS VEGAS! https://t.co/nxRWeR1gEz', 'user': {'screen_name': 'realDonaldTrump', 'profile_link_color': '1B95E0', 'notifications': None, 'default_profile': False, 'follow_request_sent': None, 'description': '45th President of the United States of America🇺🇸', 'profile_image_url_https': 'https://pbs.twimg.com/profile_images/874276197357596672/kUuht00m_normal.jpg', 'profile_background_tile': True, 'profile_use_background_image': True, 'default_profile_image': False, 'id_str': '25073877', 'following': None, 'name': 'Donald J. Trump', 'friends_count': 45, 'profile_image_url': 'http://pbs.twimg.com/profile_images/874276197357596672/kUuht00m_normal.jpg', 'time_zone': 'Eastern Time (US & Canada)', 'profile_background_image_url_https': 'https://pbs.twimg.com/profile_background_images/530021613/trump_scotland__43_of_70_cc.jpg', 'entities': {'description': {'urls': []}}, 'location': 'Washington, DC', 'profile_background_image_url': 'http://pbs.twimg.com/profile_background_images/530021613/trump_scotland__43_of_70_cc.jpg', 'created_at': 'Wed Mar 18 13:46:38 +0000 2009', 'followers_count': 39981114, 'profile_sidebar_fill_color': 'C5CEC0', 'is_translator': False, 'utc_offset': -14400, 'geo_enabled': True, 'contributors_enabled': False, 'profile_banner_url': 'https://pbs.twimg.com/profile_banners/25073877/1506284043', 'has_extended_profile': False, 'profile_sidebar_border_color': 'BDDCAD', 'verified': True, 'is_translation_enabled': True, 'translator_type': 'regular', 'lang': 'en', 'profile_background_color': '6D5C18', 'listed_count': 77708, 'favourites_count': 15, 'profile_text_color': '333333', 'statuses_count': 35997, 'url': None, 'protected': False, 'id': 25073877}, 'in_reply_to_screen_name': None, 'id': 915722355757985792, 'coordinates': None, 'in_reply_to_status_id_str': None})>"
      ]
     },
     "execution_count": 26,
     "metadata": {},
     "output_type": "execute_result"
    }
   ],
   "source": [
    "# let's take a look at the first one\n",
    "tweet = trump[0]\n",
    "tweet.retweets"
   ]
  },
  {
   "cell_type": "code",
   "execution_count": null,
   "metadata": {},
   "outputs": [],
   "source": []
  },
  {
   "cell_type": "code",
   "execution_count": null,
   "metadata": {
    "collapsed": true
   },
   "outputs": [],
   "source": []
  }
 ],
 "metadata": {
  "kernelspec": {
   "display_name": "Python 3",
   "language": "python",
   "name": "python3"
  },
  "language_info": {
   "codemirror_mode": {
    "name": "ipython",
    "version": 3
   },
   "file_extension": ".py",
   "mimetype": "text/x-python",
   "name": "python",
   "nbconvert_exporter": "python",
   "pygments_lexer": "ipython3",
   "version": "3.5.2"
  }
 },
 "nbformat": 4,
 "nbformat_minor": 2
}
