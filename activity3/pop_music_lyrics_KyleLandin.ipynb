{
 "cells": [
  {
   "cell_type": "markdown",
   "metadata": {},
   "source": [
    "# 50 Years of Pop Music: A Lyrical Analysis\n",
    "\n",
    "- Class activity 3, 9/12/2017 \n",
    "- Data courtesy of Kaylin Walker: http://kaylinwalker.com/50-years-of-pop-music/"
   ]
  },
  {
   "cell_type": "markdown",
   "metadata": {},
   "source": [
    "## (1) Read in the spreadsheet file as a DataFrame\n",
    "- Create a DataFrame called `songs` from the spreadsheet. \n",
    "- You will likely run into an encoding error. Who can figure out the correct encoding? \n",
    "- Once successfully loaded, explore the DF. Use the following methods: `.head()`, `.tail()`, `.info()`, `.describe()`. \n",
    "- What are the column labels and row indexes?\n",
    "- How to improve organization?"
   ]
  },
  {
   "cell_type": "code",
   "execution_count": 3,
   "metadata": {},
   "outputs": [
    {
     "name": "stdout",
     "output_type": "stream",
     "text": [
      "<class 'pandas.core.frame.DataFrame'>\n",
      "RangeIndex: 5100 entries, 0 to 5099\n",
      "Data columns (total 6 columns):\n",
      "Rank      5100 non-null int64\n",
      "Song      5100 non-null object\n",
      "Artist    5100 non-null object\n",
      "Year      5100 non-null int64\n",
      "Lyrics    4913 non-null object\n",
      "Source    4913 non-null float64\n",
      "dtypes: float64(1), int64(2), object(3)\n",
      "memory usage: 239.1+ KB\n"
     ]
    },
    {
     "data": {
      "text/html": [
       "<div>\n",
       "<style>\n",
       "    .dataframe thead tr:only-child th {\n",
       "        text-align: right;\n",
       "    }\n",
       "\n",
       "    .dataframe thead th {\n",
       "        text-align: left;\n",
       "    }\n",
       "\n",
       "    .dataframe tbody tr th {\n",
       "        vertical-align: top;\n",
       "    }\n",
       "</style>\n",
       "<table border=\"1\" class=\"dataframe\">\n",
       "  <thead>\n",
       "    <tr style=\"text-align: right;\">\n",
       "      <th></th>\n",
       "      <th>Rank</th>\n",
       "      <th>Song</th>\n",
       "      <th>Artist</th>\n",
       "      <th>Year</th>\n",
       "      <th>Lyrics</th>\n",
       "      <th>Source</th>\n",
       "    </tr>\n",
       "  </thead>\n",
       "  <tbody>\n",
       "    <tr>\n",
       "      <th>0</th>\n",
       "      <td>1</td>\n",
       "      <td>wooly bully</td>\n",
       "      <td>sam the sham and the pharaohs</td>\n",
       "      <td>1965</td>\n",
       "      <td>sam the sham miscellaneous wooly bully wooly b...</td>\n",
       "      <td>3.0</td>\n",
       "    </tr>\n",
       "    <tr>\n",
       "      <th>1</th>\n",
       "      <td>2</td>\n",
       "      <td>i cant help myself sugar pie honey bunch</td>\n",
       "      <td>four tops</td>\n",
       "      <td>1965</td>\n",
       "      <td>sugar pie honey bunch you know that i love yo...</td>\n",
       "      <td>1.0</td>\n",
       "    </tr>\n",
       "    <tr>\n",
       "      <th>2</th>\n",
       "      <td>3</td>\n",
       "      <td>i cant get no satisfaction</td>\n",
       "      <td>the rolling stones</td>\n",
       "      <td>1965</td>\n",
       "      <td></td>\n",
       "      <td>1.0</td>\n",
       "    </tr>\n",
       "    <tr>\n",
       "      <th>3</th>\n",
       "      <td>4</td>\n",
       "      <td>you were on my mind</td>\n",
       "      <td>we five</td>\n",
       "      <td>1965</td>\n",
       "      <td>when i woke up this morning you were on my mi...</td>\n",
       "      <td>1.0</td>\n",
       "    </tr>\n",
       "    <tr>\n",
       "      <th>4</th>\n",
       "      <td>5</td>\n",
       "      <td>youve lost that lovin feelin</td>\n",
       "      <td>the righteous brothers</td>\n",
       "      <td>1965</td>\n",
       "      <td>you never close your eyes anymore when i kiss...</td>\n",
       "      <td>1.0</td>\n",
       "    </tr>\n",
       "    <tr>\n",
       "      <th>5</th>\n",
       "      <td>6</td>\n",
       "      <td>downtown</td>\n",
       "      <td>petula clark</td>\n",
       "      <td>1965</td>\n",
       "      <td>when youre alone and life is making you lonel...</td>\n",
       "      <td>1.0</td>\n",
       "    </tr>\n",
       "    <tr>\n",
       "      <th>6</th>\n",
       "      <td>7</td>\n",
       "      <td>help</td>\n",
       "      <td>the beatles</td>\n",
       "      <td>1965</td>\n",
       "      <td>help i need somebody help not just anybody hel...</td>\n",
       "      <td>3.0</td>\n",
       "    </tr>\n",
       "    <tr>\n",
       "      <th>7</th>\n",
       "      <td>8</td>\n",
       "      <td>cant you hear my heart beat</td>\n",
       "      <td>hermans hermits</td>\n",
       "      <td>1965</td>\n",
       "      <td>carterlewis every time i see you lookin my way...</td>\n",
       "      <td>5.0</td>\n",
       "    </tr>\n",
       "    <tr>\n",
       "      <th>8</th>\n",
       "      <td>9</td>\n",
       "      <td>crying in the chapel</td>\n",
       "      <td>elvis presley</td>\n",
       "      <td>1965</td>\n",
       "      <td>you saw me crying in the chapel the tears i s...</td>\n",
       "      <td>1.0</td>\n",
       "    </tr>\n",
       "    <tr>\n",
       "      <th>9</th>\n",
       "      <td>10</td>\n",
       "      <td>my girl</td>\n",
       "      <td>the temptations</td>\n",
       "      <td>1965</td>\n",
       "      <td>ive got sunshine on a cloudy day when its cold...</td>\n",
       "      <td>3.0</td>\n",
       "    </tr>\n",
       "    <tr>\n",
       "      <th>10</th>\n",
       "      <td>11</td>\n",
       "      <td>help me rhonda</td>\n",
       "      <td>the beach boys</td>\n",
       "      <td>1965</td>\n",
       "      <td>well since she put me down i ve been out doin ...</td>\n",
       "      <td>3.0</td>\n",
       "    </tr>\n",
       "    <tr>\n",
       "      <th>11</th>\n",
       "      <td>12</td>\n",
       "      <td>king of the road</td>\n",
       "      <td>roger miller</td>\n",
       "      <td>1965</td>\n",
       "      <td>trailer for sale or rent rooms to let fifty c...</td>\n",
       "      <td>1.0</td>\n",
       "    </tr>\n",
       "    <tr>\n",
       "      <th>12</th>\n",
       "      <td>13</td>\n",
       "      <td>the birds and the bees</td>\n",
       "      <td>jewel akens</td>\n",
       "      <td>1965</td>\n",
       "      <td>let me tell ya bout the birds and the bees and...</td>\n",
       "      <td>3.0</td>\n",
       "    </tr>\n",
       "    <tr>\n",
       "      <th>13</th>\n",
       "      <td>14</td>\n",
       "      <td>hold me thrill me kiss me</td>\n",
       "      <td>mel carter</td>\n",
       "      <td>1965</td>\n",
       "      <td>hold me hold me never let me go until youve t...</td>\n",
       "      <td>1.0</td>\n",
       "    </tr>\n",
       "    <tr>\n",
       "      <th>14</th>\n",
       "      <td>15</td>\n",
       "      <td>shotgun</td>\n",
       "      <td>junior walker  the all stars</td>\n",
       "      <td>1965</td>\n",
       "      <td>i said Ì¢shotgun shoot em for he runs now do t...</td>\n",
       "      <td>3.0</td>\n",
       "    </tr>\n",
       "    <tr>\n",
       "      <th>15</th>\n",
       "      <td>16</td>\n",
       "      <td>i got you babe</td>\n",
       "      <td>sonny  cher</td>\n",
       "      <td>1965</td>\n",
       "      <td>they say were young and we dont know we wont f...</td>\n",
       "      <td>3.0</td>\n",
       "    </tr>\n",
       "    <tr>\n",
       "      <th>16</th>\n",
       "      <td>17</td>\n",
       "      <td>this diamond ring</td>\n",
       "      <td>gary lewis  the playboys</td>\n",
       "      <td>1965</td>\n",
       "      <td>who wants to buy this diamond ring she took it...</td>\n",
       "      <td>3.0</td>\n",
       "    </tr>\n",
       "    <tr>\n",
       "      <th>17</th>\n",
       "      <td>18</td>\n",
       "      <td>the in crowd</td>\n",
       "      <td>ramsey lewis trio</td>\n",
       "      <td>1965</td>\n",
       "      <td>instrumental</td>\n",
       "      <td>3.0</td>\n",
       "    </tr>\n",
       "    <tr>\n",
       "      <th>18</th>\n",
       "      <td>19</td>\n",
       "      <td>mrs brown youve got a lovely daughter</td>\n",
       "      <td>hermans hermits</td>\n",
       "      <td>1965</td>\n",
       "      <td>mrs brown youve got a lovely daughter girls a...</td>\n",
       "      <td>1.0</td>\n",
       "    </tr>\n",
       "    <tr>\n",
       "      <th>19</th>\n",
       "      <td>20</td>\n",
       "      <td>stop in the name of love</td>\n",
       "      <td>the supremes</td>\n",
       "      <td>1965</td>\n",
       "      <td>stop in the name of love before you break my ...</td>\n",
       "      <td>1.0</td>\n",
       "    </tr>\n",
       "  </tbody>\n",
       "</table>\n",
       "</div>"
      ],
      "text/plain": [
       "    Rank                                      Song  \\\n",
       "0      1                               wooly bully   \n",
       "1      2  i cant help myself sugar pie honey bunch   \n",
       "2      3                i cant get no satisfaction   \n",
       "3      4                       you were on my mind   \n",
       "4      5              youve lost that lovin feelin   \n",
       "5      6                                  downtown   \n",
       "6      7                                      help   \n",
       "7      8               cant you hear my heart beat   \n",
       "8      9                      crying in the chapel   \n",
       "9     10                                   my girl   \n",
       "10    11                            help me rhonda   \n",
       "11    12                          king of the road   \n",
       "12    13                    the birds and the bees   \n",
       "13    14                 hold me thrill me kiss me   \n",
       "14    15                                   shotgun   \n",
       "15    16                            i got you babe   \n",
       "16    17                         this diamond ring   \n",
       "17    18                              the in crowd   \n",
       "18    19     mrs brown youve got a lovely daughter   \n",
       "19    20                  stop in the name of love   \n",
       "\n",
       "                           Artist  Year  \\\n",
       "0   sam the sham and the pharaohs  1965   \n",
       "1                       four tops  1965   \n",
       "2              the rolling stones  1965   \n",
       "3                         we five  1965   \n",
       "4          the righteous brothers  1965   \n",
       "5                    petula clark  1965   \n",
       "6                     the beatles  1965   \n",
       "7                 hermans hermits  1965   \n",
       "8                   elvis presley  1965   \n",
       "9                 the temptations  1965   \n",
       "10                 the beach boys  1965   \n",
       "11                   roger miller  1965   \n",
       "12                    jewel akens  1965   \n",
       "13                     mel carter  1965   \n",
       "14   junior walker  the all stars  1965   \n",
       "15                    sonny  cher  1965   \n",
       "16       gary lewis  the playboys  1965   \n",
       "17              ramsey lewis trio  1965   \n",
       "18                hermans hermits  1965   \n",
       "19                   the supremes  1965   \n",
       "\n",
       "                                               Lyrics  Source  \n",
       "0   sam the sham miscellaneous wooly bully wooly b...     3.0  \n",
       "1    sugar pie honey bunch you know that i love yo...     1.0  \n",
       "2                                                         1.0  \n",
       "3    when i woke up this morning you were on my mi...     1.0  \n",
       "4    you never close your eyes anymore when i kiss...     1.0  \n",
       "5    when youre alone and life is making you lonel...     1.0  \n",
       "6   help i need somebody help not just anybody hel...     3.0  \n",
       "7   carterlewis every time i see you lookin my way...     5.0  \n",
       "8    you saw me crying in the chapel the tears i s...     1.0  \n",
       "9   ive got sunshine on a cloudy day when its cold...     3.0  \n",
       "10  well since she put me down i ve been out doin ...     3.0  \n",
       "11   trailer for sale or rent rooms to let fifty c...     1.0  \n",
       "12  let me tell ya bout the birds and the bees and...     3.0  \n",
       "13   hold me hold me never let me go until youve t...     1.0  \n",
       "14  i said Ì¢shotgun shoot em for he runs now do t...     3.0  \n",
       "15  they say were young and we dont know we wont f...     3.0  \n",
       "16  who wants to buy this diamond ring she took it...     3.0  \n",
       "17                                       instrumental     3.0  \n",
       "18   mrs brown youve got a lovely daughter girls a...     1.0  \n",
       "19   stop in the name of love before you break my ...     1.0  "
      ]
     },
     "execution_count": 3,
     "metadata": {},
     "output_type": "execute_result"
    }
   ],
   "source": [
    "import pandas as pd\n",
    "songs = pd.read_csv('billboard_lyrics_1964-2015.csv', encoding=\"ISO8859\") # cp1252 also works\n",
    "\n",
    "songs.head(20)\n",
    "songs.tail()\n",
    "songs.info()\n",
    "songs.describe()\n",
    "songs.head(20)"
   ]
  },
  {
   "cell_type": "markdown",
   "metadata": {},
   "source": [
    "## (2) Reorganize and clean up\n",
    "- Rearrange the columns so that they are ordered: Year - Rank - Artist - Song - Lyrics. \n",
    "- Get rid of Source column. \n",
    "- What about the index? "
   ]
  },
  {
   "cell_type": "code",
   "execution_count": 4,
   "metadata": {},
   "outputs": [
    {
     "data": {
      "text/plain": [
       "pandas.core.frame.DataFrame"
      ]
     },
     "execution_count": 4,
     "metadata": {},
     "output_type": "execute_result"
    }
   ],
   "source": [
    "songs[['Artist']].head()\n",
    "type(songs[['Artist']])"
   ]
  },
  {
   "cell_type": "code",
   "execution_count": 5,
   "metadata": {},
   "outputs": [
    {
     "data": {
      "text/html": [
       "<div>\n",
       "<style>\n",
       "    .dataframe thead tr:only-child th {\n",
       "        text-align: right;\n",
       "    }\n",
       "\n",
       "    .dataframe thead th {\n",
       "        text-align: left;\n",
       "    }\n",
       "\n",
       "    .dataframe tbody tr th {\n",
       "        vertical-align: top;\n",
       "    }\n",
       "</style>\n",
       "<table border=\"1\" class=\"dataframe\">\n",
       "  <thead>\n",
       "    <tr style=\"text-align: right;\">\n",
       "      <th></th>\n",
       "      <th>Year</th>\n",
       "      <th>Rank</th>\n",
       "      <th>Artist</th>\n",
       "      <th>Song</th>\n",
       "      <th>Lyrics</th>\n",
       "    </tr>\n",
       "  </thead>\n",
       "  <tbody>\n",
       "    <tr>\n",
       "      <th>0</th>\n",
       "      <td>1965</td>\n",
       "      <td>1</td>\n",
       "      <td>sam the sham and the pharaohs</td>\n",
       "      <td>wooly bully</td>\n",
       "      <td>sam the sham miscellaneous wooly bully wooly b...</td>\n",
       "    </tr>\n",
       "    <tr>\n",
       "      <th>1</th>\n",
       "      <td>1965</td>\n",
       "      <td>2</td>\n",
       "      <td>four tops</td>\n",
       "      <td>i cant help myself sugar pie honey bunch</td>\n",
       "      <td>sugar pie honey bunch you know that i love yo...</td>\n",
       "    </tr>\n",
       "    <tr>\n",
       "      <th>2</th>\n",
       "      <td>1965</td>\n",
       "      <td>3</td>\n",
       "      <td>the rolling stones</td>\n",
       "      <td>i cant get no satisfaction</td>\n",
       "      <td></td>\n",
       "    </tr>\n",
       "    <tr>\n",
       "      <th>3</th>\n",
       "      <td>1965</td>\n",
       "      <td>4</td>\n",
       "      <td>we five</td>\n",
       "      <td>you were on my mind</td>\n",
       "      <td>when i woke up this morning you were on my mi...</td>\n",
       "    </tr>\n",
       "    <tr>\n",
       "      <th>4</th>\n",
       "      <td>1965</td>\n",
       "      <td>5</td>\n",
       "      <td>the righteous brothers</td>\n",
       "      <td>youve lost that lovin feelin</td>\n",
       "      <td>you never close your eyes anymore when i kiss...</td>\n",
       "    </tr>\n",
       "  </tbody>\n",
       "</table>\n",
       "</div>"
      ],
      "text/plain": [
       "   Year  Rank                         Artist  \\\n",
       "0  1965     1  sam the sham and the pharaohs   \n",
       "1  1965     2                      four tops   \n",
       "2  1965     3             the rolling stones   \n",
       "3  1965     4                        we five   \n",
       "4  1965     5         the righteous brothers   \n",
       "\n",
       "                                       Song  \\\n",
       "0                               wooly bully   \n",
       "1  i cant help myself sugar pie honey bunch   \n",
       "2                i cant get no satisfaction   \n",
       "3                       you were on my mind   \n",
       "4              youve lost that lovin feelin   \n",
       "\n",
       "                                              Lyrics  \n",
       "0  sam the sham miscellaneous wooly bully wooly b...  \n",
       "1   sugar pie honey bunch you know that i love yo...  \n",
       "2                                                     \n",
       "3   when i woke up this morning you were on my mi...  \n",
       "4   you never close your eyes anymore when i kiss...  "
      ]
     },
     "execution_count": 5,
     "metadata": {},
     "output_type": "execute_result"
    }
   ],
   "source": [
    "songs = songs[['Year', 'Rank', 'Artist', 'Song', 'Lyrics']]\n",
    "type(songs)\n",
    "songs.head()"
   ]
  },
  {
   "cell_type": "markdown",
   "metadata": {},
   "source": [
    "## (3) Sanity check\n",
    "- Is the data complete? \n",
    "  - Are there really 50 years represented?\n",
    "  - Does every year have all 100 entries? \n",
    "- Any missing or anomalous data? How to address them?"
   ]
  },
  {
   "cell_type": "code",
   "execution_count": 11,
   "metadata": {},
   "outputs": [
    {
     "data": {
      "text/html": [
       "<div>\n",
       "<style>\n",
       "    .dataframe thead tr:only-child th {\n",
       "        text-align: right;\n",
       "    }\n",
       "\n",
       "    .dataframe thead th {\n",
       "        text-align: left;\n",
       "    }\n",
       "\n",
       "    .dataframe tbody tr th {\n",
       "        vertical-align: top;\n",
       "    }\n",
       "</style>\n",
       "<table border=\"1\" class=\"dataframe\">\n",
       "  <thead>\n",
       "    <tr style=\"text-align: right;\">\n",
       "      <th></th>\n",
       "      <th>Rank</th>\n",
       "      <th>Artist</th>\n",
       "      <th>Song</th>\n",
       "      <th>Lyrics</th>\n",
       "    </tr>\n",
       "    <tr>\n",
       "      <th>Year</th>\n",
       "      <th></th>\n",
       "      <th></th>\n",
       "      <th></th>\n",
       "      <th></th>\n",
       "    </tr>\n",
       "  </thead>\n",
       "  <tbody>\n",
       "    <tr>\n",
       "      <th>1965</th>\n",
       "      <td>1</td>\n",
       "      <td>sam the sham and the pharaohs</td>\n",
       "      <td>wooly bully</td>\n",
       "      <td>sam the sham miscellaneous wooly bully wooly b...</td>\n",
       "    </tr>\n",
       "    <tr>\n",
       "      <th>1965</th>\n",
       "      <td>2</td>\n",
       "      <td>four tops</td>\n",
       "      <td>i cant help myself sugar pie honey bunch</td>\n",
       "      <td>sugar pie honey bunch you know that i love yo...</td>\n",
       "    </tr>\n",
       "    <tr>\n",
       "      <th>1965</th>\n",
       "      <td>3</td>\n",
       "      <td>the rolling stones</td>\n",
       "      <td>i cant get no satisfaction</td>\n",
       "      <td></td>\n",
       "    </tr>\n",
       "    <tr>\n",
       "      <th>1965</th>\n",
       "      <td>4</td>\n",
       "      <td>we five</td>\n",
       "      <td>you were on my mind</td>\n",
       "      <td>when i woke up this morning you were on my mi...</td>\n",
       "    </tr>\n",
       "    <tr>\n",
       "      <th>1965</th>\n",
       "      <td>5</td>\n",
       "      <td>the righteous brothers</td>\n",
       "      <td>youve lost that lovin feelin</td>\n",
       "      <td>you never close your eyes anymore when i kiss...</td>\n",
       "    </tr>\n",
       "  </tbody>\n",
       "</table>\n",
       "</div>"
      ],
      "text/plain": [
       "      Rank                         Artist  \\\n",
       "Year                                        \n",
       "1965     1  sam the sham and the pharaohs   \n",
       "1965     2                      four tops   \n",
       "1965     3             the rolling stones   \n",
       "1965     4                        we five   \n",
       "1965     5         the righteous brothers   \n",
       "\n",
       "                                          Song  \\\n",
       "Year                                             \n",
       "1965                               wooly bully   \n",
       "1965  i cant help myself sugar pie honey bunch   \n",
       "1965                i cant get no satisfaction   \n",
       "1965                       you were on my mind   \n",
       "1965              youve lost that lovin feelin   \n",
       "\n",
       "                                                 Lyrics  \n",
       "Year                                                     \n",
       "1965  sam the sham miscellaneous wooly bully wooly b...  \n",
       "1965   sugar pie honey bunch you know that i love yo...  \n",
       "1965                                                     \n",
       "1965   when i woke up this morning you were on my mi...  \n",
       "1965   you never close your eyes anymore when i kiss...  "
      ]
     },
     "execution_count": 11,
     "metadata": {},
     "output_type": "execute_result"
    }
   ],
   "source": [
    "# Your code here\n",
    "songs.set_index(\"Year\", inplace=True)\n",
    "songs.head()"
   ]
  },
  {
   "cell_type": "code",
   "execution_count": 15,
   "metadata": {},
   "outputs": [
    {
     "data": {
      "text/plain": [
       "[1965,\n",
       " 1966,\n",
       " 1967,\n",
       " 1968,\n",
       " 1969,\n",
       " 1970,\n",
       " 1971,\n",
       " 1972,\n",
       " 1973,\n",
       " 1974,\n",
       " 1975,\n",
       " 1976,\n",
       " 1977,\n",
       " 1978,\n",
       " 1979,\n",
       " 1980,\n",
       " 1981,\n",
       " 1982,\n",
       " 1983,\n",
       " 1984,\n",
       " 1985,\n",
       " 1986,\n",
       " 1987,\n",
       " 1988,\n",
       " 1989,\n",
       " 1990,\n",
       " 1991,\n",
       " 1992,\n",
       " 1993,\n",
       " 1994,\n",
       " 1995,\n",
       " 1996,\n",
       " 1997,\n",
       " 1998,\n",
       " 1999,\n",
       " 2000,\n",
       " 2001,\n",
       " 2002,\n",
       " 2003,\n",
       " 2004,\n",
       " 2005,\n",
       " 2006,\n",
       " 2007,\n",
       " 2008,\n",
       " 2009,\n",
       " 2010,\n",
       " 2011,\n",
       " 2012,\n",
       " 2013,\n",
       " 2014,\n",
       " 2015]"
      ]
     },
     "execution_count": 15,
     "metadata": {},
     "output_type": "execute_result"
    }
   ],
   "source": [
    "list(songs.index.unique())"
   ]
  },
  {
   "cell_type": "markdown",
   "metadata": {},
   "source": [
    "## (4) Accessing routines\n",
    "- How to get songs from year 1965 vs. songs from year 2015?\n",
    "- How to get number-1 hits only?\n",
    "- How to get Madonna songs only?\n",
    "- Madonna songs that are top 10? Year 2000 or later? "
   ]
  },
  {
   "cell_type": "code",
   "execution_count": null,
   "metadata": {},
   "outputs": [],
   "source": [
    "# Your code here\n"
   ]
  },
  {
   "cell_type": "markdown",
   "metadata": {},
   "source": [
    "## (5) Who are top artists?\n",
    "- How many artists are represented?\n",
    "- Which artists produced most hits?\n",
    "- How many artists are one-hit wonders?"
   ]
  },
  {
   "cell_type": "code",
   "execution_count": null,
   "metadata": {
    "collapsed": true
   },
   "outputs": [],
   "source": [
    "# Your code here"
   ]
  },
  {
   "cell_type": "markdown",
   "metadata": {},
   "source": [
    "## (6) Create another column: lyric length in word count\n",
    "- All symbols have been removed from lyrics\n",
    "- So, `.split()` works as a rudimentary tokenizer"
   ]
  },
  {
   "cell_type": "code",
   "execution_count": null,
   "metadata": {
    "collapsed": true
   },
   "outputs": [],
   "source": [
    "# Your code here"
   ]
  },
  {
   "cell_type": "markdown",
   "metadata": {},
   "source": [
    "## (7) Filling in missing values\n",
    "- We really need to take care of the missing lyric values. \n",
    "- What are good strategies? Considerations?"
   ]
  },
  {
   "cell_type": "code",
   "execution_count": null,
   "metadata": {
    "collapsed": true
   },
   "outputs": [],
   "source": [
    "# Your code here"
   ]
  },
  {
   "cell_type": "markdown",
   "metadata": {},
   "source": [
    "## (8) A detour: text processing basics\n",
    "- NLTK functions\n",
    "- How to word-tokenize\n",
    "- How to sentence-tokenize\n",
    "- Frequency distribution\n",
    "- Type-token ratio"
   ]
  },
  {
   "cell_type": "code",
   "execution_count": null,
   "metadata": {
    "collapsed": true
   },
   "outputs": [],
   "source": [
    "# Your code here"
   ]
  },
  {
   "cell_type": "markdown",
   "metadata": {},
   "source": [
    "## (9) 50 years apart: songs from 1965 vs. 2015\n",
    "- Let's create two corpora of 1965 lyrics vs. 2015 lyrics\n",
    "- Good ways to highlight differences? "
   ]
  },
  {
   "cell_type": "code",
   "execution_count": null,
   "metadata": {
    "collapsed": true
   },
   "outputs": [],
   "source": [
    "# Your code here"
   ]
  },
  {
   "cell_type": "markdown",
   "metadata": {},
   "source": [
    "## (10) A different take: multi-level index\n",
    "- Alternative organization: use year-and-rank combination as index \n",
    "- Create a copy of `songs` as `songs2` DataFrame\n",
    "- How does accessing work in this DF?"
   ]
  },
  {
   "cell_type": "code",
   "execution_count": null,
   "metadata": {
    "collapsed": true
   },
   "outputs": [],
   "source": [
    "# Your code here"
   ]
  },
  {
   "cell_type": "markdown",
   "metadata": {},
   "source": [
    "## (11) Discussion: data curation method, presentation\n",
    "- How did Walker collect her song lyrics data?\n",
    "- What tools did she use?\n",
    "- How successful was her effort?\n",
    "- How did she present her work, and what are your thoughts?"
   ]
  },
  {
   "cell_type": "markdown",
   "metadata": {},
   "source": [
    "Your notes here in markdown"
   ]
  }
 ],
 "metadata": {
  "kernelspec": {
   "display_name": "Python 3",
   "language": "python",
   "name": "python3"
  },
  "language_info": {
   "codemirror_mode": {
    "name": "ipython",
    "version": 3
   },
   "file_extension": ".py",
   "mimetype": "text/x-python",
   "name": "python",
   "nbconvert_exporter": "python",
   "pygments_lexer": "ipython3",
   "version": "3.6.1"
  }
 },
 "nbformat": 4,
 "nbformat_minor": 2
}
