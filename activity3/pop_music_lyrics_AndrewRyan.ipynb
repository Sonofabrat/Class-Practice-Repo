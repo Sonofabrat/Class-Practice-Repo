{
 "cells": [
  {
   "cell_type": "markdown",
   "metadata": {},
   "source": [
    "# 50 Years of Pop Music: A Lyrical Analysis\n",
    "\n",
    "- Class activity 3, 9/12/2017 \n",
    "- Data courtesy of Kaylin Walker: http://kaylinwalker.com/50-years-of-pop-music/"
   ]
  },
  {
   "cell_type": "markdown",
   "metadata": {},
   "source": [
    "## (1) Read in the spreadsheet file as a DataFrame\n",
    "- Create a DataFrame called `songs` from the spreadsheet. \n",
    "- You will likely run into an encoding error. Who can figure out the correct encoding? \n",
    "- Once successfully loaded, explore the DF. Use the following methods: `.head()`, `.tail()`, `.info()`, `.describe()`. \n",
    "- What are the column labels and row indexes?\n",
    "- How to improve organization?"
   ]
  },
  {
   "cell_type": "code",
   "execution_count": 13,
   "metadata": {},
   "outputs": [
    {
     "data": {
      "text/html": [
       "<div>\n",
       "<style>\n",
       "    .dataframe thead tr:only-child th {\n",
       "        text-align: right;\n",
       "    }\n",
       "\n",
       "    .dataframe thead th {\n",
       "        text-align: left;\n",
       "    }\n",
       "\n",
       "    .dataframe tbody tr th {\n",
       "        vertical-align: top;\n",
       "    }\n",
       "</style>\n",
       "<table border=\"1\" class=\"dataframe\">\n",
       "  <thead>\n",
       "    <tr style=\"text-align: right;\">\n",
       "      <th></th>\n",
       "      <th>Rank</th>\n",
       "      <th>Song</th>\n",
       "      <th>Artist</th>\n",
       "      <th>Year</th>\n",
       "      <th>Lyrics</th>\n",
       "      <th>Source</th>\n",
       "    </tr>\n",
       "  </thead>\n",
       "  <tbody>\n",
       "    <tr>\n",
       "      <th>0</th>\n",
       "      <td>1</td>\n",
       "      <td>wooly bully</td>\n",
       "      <td>sam the sham and the pharaohs</td>\n",
       "      <td>1965</td>\n",
       "      <td>sam the sham miscellaneous wooly bully wooly b...</td>\n",
       "      <td>3.0</td>\n",
       "    </tr>\n",
       "    <tr>\n",
       "      <th>1</th>\n",
       "      <td>2</td>\n",
       "      <td>i cant help myself sugar pie honey bunch</td>\n",
       "      <td>four tops</td>\n",
       "      <td>1965</td>\n",
       "      <td>sugar pie honey bunch you know that i love yo...</td>\n",
       "      <td>1.0</td>\n",
       "    </tr>\n",
       "    <tr>\n",
       "      <th>2</th>\n",
       "      <td>3</td>\n",
       "      <td>i cant get no satisfaction</td>\n",
       "      <td>the rolling stones</td>\n",
       "      <td>1965</td>\n",
       "      <td></td>\n",
       "      <td>1.0</td>\n",
       "    </tr>\n",
       "    <tr>\n",
       "      <th>3</th>\n",
       "      <td>4</td>\n",
       "      <td>you were on my mind</td>\n",
       "      <td>we five</td>\n",
       "      <td>1965</td>\n",
       "      <td>when i woke up this morning you were on my mi...</td>\n",
       "      <td>1.0</td>\n",
       "    </tr>\n",
       "    <tr>\n",
       "      <th>4</th>\n",
       "      <td>5</td>\n",
       "      <td>youve lost that lovin feelin</td>\n",
       "      <td>the righteous brothers</td>\n",
       "      <td>1965</td>\n",
       "      <td>you never close your eyes anymore when i kiss...</td>\n",
       "      <td>1.0</td>\n",
       "    </tr>\n",
       "  </tbody>\n",
       "</table>\n",
       "</div>"
      ],
      "text/plain": [
       "   Rank                                      Song  \\\n",
       "0     1                               wooly bully   \n",
       "1     2  i cant help myself sugar pie honey bunch   \n",
       "2     3                i cant get no satisfaction   \n",
       "3     4                       you were on my mind   \n",
       "4     5              youve lost that lovin feelin   \n",
       "\n",
       "                          Artist  Year  \\\n",
       "0  sam the sham and the pharaohs  1965   \n",
       "1                      four tops  1965   \n",
       "2             the rolling stones  1965   \n",
       "3                        we five  1965   \n",
       "4         the righteous brothers  1965   \n",
       "\n",
       "                                              Lyrics  Source  \n",
       "0  sam the sham miscellaneous wooly bully wooly b...     3.0  \n",
       "1   sugar pie honey bunch you know that i love yo...     1.0  \n",
       "2                                                        1.0  \n",
       "3   when i woke up this morning you were on my mi...     1.0  \n",
       "4   you never close your eyes anymore when i kiss...     1.0  "
      ]
     },
     "execution_count": 13,
     "metadata": {},
     "output_type": "execute_result"
    }
   ],
   "source": [
    "import pandas as pd\n",
    "filepath = 'billboard_lyrics_1964-2015.csv'\n",
    "file = pd.read_csv(filepath, encoding=\"cp1252\")\n",
    "file.head()"
   ]
  },
  {
   "cell_type": "code",
   "execution_count": 14,
   "metadata": {},
   "outputs": [
    {
     "data": {
      "text/html": [
       "<div>\n",
       "<style>\n",
       "    .dataframe thead tr:only-child th {\n",
       "        text-align: right;\n",
       "    }\n",
       "\n",
       "    .dataframe thead th {\n",
       "        text-align: left;\n",
       "    }\n",
       "\n",
       "    .dataframe tbody tr th {\n",
       "        vertical-align: top;\n",
       "    }\n",
       "</style>\n",
       "<table border=\"1\" class=\"dataframe\">\n",
       "  <thead>\n",
       "    <tr style=\"text-align: right;\">\n",
       "      <th></th>\n",
       "      <th>Rank</th>\n",
       "      <th>Song</th>\n",
       "      <th>Artist</th>\n",
       "      <th>Year</th>\n",
       "      <th>Lyrics</th>\n",
       "      <th>Source</th>\n",
       "    </tr>\n",
       "  </thead>\n",
       "  <tbody>\n",
       "    <tr>\n",
       "      <th>5095</th>\n",
       "      <td>96</td>\n",
       "      <td>el perdon</td>\n",
       "      <td>nicky jam and enrique iglesias</td>\n",
       "      <td>2015</td>\n",
       "      <td>enrique iglesias dime si es verdad me dijeron ...</td>\n",
       "      <td>3.0</td>\n",
       "    </tr>\n",
       "    <tr>\n",
       "      <th>5096</th>\n",
       "      <td>97</td>\n",
       "      <td>she knows</td>\n",
       "      <td>neyo featuring juicy j</td>\n",
       "      <td>2015</td>\n",
       "      <td>NaN</td>\n",
       "      <td>NaN</td>\n",
       "    </tr>\n",
       "    <tr>\n",
       "      <th>5097</th>\n",
       "      <td>98</td>\n",
       "      <td>night changes</td>\n",
       "      <td>one direction</td>\n",
       "      <td>2015</td>\n",
       "      <td>going out tonight changes into something red ...</td>\n",
       "      <td>1.0</td>\n",
       "    </tr>\n",
       "    <tr>\n",
       "      <th>5098</th>\n",
       "      <td>99</td>\n",
       "      <td>back to back</td>\n",
       "      <td>drake</td>\n",
       "      <td>2015</td>\n",
       "      <td>oh man oh man oh man not againyeah i learned ...</td>\n",
       "      <td>1.0</td>\n",
       "    </tr>\n",
       "    <tr>\n",
       "      <th>5099</th>\n",
       "      <td>100</td>\n",
       "      <td>how deep is your love</td>\n",
       "      <td>calvin harris and disciples</td>\n",
       "      <td>2015</td>\n",
       "      <td>i want you to breathe me in let me be your ai...</td>\n",
       "      <td>1.0</td>\n",
       "    </tr>\n",
       "  </tbody>\n",
       "</table>\n",
       "</div>"
      ],
      "text/plain": [
       "      Rank                   Song                          Artist  Year  \\\n",
       "5095    96              el perdon  nicky jam and enrique iglesias  2015   \n",
       "5096    97              she knows          neyo featuring juicy j  2015   \n",
       "5097    98          night changes                   one direction  2015   \n",
       "5098    99           back to back                           drake  2015   \n",
       "5099   100  how deep is your love     calvin harris and disciples  2015   \n",
       "\n",
       "                                                 Lyrics  Source  \n",
       "5095  enrique iglesias dime si es verdad me dijeron ...     3.0  \n",
       "5096                                                NaN     NaN  \n",
       "5097   going out tonight changes into something red ...     1.0  \n",
       "5098   oh man oh man oh man not againyeah i learned ...     1.0  \n",
       "5099   i want you to breathe me in let me be your ai...     1.0  "
      ]
     },
     "execution_count": 14,
     "metadata": {},
     "output_type": "execute_result"
    }
   ],
   "source": [
    "file.tail()"
   ]
  },
  {
   "cell_type": "code",
   "execution_count": 15,
   "metadata": {},
   "outputs": [
    {
     "name": "stdout",
     "output_type": "stream",
     "text": [
      "<class 'pandas.core.frame.DataFrame'>\n",
      "RangeIndex: 5100 entries, 0 to 5099\n",
      "Data columns (total 6 columns):\n",
      "Rank      5100 non-null int64\n",
      "Song      5100 non-null object\n",
      "Artist    5100 non-null object\n",
      "Year      5100 non-null int64\n",
      "Lyrics    4913 non-null object\n",
      "Source    4913 non-null float64\n",
      "dtypes: float64(1), int64(2), object(3)\n",
      "memory usage: 239.1+ KB\n"
     ]
    }
   ],
   "source": [
    "file.info()"
   ]
  },
  {
   "cell_type": "code",
   "execution_count": 16,
   "metadata": {},
   "outputs": [
    {
     "data": {
      "text/html": [
       "<div>\n",
       "<style>\n",
       "    .dataframe thead tr:only-child th {\n",
       "        text-align: right;\n",
       "    }\n",
       "\n",
       "    .dataframe thead th {\n",
       "        text-align: left;\n",
       "    }\n",
       "\n",
       "    .dataframe tbody tr th {\n",
       "        vertical-align: top;\n",
       "    }\n",
       "</style>\n",
       "<table border=\"1\" class=\"dataframe\">\n",
       "  <thead>\n",
       "    <tr style=\"text-align: right;\">\n",
       "      <th></th>\n",
       "      <th>Rank</th>\n",
       "      <th>Year</th>\n",
       "      <th>Source</th>\n",
       "    </tr>\n",
       "  </thead>\n",
       "  <tbody>\n",
       "    <tr>\n",
       "      <th>count</th>\n",
       "      <td>5100.0000</td>\n",
       "      <td>5100.000000</td>\n",
       "      <td>4913.000000</td>\n",
       "    </tr>\n",
       "    <tr>\n",
       "      <th>mean</th>\n",
       "      <td>50.5000</td>\n",
       "      <td>1990.000000</td>\n",
       "      <td>1.400977</td>\n",
       "    </tr>\n",
       "    <tr>\n",
       "      <th>std</th>\n",
       "      <td>28.8689</td>\n",
       "      <td>14.721045</td>\n",
       "      <td>0.890375</td>\n",
       "    </tr>\n",
       "    <tr>\n",
       "      <th>min</th>\n",
       "      <td>1.0000</td>\n",
       "      <td>1965.000000</td>\n",
       "      <td>1.000000</td>\n",
       "    </tr>\n",
       "    <tr>\n",
       "      <th>25%</th>\n",
       "      <td>25.7500</td>\n",
       "      <td>1977.000000</td>\n",
       "      <td>1.000000</td>\n",
       "    </tr>\n",
       "    <tr>\n",
       "      <th>50%</th>\n",
       "      <td>50.5000</td>\n",
       "      <td>1990.000000</td>\n",
       "      <td>1.000000</td>\n",
       "    </tr>\n",
       "    <tr>\n",
       "      <th>75%</th>\n",
       "      <td>75.2500</td>\n",
       "      <td>2003.000000</td>\n",
       "      <td>1.000000</td>\n",
       "    </tr>\n",
       "    <tr>\n",
       "      <th>max</th>\n",
       "      <td>100.0000</td>\n",
       "      <td>2015.000000</td>\n",
       "      <td>5.000000</td>\n",
       "    </tr>\n",
       "  </tbody>\n",
       "</table>\n",
       "</div>"
      ],
      "text/plain": [
       "            Rank         Year       Source\n",
       "count  5100.0000  5100.000000  4913.000000\n",
       "mean     50.5000  1990.000000     1.400977\n",
       "std      28.8689    14.721045     0.890375\n",
       "min       1.0000  1965.000000     1.000000\n",
       "25%      25.7500  1977.000000     1.000000\n",
       "50%      50.5000  1990.000000     1.000000\n",
       "75%      75.2500  2003.000000     1.000000\n",
       "max     100.0000  2015.000000     5.000000"
      ]
     },
     "execution_count": 16,
     "metadata": {},
     "output_type": "execute_result"
    }
   ],
   "source": [
    "file.describe()"
   ]
  },
  {
   "cell_type": "markdown",
   "metadata": {},
   "source": [
    "## (2) Reorganize and clean up\n",
    "- Rearrange the columns so that they are ordered: Year - Rank - Artist - Song - Lyrics. \n",
    "- Get rid of Source column. \n",
    "- What about the index? "
   ]
  },
  {
   "cell_type": "code",
   "execution_count": 28,
   "metadata": {},
   "outputs": [
    {
     "data": {
      "text/html": [
       "<div>\n",
       "<style>\n",
       "    .dataframe thead tr:only-child th {\n",
       "        text-align: right;\n",
       "    }\n",
       "\n",
       "    .dataframe thead th {\n",
       "        text-align: left;\n",
       "    }\n",
       "\n",
       "    .dataframe tbody tr th {\n",
       "        vertical-align: top;\n",
       "    }\n",
       "</style>\n",
       "<table border=\"1\" class=\"dataframe\">\n",
       "  <thead>\n",
       "    <tr style=\"text-align: right;\">\n",
       "      <th></th>\n",
       "      <th>Year</th>\n",
       "      <th>Rank</th>\n",
       "      <th>Artist</th>\n",
       "      <th>Song</th>\n",
       "      <th>Lyrics</th>\n",
       "    </tr>\n",
       "  </thead>\n",
       "  <tbody>\n",
       "    <tr>\n",
       "      <th>0</th>\n",
       "      <td>1965</td>\n",
       "      <td>1</td>\n",
       "      <td>sam the sham and the pharaohs</td>\n",
       "      <td>wooly bully</td>\n",
       "      <td>sam the sham miscellaneous wooly bully wooly b...</td>\n",
       "    </tr>\n",
       "    <tr>\n",
       "      <th>1</th>\n",
       "      <td>1965</td>\n",
       "      <td>2</td>\n",
       "      <td>four tops</td>\n",
       "      <td>i cant help myself sugar pie honey bunch</td>\n",
       "      <td>sugar pie honey bunch you know that i love yo...</td>\n",
       "    </tr>\n",
       "    <tr>\n",
       "      <th>2</th>\n",
       "      <td>1965</td>\n",
       "      <td>3</td>\n",
       "      <td>the rolling stones</td>\n",
       "      <td>i cant get no satisfaction</td>\n",
       "      <td></td>\n",
       "    </tr>\n",
       "    <tr>\n",
       "      <th>3</th>\n",
       "      <td>1965</td>\n",
       "      <td>4</td>\n",
       "      <td>we five</td>\n",
       "      <td>you were on my mind</td>\n",
       "      <td>when i woke up this morning you were on my mi...</td>\n",
       "    </tr>\n",
       "    <tr>\n",
       "      <th>4</th>\n",
       "      <td>1965</td>\n",
       "      <td>5</td>\n",
       "      <td>the righteous brothers</td>\n",
       "      <td>youve lost that lovin feelin</td>\n",
       "      <td>you never close your eyes anymore when i kiss...</td>\n",
       "    </tr>\n",
       "  </tbody>\n",
       "</table>\n",
       "</div>"
      ],
      "text/plain": [
       "   Year  Rank                         Artist  \\\n",
       "0  1965     1  sam the sham and the pharaohs   \n",
       "1  1965     2                      four tops   \n",
       "2  1965     3             the rolling stones   \n",
       "3  1965     4                        we five   \n",
       "4  1965     5         the righteous brothers   \n",
       "\n",
       "                                       Song  \\\n",
       "0                               wooly bully   \n",
       "1  i cant help myself sugar pie honey bunch   \n",
       "2                i cant get no satisfaction   \n",
       "3                       you were on my mind   \n",
       "4              youve lost that lovin feelin   \n",
       "\n",
       "                                              Lyrics  \n",
       "0  sam the sham miscellaneous wooly bully wooly b...  \n",
       "1   sugar pie honey bunch you know that i love yo...  \n",
       "2                                                     \n",
       "3   when i woke up this morning you were on my mi...  \n",
       "4   you never close your eyes anymore when i kiss...  "
      ]
     },
     "execution_count": 28,
     "metadata": {},
     "output_type": "execute_result"
    }
   ],
   "source": [
    "file = file[[\"Year\", \"Rank\", \"Artist\", \"Song\", \"Lyrics\"]]\n",
    "file.head()"
   ]
  },
  {
   "cell_type": "markdown",
   "metadata": {},
   "source": [
    "## (3) Sanity check\n",
    "- Is the data complete? \n",
    "  - Are there really 50 years represented?\n",
    "  - Does every year have all 100 entries? \n",
    "- Any missing or anomalous data? How to address them?"
   ]
  },
  {
   "cell_type": "code",
   "execution_count": 18,
   "metadata": {
    "collapsed": true
   },
   "outputs": [],
   "source": [
    "# Your code here"
   ]
  },
  {
   "cell_type": "markdown",
   "metadata": {},
   "source": [
    "## (4) Accessing routines\n",
    "- How to get songs from year 1965 vs. songs from year 2015?\n",
    "- How to get number-1 hits only?\n",
    "- How to get Madonna songs only?\n",
    "- Madonna songs that are top 10? Year 2000 or later? "
   ]
  },
  {
   "cell_type": "code",
   "execution_count": 19,
   "metadata": {
    "collapsed": true
   },
   "outputs": [],
   "source": [
    "# Your code here"
   ]
  },
  {
   "cell_type": "markdown",
   "metadata": {},
   "source": [
    "## (5) Who are top artists?\n",
    "- How many artists are represented?\n",
    "- Which artists produced most hits?\n",
    "- How many artists are one-hit wonders?"
   ]
  },
  {
   "cell_type": "code",
   "execution_count": 20,
   "metadata": {
    "collapsed": true
   },
   "outputs": [],
   "source": [
    "# Your code here"
   ]
  },
  {
   "cell_type": "markdown",
   "metadata": {},
   "source": [
    "## (6) Create another column: lyric length in word count\n",
    "- All symbols have been removed from lyrics\n",
    "- So, `.split()` works as a rudimentary tokenizer"
   ]
  },
  {
   "cell_type": "code",
   "execution_count": 21,
   "metadata": {
    "collapsed": true
   },
   "outputs": [],
   "source": [
    "# Your code here"
   ]
  },
  {
   "cell_type": "markdown",
   "metadata": {},
   "source": [
    "## (7) Filling in missing values\n",
    "- We really need to take care of the missing lyric values. \n",
    "- What are good strategies? Considerations?"
   ]
  },
  {
   "cell_type": "code",
   "execution_count": 22,
   "metadata": {
    "collapsed": true
   },
   "outputs": [],
   "source": [
    "# Your code here"
   ]
  },
  {
   "cell_type": "markdown",
   "metadata": {},
   "source": [
    "## (8) A detour: text processing basics\n",
    "- NLTK functions\n",
    "- How to word-tokenize\n",
    "- How to sentence-tokenize\n",
    "- Frequency distribution\n",
    "- Type-token ratio"
   ]
  },
  {
   "cell_type": "code",
   "execution_count": 23,
   "metadata": {
    "collapsed": true
   },
   "outputs": [],
   "source": [
    "# Your code here"
   ]
  },
  {
   "cell_type": "markdown",
   "metadata": {},
   "source": [
    "## (9) 50 years apart: songs from 1965 vs. 2015\n",
    "- Let's create two corpora of 1965 lyrics vs. 2015 lyrics\n",
    "- Good ways to highlight differences? "
   ]
  },
  {
   "cell_type": "code",
   "execution_count": 24,
   "metadata": {
    "collapsed": true
   },
   "outputs": [],
   "source": [
    "# Your code here"
   ]
  },
  {
   "cell_type": "markdown",
   "metadata": {},
   "source": [
    "## (10) A different take: multi-level index\n",
    "- Alternative organization: use year-and-rank combination as index \n",
    "- Create a copy of `songs` as `songs2` DataFrame\n",
    "- How does accessing work in this DF?"
   ]
  },
  {
   "cell_type": "code",
   "execution_count": 25,
   "metadata": {
    "collapsed": true
   },
   "outputs": [],
   "source": [
    "# Your code here"
   ]
  },
  {
   "cell_type": "markdown",
   "metadata": {},
   "source": [
    "## (11) Discussion: data curation method, presentation\n",
    "- How did Walker collect her song lyrics data?\n",
    "- What tools did she use?\n",
    "- How successful was her effort?\n",
    "- How did she present her work, and what are your thoughts?"
   ]
  },
  {
   "cell_type": "markdown",
   "metadata": {},
   "source": [
    "Your notes here in markdown"
   ]
  }
 ],
 "metadata": {
  "kernelspec": {
   "display_name": "Python 3",
   "language": "python",
   "name": "python3"
  },
  "language_info": {
   "codemirror_mode": {
    "name": "ipython",
    "version": 3
   },
   "file_extension": ".py",
   "mimetype": "text/x-python",
   "name": "python",
   "nbconvert_exporter": "python",
   "pygments_lexer": "ipython3",
   "version": "3.6.1"
  }
 },
 "nbformat": 4,
 "nbformat_minor": 2
}
