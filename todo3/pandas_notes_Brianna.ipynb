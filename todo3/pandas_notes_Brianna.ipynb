{
 "cells": [
  {
   "cell_type": "markdown",
   "metadata": {},
   "source": [
    "CSV Data Source: http://introcs.cs.princeton.edu/java/data/\n",
    "- surnames.csv\n",
    "- 151,671 surnames by race/ethnicity\n",
    "- data taken from 2000 US Census\n",
    "\n",
    "# TOC\n",
    "[DataCamp](#DataCamp)<br>\n",
    "[Chapter 3: Data Manipulation with Pandas](#Chapter-3:-Data-Manipulation-with-Pandas)"
   ]
  },
  {
   "cell_type": "markdown",
   "metadata": {},
   "source": [
    "---\n",
    "# DataCamp\n",
    "- slides from tutorial downloaded & notes taken on them\n",
    "\n",
    "# Chapter 3: Data Manipulation with Pandas\n",
    "- Pandas is built on top of NumPy w/efficient implementation of `DataFrame`\n",
    "- `DataFrame`s are essentially multidimensional arrays w/attached row & column types\n",
    "    - often w/mixed data types and/or missing data\n",
    "\n",
    "## Installing and Using Pandas\n",
    "- [Pandas Documentation](http://pandas.pydata.org)"
   ]
  },
  {
   "cell_type": "code",
   "execution_count": 6,
   "metadata": {},
   "outputs": [
    {
     "data": {
      "text/plain": [
       "'0.20.1'"
      ]
     },
     "execution_count": 6,
     "metadata": {},
     "output_type": "execute_result"
    }
   ],
   "source": [
    "import pandas as pd     # import Pandas\n",
    "import numpy as np     # import NumPy\n",
    "pd.__version__     # check version of Pandas\n",
    "# pd?     # built-in Pandas documentation"
   ]
  },
  {
   "cell_type": "markdown",
   "metadata": {},
   "source": [
    "## Introducing Pandas Objects\n",
    "- 3 fundamental Pandas data structures: `Series`, `DataFrame`, `Index`\n",
    "\n",
    "### The Pandas Series Object\n",
    "- a `Series` is a 1D array of indexed data\n",
    "- can be created from list or array w/`pd.Series()`\n",
    "    - values can be accessed with `.values`\n",
    "        - familiar NumPy array\n",
    "    - indices can be access with `.index`\n",
    "        - array-like object of type `pd.Index`\n",
    "- data can be accessed by associated index via square brackets"
   ]
  },
  {
   "cell_type": "code",
   "execution_count": 7,
   "metadata": {},
   "outputs": [
    {
     "data": {
      "text/plain": [
       "0    0.25\n",
       "1    0.50\n",
       "2    0.75\n",
       "3    1.00\n",
       "dtype: float64"
      ]
     },
     "execution_count": 7,
     "metadata": {},
     "output_type": "execute_result"
    }
   ],
   "source": [
    "data = pd.Series([0.25, 0.5, 0.75, 1.0])\n",
    "data"
   ]
  },
  {
   "cell_type": "code",
   "execution_count": 8,
   "metadata": {},
   "outputs": [
    {
     "data": {
      "text/plain": [
       "array([ 0.25,  0.5 ,  0.75,  1.  ])"
      ]
     },
     "execution_count": 8,
     "metadata": {},
     "output_type": "execute_result"
    }
   ],
   "source": [
    "data.values"
   ]
  },
  {
   "cell_type": "code",
   "execution_count": 9,
   "metadata": {},
   "outputs": [
    {
     "data": {
      "text/plain": [
       "RangeIndex(start=0, stop=4, step=1)"
      ]
     },
     "execution_count": 9,
     "metadata": {},
     "output_type": "execute_result"
    }
   ],
   "source": [
    "data.index"
   ]
  },
  {
   "cell_type": "code",
   "execution_count": 10,
   "metadata": {},
   "outputs": [
    {
     "data": {
      "text/plain": [
       "0.25"
      ]
     },
     "execution_count": 10,
     "metadata": {},
     "output_type": "execute_result"
    }
   ],
   "source": [
    "data[0]"
   ]
  },
  {
   "cell_type": "code",
   "execution_count": 11,
   "metadata": {},
   "outputs": [
    {
     "data": {
      "text/plain": [
       "1    0.50\n",
       "2    0.75\n",
       "3    1.00\n",
       "dtype: float64"
      ]
     },
     "execution_count": 11,
     "metadata": {},
     "output_type": "execute_result"
    }
   ],
   "source": [
    "data[1:4]"
   ]
  },
  {
   "cell_type": "markdown",
   "metadata": {},
   "source": [
    "#### Series as Generalized NumPy Array"
   ]
  },
  {
   "cell_type": "code",
   "execution_count": null,
   "metadata": {
    "collapsed": true
   },
   "outputs": [],
   "source": []
  }
 ],
 "metadata": {
  "kernelspec": {
   "display_name": "Python 3",
   "language": "python",
   "name": "python3"
  },
  "language_info": {
   "codemirror_mode": {
    "name": "ipython",
    "version": 3
   },
   "file_extension": ".py",
   "mimetype": "text/x-python",
   "name": "python",
   "nbconvert_exporter": "python",
   "pygments_lexer": "ipython3",
   "version": "3.6.1"
  }
 },
 "nbformat": 4,
 "nbformat_minor": 2
}
