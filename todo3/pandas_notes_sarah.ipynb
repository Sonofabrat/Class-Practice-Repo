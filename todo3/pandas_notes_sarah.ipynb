{
 "cells": [
  {
   "cell_type": "markdown",
   "metadata": {},
   "source": [
    "Sarah Kerman shk83@pitt.edu 9/12/17\n",
    "Pandas Notes"
   ]
  },
  {
   "cell_type": "code",
   "execution_count": 7,
   "metadata": {
    "collapsed": true
   },
   "outputs": [],
   "source": [
    "#import using alias like numpy\n",
    "import numpy as np\n",
    "import pandas as pd"
   ]
  },
  {
   "cell_type": "markdown",
   "metadata": {},
   "source": [
    "- pandas objects are like numpy arrays but can be referenced with labels instead of indices\n",
    "- Series object: 1dim array. can be created from python list or numpy array. has index and value attributes\n",
    "    - series.value is a numpy array of values\n",
    "    - elements can be called/sliced like normal\n",
    "    - series.index is the range of indices\n",
    "    - indices will be integers if unspecified (basically a 1d numpy array) but can specify index labels\n",
    "    - labels can be anything, like python dictionary\n",
    "    - series can be constructed directly from python dictionary, but all keys must be same type, values same type\n",
    "    - can add/select items using key(index) like dictionary, use .keys()/.items(), but can also slice like array\n"
   ]
  },
  {
   "cell_type": "code",
   "execution_count": 8,
   "metadata": {},
   "outputs": [
    {
     "name": "stdout",
     "output_type": "stream",
     "text": [
      "0       4\n",
      "1    4434\n",
      "2     675\n",
      "3      24\n",
      "4     892\n",
      "dtype: int64\n",
      "[   4 4434  675   24  892]\n",
      "RangeIndex(start=0, stop=5, step=1)\n"
     ]
    }
   ],
   "source": [
    "#a pandas Series with unspecified indices\n",
    "data=pd.Series([4,4434,675,24,892])\n",
    "print(data)\n",
    "print(data.values)\n",
    "print(data.index)"
   ]
  },
  {
   "cell_type": "code",
   "execution_count": 11,
   "metadata": {},
   "outputs": [
    {
     "data": {
      "text/plain": [
       "a     12\n",
       "b    435\n",
       "c    574\n",
       "d    678\n",
       "dtype: int64"
      ]
     },
     "execution_count": 11,
     "metadata": {},
     "output_type": "execute_result"
    }
   ],
   "source": [
    "# a pandas Series with specified indices (labels)\n",
    "data2=pd.Series([12,435,574,678],index=['a','b','c','d'])\n",
    "data2"
   ]
  },
  {
   "cell_type": "markdown",
   "metadata": {
    "collapsed": true
   },
   "source": [
    "- DataFrame object:\n",
    "    - like a 2d array with flexible row/column labels, or multiple Series objects that share same labels on one axis\n",
    "    - can construct from:\n",
    "        - dictionary containing new column labels as keys, and Series objs as vals\n",
    "        - list of dictionaries\n",
    "        - a 2d numpy array\n",
    "    - has .index attr which lists index labels\n",
    "    - has .columns attr which is an index obj holding column labels"
   ]
  },
  {
   "cell_type": "code",
   "execution_count": 9,
   "metadata": {},
   "outputs": [
    {
     "data": {
      "text/html": [
       "<div>\n",
       "<style>\n",
       "    .dataframe thead tr:only-child th {\n",
       "        text-align: right;\n",
       "    }\n",
       "\n",
       "    .dataframe thead th {\n",
       "        text-align: left;\n",
       "    }\n",
       "\n",
       "    .dataframe tbody tr th {\n",
       "        vertical-align: top;\n",
       "    }\n",
       "</style>\n",
       "<table border=\"1\" class=\"dataframe\">\n",
       "  <thead>\n",
       "    <tr style=\"text-align: right;\">\n",
       "      <th></th>\n",
       "      <th>class</th>\n",
       "      <th>dps</th>\n",
       "    </tr>\n",
       "  </thead>\n",
       "  <tbody>\n",
       "    <tr>\n",
       "      <th>Aezat</th>\n",
       "      <td>Juggernaut</td>\n",
       "      <td>3000</td>\n",
       "    </tr>\n",
       "    <tr>\n",
       "      <th>Phavena</th>\n",
       "      <td>Sorcerer</td>\n",
       "      <td>6000</td>\n",
       "    </tr>\n",
       "    <tr>\n",
       "      <th>Teishaa</th>\n",
       "      <td>Sniper</td>\n",
       "      <td>3500</td>\n",
       "    </tr>\n",
       "    <tr>\n",
       "      <th>V'thia</th>\n",
       "      <td>Sage</td>\n",
       "      <td>5000</td>\n",
       "    </tr>\n",
       "  </tbody>\n",
       "</table>\n",
       "</div>"
      ],
      "text/plain": [
       "              class   dps\n",
       "Aezat    Juggernaut  3000\n",
       "Phavena    Sorcerer  6000\n",
       "Teishaa      Sniper  3500\n",
       "V'thia         Sage  5000"
      ]
     },
     "execution_count": 9,
     "metadata": {},
     "output_type": "execute_result"
    }
   ],
   "source": [
    "#DataFrame constructed from dict of Series showing 4 of my characters, their class, and their raid dps\n",
    "dps=pd.Series({'Phavena':6000,'Aezat':3000,\"V'thia\":5000,'Teishaa':3500})\n",
    "player_class=pd.Series({'Phavena':'Sorcerer','Aezat':'Juggernaut',\"V'thia\":'Sage','Teishaa':'Sniper'})\n",
    "team=pd.DataFrame({'dps':dps,'class':player_class})\n",
    "team"
   ]
  },
  {
   "cell_type": "markdown",
   "metadata": {},
   "source": [
    "Methods for when you have numerical indices that might not be sequential (as in implicit python index)\n",
    "- .loc[x] always references **explicit** index (if your indices are 1, 3, 5, .loc[1] will call first element, not second)\n",
    "- .iloc[x] always references **implicit** (python) index (.iloc[1] will call second element, regardless of what is actually labeled 1\n",
    "- \"explicit is better than implicit\" keep your code clean\n"
   ]
  },
  {
   "cell_type": "markdown",
   "metadata": {},
   "source": [
    "Data Selection in DataFrame\n",
    "- Can use dictionary key format to call a series from a DF\n",
    "- can use .iloc (implicit python indicies) to slice DF like a 2d array (labels are maintained in output)\n",
    "- can use .loc to slice DF using explicit row/column labels\n",
    "- .ix is deprecated don't use it"
   ]
  },
  {
   "cell_type": "code",
   "execution_count": 13,
   "metadata": {},
   "outputs": [
    {
     "name": "stdout",
     "output_type": "stream",
     "text": [
      "              class   dps\n",
      "Aezat    Juggernaut  3000\n",
      "Phavena    Sorcerer  6000\n",
      "Teishaa      Sniper  3500\n",
      "              class\n",
      "Aezat    Juggernaut\n",
      "Phavena    Sorcerer\n"
     ]
    }
   ],
   "source": [
    "#using implicit indicies to slice DF like 2D array\n",
    "print(team.iloc[:3,:2])\n",
    "\n",
    "#using explicit indices to slice DF\n",
    "print(team.loc[:'Phavena',:'class'])"
   ]
  },
  {
   "cell_type": "markdown",
   "metadata": {},
   "source": [
    "Missing Data\n",
    "- pandas uses sentinels (special indicators) for missing data\n",
    "- float NaN, or python None object (only usable in arrays of type \"object\")\n",
    "- any math with np.nan will result in nan\n",
    "    - any aggregate functions on an array with nan will be defined, but result in nan\n",
    "    - use nan-safe aggregate functions (np.nansum(),.nanmin(),.nanmax()...)\n",
    "- pandas will convert between None and nan where appropriate\n",
    "- integer arrays will be upcast to float arrays to fit nan if present\n",
    "- functions for null data:\n",
    "    - isnull() returns boolean mask over data to indicate null value\n",
    "    - notnull() opposite of isnull()\n",
    "    - dropna() return version with nulls filtered out\n",
    "        - for a DF, will drop any entire row containing a null value (or column if specified .dropna(axis='columns')\n",
    "        - can specify how='all' to only drop row/column that is ALL null\n",
    "        - can specify thresh value of how many nulls must be in row/column in order to be dropped (thresh=x)\n",
    "    - fillna() return copy of data with missing values filled\n",
    "        - .fillna(x) to fill nulls with specific value (like 0, -1, or 9999)\n",
    "        - .fillna(method='ffill') forward-fill takes previous valid value and to fill null\n",
    "            - if previous value not available (like 1st element in a row) null remains\n",
    "        - .fillna(method='bfill') back-fill takes next value to fill back\n",
    "        - can specify axis for DF\n"
   ]
  }
 ],
 "metadata": {
  "kernelspec": {
   "display_name": "Python 3",
   "language": "python",
   "name": "python3"
  },
  "language_info": {
   "codemirror_mode": {
    "name": "ipython",
    "version": 3
   },
   "file_extension": ".py",
   "mimetype": "text/x-python",
   "name": "python",
   "nbconvert_exporter": "python",
   "pygments_lexer": "ipython3",
   "version": "3.6.1"
  }
 },
 "nbformat": 4,
 "nbformat_minor": 2
}
