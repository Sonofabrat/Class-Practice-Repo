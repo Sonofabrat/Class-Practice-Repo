{
 "cells": [
  {
   "cell_type": "markdown",
   "metadata": {},
   "source": [
    "Paige Haring\n",
    "\n",
    "peh40@pitt.edu\n",
    "\n",
    "9.11.17\n",
    "\n",
    "## PANDAS"
   ]
  },
  {
   "cell_type": "markdown",
   "metadata": {},
   "source": [
    "### Intermediate Python for Data Science\n",
    "\n",
    "#### What is Pandas?\n",
    "- Pandas is a newer package built on top of NumPy for effecient implementation of a *DataFrame*\n",
    "    - multidimensional arrays with attached row and column labels\n",
    "    - full of different types\n",
    "    - can have missing data\n",
    "    - good for labeled data!\n",
    "- Pandas helps with things NumPy can't do\n",
    "    - working with labeled data, working with data where some is missing, etc.\n",
    "    - can group and pivot data\n",
    "    - *This is helpful because the data around us isn't always well structured*\n",
    "\n",
    "#### Introducing Pandas Objects\n",
    "A NumPy array whose rows and columns are given labels, not a numerical index\n",
    "\n",
    "##### Series\n",
    "- one-dimensional array of indexed data\n",
    "- can be created from a list or array\n",
    "- wraps both a sequence of values and a sequence of indices\n",
    "    - values: a numpy array of the values you stored\n",
    "    - index: array-like object pd.Index\n",
    "- data can be accessed by the associated index\n",
    "    "
   ]
  },
  {
   "cell_type": "code",
   "execution_count": 1,
   "metadata": {},
   "outputs": [
    {
     "name": "stdout",
     "output_type": "stream",
     "text": [
      "values:  [ 99 100  85  85  70  76  40  59  64  75  75  82  84  83] <class 'numpy.ndarray'>\n",
      "indices:  RangeIndex(start=0, stop=14, step=1) <class 'pandas.core.indexes.range.RangeIndex'>\n"
     ]
    },
    {
     "data": {
      "text/plain": [
       "0      99\n",
       "1     100\n",
       "2      85\n",
       "3      85\n",
       "4      70\n",
       "5      76\n",
       "6      40\n",
       "7      59\n",
       "8      64\n",
       "9      75\n",
       "10     75\n",
       "11     82\n",
       "12     84\n",
       "13     83\n",
       "dtype: int64"
      ]
     },
     "execution_count": 1,
     "metadata": {},
     "output_type": "execute_result"
    }
   ],
   "source": [
    "import numpy as np\n",
    "import pandas as pd\n",
    "\n",
    "#Create series from a list\n",
    "\n",
    "grades = [99, 100, 85, 85, 70, 76, 40, 59, 64, 75, 75, 82, 84, 83]\n",
    "\n",
    "grades_series = pd.Series(grades)\n",
    "\n",
    "print(\"values: \", grades_series.values, type(grades_series.values))\n",
    "print(\"indices: \", grades_series.index, type(grades_series.index))\n",
    "grades_series"
   ]
  },
  {
   "cell_type": "markdown",
   "metadata": {},
   "source": [
    "Series are a lot like regular NumPy arrays, except the indices are *explicitly defined*, meaning they don't have to be integers!\n",
    "- letters\n",
    "- non-sequential integers"
   ]
  },
  {
   "cell_type": "code",
   "execution_count": 2,
   "metadata": {},
   "outputs": [
    {
     "name": "stdout",
     "output_type": "stream",
     "text": [
      "a    2\n",
      "b    4\n",
      "c    6\n",
      "d    8\n",
      "dtype: int64\n"
     ]
    },
    {
     "data": {
      "text/plain": [
       "4"
      ]
     },
     "execution_count": 2,
     "metadata": {},
     "output_type": "execute_result"
    }
   ],
   "source": [
    "#Multiple choice: What is 2*2?\n",
    "answers = pd.Series([2, 4, 6, 8], index=['a', 'b', 'c', 'd'])\n",
    "print(answers)\n",
    "answers['b']"
   ]
  },
  {
   "cell_type": "markdown",
   "metadata": {},
   "source": [
    "Series can also be looked at like Python dictionaries! However, Series keep track of type information (like an array as opposed to a Python list) making it more efficient. You can also perform some cool operations on it."
   ]
  },
  {
   "cell_type": "code",
   "execution_count": 3,
   "metadata": {},
   "outputs": [
    {
     "name": "stdout",
     "output_type": "stream",
     "text": [
      "Alex         95\n",
      "Cary         90\n",
      "Stephanie    70\n",
      "Steven       63\n",
      "dtype: int64 \n",
      "\n",
      "95 \n",
      "\n",
      "Alex         95\n",
      "Cary         90\n",
      "Stephanie    70\n",
      "dtype: int64\n"
     ]
    }
   ],
   "source": [
    "avgs = {'Cary': 90, 'Alex': 95, 'Stephanie': 70, 'Steven':63}\n",
    "student_avgs = pd.Series(avgs) #NOTE: The dictionary is rearranged alphabetically by key\n",
    "print(student_avgs, '\\n')\n",
    "print(student_avgs['Alex'], '\\n')\n",
    "print(student_avgs['Alex':'Stephanie']) #NOTE: This includes the value at the Stephanie index"
   ]
  },
  {
   "cell_type": "markdown",
   "metadata": {},
   "source": [
    "##### pd.Series(data, index=index)\n",
    "- data can be a list or NumPy array\n",
    "    - index defaults to an integer sequence\n",
    "- data can be a scalar to fill each spot in array with that scalar\n",
    "    - must specify indices\n",
    "- data can be a dict\n",
    "    - index defaults to keys\n",
    "- indices can always be explicitly declared\n"
   ]
  },
  {
   "cell_type": "code",
   "execution_count": 4,
   "metadata": {},
   "outputs": [
    {
     "name": "stdout",
     "output_type": "stream",
     "text": [
      "0    10\n",
      "1    20\n",
      "2    30\n",
      "3    40\n",
      "dtype: int64 \n",
      "\n",
      "1    5\n",
      "2    5\n",
      "3    5\n",
      "4    5\n",
      "5    5\n",
      "dtype: int64 \n",
      "\n",
      "x    24\n",
      "y    25\n",
      "z    26\n",
      "dtype: int64 \n",
      "\n",
      "x    24\n",
      "z    26\n",
      "dtype: int64 \n",
      "\n",
      "1    5\n",
      "2    5\n",
      "3    5\n",
      "5    5\n",
      "dtype: int64 \n",
      "\n",
      "0.0     5\n",
      "1.0     5\n",
      "2.0     5\n",
      "3.0     5\n",
      "4.0     5\n",
      "5.0     5\n",
      "6.0     5\n",
      "7.0     5\n",
      "8.0     5\n",
      "9.0     5\n",
      "10.0    5\n",
      "dtype: int64 \n",
      "\n"
     ]
    }
   ],
   "source": [
    "data1 = pd.Series([10, 20, 30, 40])\n",
    "data2 = pd.Series(5, index=[1,2,3,4,5])\n",
    "data3 = pd.Series({'x': 24, 'y': 25, 'z':26})\n",
    "#Note: we can explicitly declare the indices and only those are kept\n",
    "data4 = pd.Series({'x': 24, 'y': 25, 'z':26}, index=['x', 'z'])\n",
    "data5 = pd.Series(5, index=[1,2,3,5])\n",
    "\n",
    "print(data1, '\\n')\n",
    "print(data2, '\\n')\n",
    "print(data3, '\\n')\n",
    "print(data4, '\\n')\n",
    "print(data5, '\\n')\n",
    "\n",
    "#How can we do a scalar if we want there to be a large number of entries w/o typing each index?\n",
    "data6 = pd.Series(5, index = np.linspace(0, 10, 11))\n",
    "print(data6, '\\n')"
   ]
  },
  {
   "cell_type": "markdown",
   "metadata": {},
   "source": [
    "##### DataFrames\n",
    "- two-dimensional array with both flexible row indices and flexible column names\n",
    "- sequence of aligned Series objects\n",
    "    - *aligned*- share the same index\n",
    "- index attribute that gives access to the index (row) labels\n",
    "- columns attribute, which is an Index object holding the column labels\n"
   ]
  },
  {
   "cell_type": "code",
   "execution_count": 5,
   "metadata": {},
   "outputs": [
    {
     "name": "stdout",
     "output_type": "stream",
     "text": [
      "Index(['Average', 'Grade'], dtype='object')\n",
      "Index(['Alex', 'Cary', 'Stephanie', 'Steven'], dtype='object')\n"
     ]
    },
    {
     "data": {
      "text/html": [
       "<div>\n",
       "<style>\n",
       "    .dataframe thead tr:only-child th {\n",
       "        text-align: right;\n",
       "    }\n",
       "\n",
       "    .dataframe thead th {\n",
       "        text-align: left;\n",
       "    }\n",
       "\n",
       "    .dataframe tbody tr th {\n",
       "        vertical-align: top;\n",
       "    }\n",
       "</style>\n",
       "<table border=\"1\" class=\"dataframe\">\n",
       "  <thead>\n",
       "    <tr style=\"text-align: right;\">\n",
       "      <th></th>\n",
       "      <th>Average</th>\n",
       "      <th>Grade</th>\n",
       "    </tr>\n",
       "  </thead>\n",
       "  <tbody>\n",
       "    <tr>\n",
       "      <th>Alex</th>\n",
       "      <td>95</td>\n",
       "      <td>A</td>\n",
       "    </tr>\n",
       "    <tr>\n",
       "      <th>Cary</th>\n",
       "      <td>90</td>\n",
       "      <td>A</td>\n",
       "    </tr>\n",
       "    <tr>\n",
       "      <th>Stephanie</th>\n",
       "      <td>70</td>\n",
       "      <td>C</td>\n",
       "    </tr>\n",
       "    <tr>\n",
       "      <th>Steven</th>\n",
       "      <td>63</td>\n",
       "      <td>D</td>\n",
       "    </tr>\n",
       "  </tbody>\n",
       "</table>\n",
       "</div>"
      ],
      "text/plain": [
       "           Average Grade\n",
       "Alex            95     A\n",
       "Cary            90     A\n",
       "Stephanie       70     C\n",
       "Steven          63     D"
      ]
     },
     "execution_count": 5,
     "metadata": {},
     "output_type": "execute_result"
    }
   ],
   "source": [
    "#We will use student_avgs from before, and make anoter letter grade series right now\n",
    "letter_grade = pd.Series(['A', 'A', 'C', 'D'], index=['Alex', 'Cary', 'Stephanie', 'Steven'])\n",
    "grades = pd.DataFrame({'Grade': letter_grade, 'Average': student_avgs})\n",
    "print(grades.columns)\n",
    "print(grades.index)\n",
    "grades"
   ]
  },
  {
   "cell_type": "markdown",
   "metadata": {},
   "source": [
    "We can think of DataFrames as dictionaries that map a column name to a Series of column data"
   ]
  },
  {
   "cell_type": "code",
   "execution_count": 6,
   "metadata": {},
   "outputs": [
    {
     "name": "stdout",
     "output_type": "stream",
     "text": [
      "Alex         95\n",
      "Cary         90\n",
      "Stephanie    70\n",
      "Steven       63\n",
      "Name: Average, dtype: int64 \n",
      "\n",
      "Alex         A\n",
      "Cary         A\n",
      "Stephanie    C\n",
      "Steven       D\n",
      "Name: Grade, dtype: object \n",
      "\n",
      "95\n"
     ]
    }
   ],
   "source": [
    "print(grades['Average'], '\\n')\n",
    "print(grades['Grade'], '\\n')\n",
    "\n",
    "#Note: grades['Alex'] cause an error. It does not return Alex 95 A\n",
    "#But I feel like maybe it should?\n",
    "print(grades['Average']['Alex'])"
   ]
  },
  {
   "cell_type": "markdown",
   "metadata": {},
   "source": [
    "##### pd.DataFrame(population, columns=[columns])\n",
    "- can be constructed from a single series\n",
    "- can be constructed from a list of dictionaries\n",
    "    - if some keys are missing, Pandas puts in NaN- not a number\n",
    "- can be constructed from a dictionary of series objects\n",
    "- can be constructed from a 2D numpy array"
   ]
  },
  {
   "cell_type": "code",
   "execution_count": 7,
   "metadata": {},
   "outputs": [
    {
     "name": "stdout",
     "output_type": "stream",
     "text": [
      "          Grade\n",
      "Alex          A\n",
      "Cary          A\n",
      "Stephanie     C\n",
      "Steven        D\n",
      "     Dad  Mom  Sister\n",
      "Age   51   50      18\n"
     ]
    }
   ],
   "source": [
    "letter_grades_df = pd.DataFrame(letter_grade, columns = ['Grade'])\n",
    "print(letter_grades_df)\n",
    "ages = pd.DataFrame([{'Sister':18, 'Mom':50, 'Dad':51}], index=['Age'])\n",
    "print(ages)\n"
   ]
  },
  {
   "cell_type": "markdown",
   "metadata": {},
   "source": [
    "##### Indexes\n",
    "- immutable array or ordered set"
   ]
  },
  {
   "cell_type": "code",
   "execution_count": 8,
   "metadata": {},
   "outputs": [
    {
     "name": "stdout",
     "output_type": "stream",
     "text": [
      "Index([10], dtype='object')\n",
      "Index([10, 20, 30, 40, 50, 5, 15, 'a', 'b'], dtype='object')\n"
     ]
    }
   ],
   "source": [
    "#As an ordered set\n",
    "indA = pd.Index([10, 20, 30, 40, 50])\n",
    "indB = pd.Index([5, 10, 15, 'a', 'b'])\n",
    "\n",
    "print(indA&indB)\n",
    "print(indA|indB)"
   ]
  },
  {
   "cell_type": "markdown",
   "metadata": {},
   "source": [
    "#### Some Cool Indexing"
   ]
  },
  {
   "cell_type": "code",
   "execution_count": 9,
   "metadata": {},
   "outputs": [
    {
     "data": {
      "text/plain": [
       "True"
      ]
     },
     "execution_count": 9,
     "metadata": {},
     "output_type": "execute_result"
    }
   ],
   "source": [
    "'Alex' in student_avgs"
   ]
  },
  {
   "cell_type": "code",
   "execution_count": 10,
   "metadata": {},
   "outputs": [
    {
     "data": {
      "text/plain": [
       "95"
      ]
     },
     "execution_count": 10,
     "metadata": {},
     "output_type": "execute_result"
    }
   ],
   "source": [
    "student_avgs['Alex']"
   ]
  },
  {
   "cell_type": "code",
   "execution_count": 11,
   "metadata": {},
   "outputs": [
    {
     "data": {
      "text/plain": [
       "[('Alex', 95), ('Cary', 90), ('Stephanie', 70), ('Steven', 63)]"
      ]
     },
     "execution_count": 11,
     "metadata": {},
     "output_type": "execute_result"
    }
   ],
   "source": [
    "list(student_avgs.items())"
   ]
  },
  {
   "cell_type": "code",
   "execution_count": 12,
   "metadata": {},
   "outputs": [
    {
     "data": {
      "text/plain": [
       "Alex         95\n",
       "Cary         90\n",
       "Stephanie    97\n",
       "Steven       63\n",
       "dtype: int64"
      ]
     },
     "execution_count": 12,
     "metadata": {},
     "output_type": "execute_result"
    }
   ],
   "source": [
    "student_avgs['Stephanie'] = 97\n",
    "student_avgs"
   ]
  },
  {
   "cell_type": "code",
   "execution_count": 13,
   "metadata": {},
   "outputs": [
    {
     "data": {
      "text/plain": [
       "Alex         95\n",
       "Cary         90\n",
       "Stephanie    97\n",
       "dtype: int64"
      ]
     },
     "execution_count": 13,
     "metadata": {},
     "output_type": "execute_result"
    }
   ],
   "source": [
    "student_avgs['Alex':'Stephanie']"
   ]
  },
  {
   "cell_type": "code",
   "execution_count": 14,
   "metadata": {},
   "outputs": [
    {
     "data": {
      "text/plain": [
       "Alex         95\n",
       "Cary         90\n",
       "Stephanie    97\n",
       "dtype: int64"
      ]
     },
     "execution_count": 14,
     "metadata": {},
     "output_type": "execute_result"
    }
   ],
   "source": [
    "student_avgs[0:3]"
   ]
  },
  {
   "cell_type": "code",
   "execution_count": 15,
   "metadata": {},
   "outputs": [
    {
     "data": {
      "text/plain": [
       "Steven    63\n",
       "dtype: int64"
      ]
     },
     "execution_count": 15,
     "metadata": {},
     "output_type": "execute_result"
    }
   ],
   "source": [
    "student_avgs[(student_avgs>60) & (student_avgs<90)] #NEED those parenthesis"
   ]
  },
  {
   "cell_type": "code",
   "execution_count": 16,
   "metadata": {},
   "outputs": [
    {
     "data": {
      "text/plain": [
       "1    a\n",
       "3    b\n",
       "5    c\n",
       "dtype: object"
      ]
     },
     "execution_count": 16,
     "metadata": {},
     "output_type": "execute_result"
    }
   ],
   "source": [
    "#Uses explicit index for indexing, implicit for slicing\n",
    "data = pd.Series(['a', 'b', 'c'], index=[1, 3, 5])\n",
    "data"
   ]
  },
  {
   "cell_type": "code",
   "execution_count": 17,
   "metadata": {},
   "outputs": [
    {
     "data": {
      "text/plain": [
       "'a'"
      ]
     },
     "execution_count": 17,
     "metadata": {},
     "output_type": "execute_result"
    }
   ],
   "source": [
    "data[1]"
   ]
  },
  {
   "cell_type": "code",
   "execution_count": 18,
   "metadata": {},
   "outputs": [
    {
     "data": {
      "text/plain": [
       "3    b\n",
       "5    c\n",
       "dtype: object"
      ]
     },
     "execution_count": 18,
     "metadata": {},
     "output_type": "execute_result"
    }
   ],
   "source": [
    "data[1:3]"
   ]
  },
  {
   "cell_type": "code",
   "execution_count": 19,
   "metadata": {},
   "outputs": [
    {
     "data": {
      "text/plain": [
       "Series([], dtype: object)"
      ]
     },
     "execution_count": 19,
     "metadata": {},
     "output_type": "execute_result"
    }
   ],
   "source": [
    "data[3:5] #Empty because we dont have those implicit indices"
   ]
  },
  {
   "cell_type": "code",
   "execution_count": 20,
   "metadata": {},
   "outputs": [
    {
     "data": {
      "text/plain": [
       "'a'"
      ]
     },
     "execution_count": 20,
     "metadata": {},
     "output_type": "execute_result"
    }
   ],
   "source": [
    "# .loc means you ALWAYS use the explicit index for indexing AND slicing\n",
    "data.loc[1]"
   ]
  },
  {
   "cell_type": "code",
   "execution_count": 21,
   "metadata": {},
   "outputs": [
    {
     "data": {
      "text/plain": [
       "1    a\n",
       "3    b\n",
       "dtype: object"
      ]
     },
     "execution_count": 21,
     "metadata": {},
     "output_type": "execute_result"
    }
   ],
   "source": [
    "data.loc[1:3]"
   ]
  },
  {
   "cell_type": "code",
   "execution_count": 22,
   "metadata": {},
   "outputs": [
    {
     "data": {
      "text/plain": [
       "3    b\n",
       "5    c\n",
       "dtype: object"
      ]
     },
     "execution_count": 22,
     "metadata": {},
     "output_type": "execute_result"
    }
   ],
   "source": [
    "data.loc[3:5] #NOTE: .loc INCLUDES the second part of the slice!"
   ]
  },
  {
   "cell_type": "code",
   "execution_count": 23,
   "metadata": {},
   "outputs": [
    {
     "data": {
      "text/plain": [
       "'b'"
      ]
     },
     "execution_count": 23,
     "metadata": {},
     "output_type": "execute_result"
    }
   ],
   "source": [
    "# .iloc uses the implicit\n",
    "data.iloc[1]"
   ]
  },
  {
   "cell_type": "code",
   "execution_count": 24,
   "metadata": {},
   "outputs": [
    {
     "data": {
      "text/plain": [
       "Average    95\n",
       "Grade       A\n",
       "Name: Alex, dtype: object"
      ]
     },
     "execution_count": 24,
     "metadata": {},
     "output_type": "execute_result"
    }
   ],
   "source": [
    "#From above when I tried to index just the row of 'Alex' and couldn't\n",
    "grades.loc['Alex']"
   ]
  },
  {
   "cell_type": "markdown",
   "metadata": {},
   "source": [
    "**One guiding principle of Python code is that \"explicit is better than implicit.\"**\n",
    "\n",
    "**Indexing refers to columns, slicing refers to rows**"
   ]
  },
  {
   "cell_type": "code",
   "execution_count": 25,
   "metadata": {},
   "outputs": [
    {
     "data": {
      "text/html": [
       "<div>\n",
       "<style>\n",
       "    .dataframe thead tr:only-child th {\n",
       "        text-align: right;\n",
       "    }\n",
       "\n",
       "    .dataframe thead th {\n",
       "        text-align: left;\n",
       "    }\n",
       "\n",
       "    .dataframe tbody tr th {\n",
       "        vertical-align: top;\n",
       "    }\n",
       "</style>\n",
       "<table border=\"1\" class=\"dataframe\">\n",
       "  <thead>\n",
       "    <tr style=\"text-align: right;\">\n",
       "      <th></th>\n",
       "      <th>Alex</th>\n",
       "      <th>Cary</th>\n",
       "      <th>Stephanie</th>\n",
       "      <th>Steven</th>\n",
       "    </tr>\n",
       "  </thead>\n",
       "  <tbody>\n",
       "    <tr>\n",
       "      <th>Average</th>\n",
       "      <td>95</td>\n",
       "      <td>90</td>\n",
       "      <td>70</td>\n",
       "      <td>63</td>\n",
       "    </tr>\n",
       "    <tr>\n",
       "      <th>Grade</th>\n",
       "      <td>A</td>\n",
       "      <td>A</td>\n",
       "      <td>C</td>\n",
       "      <td>D</td>\n",
       "    </tr>\n",
       "  </tbody>\n",
       "</table>\n",
       "</div>"
      ],
      "text/plain": [
       "        Alex Cary Stephanie Steven\n",
       "Average   95   90        70     63\n",
       "Grade      A    A         C      D"
      ]
     },
     "execution_count": 25,
     "metadata": {},
     "output_type": "execute_result"
    }
   ],
   "source": [
    "grades.T #transpose the DataFrame!"
   ]
  },
  {
   "cell_type": "markdown",
   "metadata": {},
   "source": [
    "### Intermediate Python for Data Science"
   ]
  },
  {
   "cell_type": "code",
   "execution_count": 26,
   "metadata": {},
   "outputs": [
    {
     "name": "stdout",
     "output_type": "stream",
     "text": [
      "                         Neighborhood Price\n",
      "Place                                      \n",
      "Girasole                    Shadyside    $$\n",
      "Smallman Galley             The Strip    $$\n",
      "Pastolis                Squirrel Hill     $\n",
      "Gaucho                      The Strip    $$\n",
      "Spice Island Tea House  South Oakland     $\n",
      "Fatheads                   South Side     $\n",
      "Pamela's                      Oakland     $\n",
      "Noodlehead               East Liberty     $\n",
      "SMOKE                   Lawrenceville    $$\n",
      "The Yard                    Shadyside    $$\n",
      "All India               North Oakland     $\n",
      "The Columbian Spot         South Side     $\n",
      "Chicken Latino              The Strip     $\n",
      "Bangkok Balcony         Squirrel Hill    $$\n",
      "Emporio                      Downtown    $$\n"
     ]
    }
   ],
   "source": [
    "eat = pd.read_csv('placestoeat_haring.csv', index_col='Place')\n",
    "print(eat)"
   ]
  },
  {
   "cell_type": "code",
   "execution_count": 27,
   "metadata": {},
   "outputs": [
    {
     "name": "stdout",
     "output_type": "stream",
     "text": [
      "$$\n"
     ]
    }
   ],
   "source": [
    "print(eat['Price']['Bangkok Balcony'])"
   ]
  },
  {
   "cell_type": "code",
   "execution_count": 28,
   "metadata": {},
   "outputs": [
    {
     "name": "stdout",
     "output_type": "stream",
     "text": [
      "Shadyside\n"
     ]
    }
   ],
   "source": [
    "print(eat.Neighborhood['Girasole'])"
   ]
  },
  {
   "cell_type": "code",
   "execution_count": 29,
   "metadata": {},
   "outputs": [
    {
     "name": "stdout",
     "output_type": "stream",
     "text": [
      "                Neighborhood Price\n",
      "Place                             \n",
      "Smallman Galley    The Strip    $$\n",
      "Gaucho             The Strip    $$\n",
      "Chicken Latino     The Strip     $\n"
     ]
    }
   ],
   "source": [
    "print(eat[eat.Neighborhood == 'The Strip'])"
   ]
  },
  {
   "cell_type": "code",
   "execution_count": 30,
   "metadata": {},
   "outputs": [
    {
     "data": {
      "text/plain": [
       "'North Oakland'"
      ]
     },
     "execution_count": 30,
     "metadata": {},
     "output_type": "execute_result"
    }
   ],
   "source": [
    "eat.loc['All India', 'Neighborhood']"
   ]
  },
  {
   "cell_type": "code",
   "execution_count": 31,
   "metadata": {},
   "outputs": [
    {
     "data": {
      "text/plain": [
       "'North Oakland'"
      ]
     },
     "execution_count": 31,
     "metadata": {},
     "output_type": "execute_result"
    }
   ],
   "source": [
    "eat.iloc[10,0]"
   ]
  },
  {
   "cell_type": "code",
   "execution_count": 32,
   "metadata": {},
   "outputs": [
    {
     "name": "stdout",
     "output_type": "stream",
     "text": [
      "                       Price   Neighborhood\n",
      "Place                                      \n",
      "Girasole                  $$      Shadyside\n",
      "Smallman Galley           $$      The Strip\n",
      "Pastolis                   $  Squirrel Hill\n",
      "Gaucho                    $$      The Strip\n",
      "Spice Island Tea House     $  South Oakland\n",
      "Fatheads                   $     South Side\n",
      "Pamela's                   $        Oakland\n",
      "Noodlehead                 $   East Liberty\n",
      "SMOKE                     $$  Lawrenceville\n",
      "The Yard                  $$      Shadyside\n",
      "All India                  $  North Oakland\n",
      "The Columbian Spot         $     South Side\n",
      "Chicken Latino             $      The Strip\n",
      "Bangkok Balcony           $$  Squirrel Hill\n",
      "Emporio                   $$       Downtown\n"
     ]
    }
   ],
   "source": [
    "print(eat[['Price','Neighborhood']]) #Reorders columns"
   ]
  },
  {
   "cell_type": "code",
   "execution_count": 33,
   "metadata": {},
   "outputs": [
    {
     "name": "stdout",
     "output_type": "stream",
     "text": [
      "             Neighborhood Price\n",
      "Place                          \n",
      "Fatheads       South Side     $\n",
      "Pamela's          Oakland     $\n",
      "Noodlehead   East Liberty     $\n",
      "SMOKE       Lawrenceville    $$\n",
      "The Yard        Shadyside    $$\n"
     ]
    }
   ],
   "source": [
    "print(eat['Fatheads':'The Yard'])"
   ]
  },
  {
   "cell_type": "code",
   "execution_count": 34,
   "metadata": {},
   "outputs": [
    {
     "name": "stdout",
     "output_type": "stream",
     "text": [
      "             Neighborhood Price\n",
      "Place                          \n",
      "The Yard        Shadyside    $$\n",
      "SMOKE       Lawrenceville    $$\n",
      "Noodlehead   East Liberty     $\n",
      "Pamela's          Oakland     $\n",
      "Fatheads       South Side     $\n"
     ]
    }
   ],
   "source": [
    "print(eat['The Yard':'Fatheads':-1]) #Reverse it!"
   ]
  },
  {
   "cell_type": "markdown",
   "metadata": {},
   "source": [
    "# To Do 4"
   ]
  },
  {
   "cell_type": "code",
   "execution_count": 35,
   "metadata": {},
   "outputs": [],
   "source": [
    " baby_names = pd.read_csv('Most_Popular_Baby_Names_by_Sex_and_Mother_s_Ethnic_Group__New_York_City.csv')"
   ]
  },
  {
   "cell_type": "code",
   "execution_count": 36,
   "metadata": {},
   "outputs": [
    {
     "data": {
      "text/html": [
       "<div>\n",
       "<style>\n",
       "    .dataframe thead tr:only-child th {\n",
       "        text-align: right;\n",
       "    }\n",
       "\n",
       "    .dataframe thead th {\n",
       "        text-align: left;\n",
       "    }\n",
       "\n",
       "    .dataframe tbody tr th {\n",
       "        vertical-align: top;\n",
       "    }\n",
       "</style>\n",
       "<table border=\"1\" class=\"dataframe\">\n",
       "  <thead>\n",
       "    <tr style=\"text-align: right;\">\n",
       "      <th></th>\n",
       "      <th>Year of Birth</th>\n",
       "      <th>Gender</th>\n",
       "      <th>Ethnicity</th>\n",
       "      <th>Child's First Name</th>\n",
       "      <th>Count</th>\n",
       "      <th>Rank</th>\n",
       "    </tr>\n",
       "  </thead>\n",
       "  <tbody>\n",
       "    <tr>\n",
       "      <th>0</th>\n",
       "      <td>2011</td>\n",
       "      <td>FEMALE</td>\n",
       "      <td>HISPANIC</td>\n",
       "      <td>ISABELLA</td>\n",
       "      <td>331</td>\n",
       "      <td>1</td>\n",
       "    </tr>\n",
       "    <tr>\n",
       "      <th>1</th>\n",
       "      <td>2011</td>\n",
       "      <td>FEMALE</td>\n",
       "      <td>WHITE NON HISPANIC</td>\n",
       "      <td>ESTHER</td>\n",
       "      <td>224</td>\n",
       "      <td>1</td>\n",
       "    </tr>\n",
       "    <tr>\n",
       "      <th>2</th>\n",
       "      <td>2011</td>\n",
       "      <td>MALE</td>\n",
       "      <td>ASIAN AND PACIFIC ISLANDER</td>\n",
       "      <td>ETHAN</td>\n",
       "      <td>177</td>\n",
       "      <td>1</td>\n",
       "    </tr>\n",
       "    <tr>\n",
       "      <th>3</th>\n",
       "      <td>2011</td>\n",
       "      <td>MALE</td>\n",
       "      <td>BLACK NON HISPANIC</td>\n",
       "      <td>JAYDEN</td>\n",
       "      <td>184</td>\n",
       "      <td>1</td>\n",
       "    </tr>\n",
       "    <tr>\n",
       "      <th>4</th>\n",
       "      <td>2011</td>\n",
       "      <td>FEMALE</td>\n",
       "      <td>ASIAN AND PACIFIC ISLANDER</td>\n",
       "      <td>SOPHIA</td>\n",
       "      <td>119</td>\n",
       "      <td>1</td>\n",
       "    </tr>\n",
       "  </tbody>\n",
       "</table>\n",
       "</div>"
      ],
      "text/plain": [
       "   Year of Birth  Gender                   Ethnicity Child's First Name  \\\n",
       "0           2011  FEMALE                    HISPANIC           ISABELLA   \n",
       "1           2011  FEMALE          WHITE NON HISPANIC             ESTHER   \n",
       "2           2011    MALE  ASIAN AND PACIFIC ISLANDER              ETHAN   \n",
       "3           2011    MALE          BLACK NON HISPANIC             JAYDEN   \n",
       "4           2011  FEMALE  ASIAN AND PACIFIC ISLANDER             SOPHIA   \n",
       "\n",
       "   Count  Rank  \n",
       "0    331     1  \n",
       "1    224     1  \n",
       "2    177     1  \n",
       "3    184     1  \n",
       "4    119     1  "
      ]
     },
     "execution_count": 36,
     "metadata": {},
     "output_type": "execute_result"
    }
   ],
   "source": [
    "baby_names.head()"
   ]
  },
  {
   "cell_type": "code",
   "execution_count": 37,
   "metadata": {},
   "outputs": [
    {
     "data": {
      "text/html": [
       "<div>\n",
       "<style>\n",
       "    .dataframe thead tr:only-child th {\n",
       "        text-align: right;\n",
       "    }\n",
       "\n",
       "    .dataframe thead th {\n",
       "        text-align: left;\n",
       "    }\n",
       "\n",
       "    .dataframe tbody tr th {\n",
       "        vertical-align: top;\n",
       "    }\n",
       "</style>\n",
       "<table border=\"1\" class=\"dataframe\">\n",
       "  <thead>\n",
       "    <tr style=\"text-align: right;\">\n",
       "      <th></th>\n",
       "      <th>Year of Birth</th>\n",
       "      <th>Gender</th>\n",
       "      <th>Ethnicity</th>\n",
       "      <th>Child's First Name</th>\n",
       "      <th>Count</th>\n",
       "      <th>Rank</th>\n",
       "    </tr>\n",
       "  </thead>\n",
       "  <tbody>\n",
       "    <tr>\n",
       "      <th>2884</th>\n",
       "      <td>2014</td>\n",
       "      <td>MALE</td>\n",
       "      <td>BLACK NON HISPANIC</td>\n",
       "      <td>Tristan</td>\n",
       "      <td>52</td>\n",
       "      <td>25</td>\n",
       "    </tr>\n",
       "    <tr>\n",
       "      <th>2885</th>\n",
       "      <td>2014</td>\n",
       "      <td>MALE</td>\n",
       "      <td>HISPANIC</td>\n",
       "      <td>Joseph</td>\n",
       "      <td>114</td>\n",
       "      <td>25</td>\n",
       "    </tr>\n",
       "    <tr>\n",
       "      <th>2886</th>\n",
       "      <td>2014</td>\n",
       "      <td>FEMALE</td>\n",
       "      <td>WHITE NON HISPANIC</td>\n",
       "      <td>Grace</td>\n",
       "      <td>86</td>\n",
       "      <td>25</td>\n",
       "    </tr>\n",
       "    <tr>\n",
       "      <th>2887</th>\n",
       "      <td>2014</td>\n",
       "      <td>MALE</td>\n",
       "      <td>ASIAN AND PACIFIC ISLANDER</td>\n",
       "      <td>Vincent</td>\n",
       "      <td>46</td>\n",
       "      <td>25</td>\n",
       "    </tr>\n",
       "    <tr>\n",
       "      <th>2888</th>\n",
       "      <td>2014</td>\n",
       "      <td>MALE</td>\n",
       "      <td>WHITE NON HISPANIC</td>\n",
       "      <td>Isaac</td>\n",
       "      <td>125</td>\n",
       "      <td>25</td>\n",
       "    </tr>\n",
       "  </tbody>\n",
       "</table>\n",
       "</div>"
      ],
      "text/plain": [
       "      Year of Birth  Gender                   Ethnicity Child's First Name  \\\n",
       "2884           2014    MALE          BLACK NON HISPANIC            Tristan   \n",
       "2885           2014    MALE                    HISPANIC             Joseph   \n",
       "2886           2014  FEMALE          WHITE NON HISPANIC              Grace   \n",
       "2887           2014    MALE  ASIAN AND PACIFIC ISLANDER            Vincent   \n",
       "2888           2014    MALE          WHITE NON HISPANIC              Isaac   \n",
       "\n",
       "      Count  Rank  \n",
       "2884     52    25  \n",
       "2885    114    25  \n",
       "2886     86    25  \n",
       "2887     46    25  \n",
       "2888    125    25  "
      ]
     },
     "execution_count": 37,
     "metadata": {},
     "output_type": "execute_result"
    }
   ],
   "source": [
    "baby_names.tail()"
   ]
  },
  {
   "cell_type": "code",
   "execution_count": 39,
   "metadata": {},
   "outputs": [
    {
     "data": {
      "text/html": [
       "<div>\n",
       "<style>\n",
       "    .dataframe thead tr:only-child th {\n",
       "        text-align: right;\n",
       "    }\n",
       "\n",
       "    .dataframe thead th {\n",
       "        text-align: left;\n",
       "    }\n",
       "\n",
       "    .dataframe tbody tr th {\n",
       "        vertical-align: top;\n",
       "    }\n",
       "</style>\n",
       "<table border=\"1\" class=\"dataframe\">\n",
       "  <thead>\n",
       "    <tr style=\"text-align: right;\">\n",
       "      <th></th>\n",
       "      <th>Year of Birth</th>\n",
       "      <th>Gender</th>\n",
       "      <th>Ethnicity</th>\n",
       "      <th>Child's First Name</th>\n",
       "      <th>Count</th>\n",
       "      <th>Rank</th>\n",
       "    </tr>\n",
       "  </thead>\n",
       "  <tbody>\n",
       "    <tr>\n",
       "      <th>2</th>\n",
       "      <td>2011</td>\n",
       "      <td>MALE</td>\n",
       "      <td>ASIAN AND PACIFIC ISLANDER</td>\n",
       "      <td>ETHAN</td>\n",
       "      <td>177</td>\n",
       "      <td>1</td>\n",
       "    </tr>\n",
       "    <tr>\n",
       "      <th>3</th>\n",
       "      <td>2011</td>\n",
       "      <td>MALE</td>\n",
       "      <td>BLACK NON HISPANIC</td>\n",
       "      <td>JAYDEN</td>\n",
       "      <td>184</td>\n",
       "      <td>1</td>\n",
       "    </tr>\n",
       "    <tr>\n",
       "      <th>6</th>\n",
       "      <td>2011</td>\n",
       "      <td>MALE</td>\n",
       "      <td>HISPANIC</td>\n",
       "      <td>JAYDEN</td>\n",
       "      <td>426</td>\n",
       "      <td>1</td>\n",
       "    </tr>\n",
       "    <tr>\n",
       "      <th>7</th>\n",
       "      <td>2011</td>\n",
       "      <td>MALE</td>\n",
       "      <td>WHITE NON HISPANIC</td>\n",
       "      <td>MICHAEL</td>\n",
       "      <td>292</td>\n",
       "      <td>1</td>\n",
       "    </tr>\n",
       "    <tr>\n",
       "      <th>8</th>\n",
       "      <td>2011</td>\n",
       "      <td>MALE</td>\n",
       "      <td>ASIAN AND PACIFIC ISLANDER</td>\n",
       "      <td>ETHAN</td>\n",
       "      <td>177</td>\n",
       "      <td>1</td>\n",
       "    </tr>\n",
       "    <tr>\n",
       "      <th>9</th>\n",
       "      <td>2011</td>\n",
       "      <td>MALE</td>\n",
       "      <td>BLACK NON HISPANIC</td>\n",
       "      <td>JAYDEN</td>\n",
       "      <td>184</td>\n",
       "      <td>1</td>\n",
       "    </tr>\n",
       "    <tr>\n",
       "      <th>14</th>\n",
       "      <td>2011</td>\n",
       "      <td>MALE</td>\n",
       "      <td>HISPANIC</td>\n",
       "      <td>JAYDEN</td>\n",
       "      <td>426</td>\n",
       "      <td>1</td>\n",
       "    </tr>\n",
       "    <tr>\n",
       "      <th>15</th>\n",
       "      <td>2011</td>\n",
       "      <td>MALE</td>\n",
       "      <td>WHITE NON HISPANIC</td>\n",
       "      <td>MICHAEL</td>\n",
       "      <td>292</td>\n",
       "      <td>1</td>\n",
       "    </tr>\n",
       "    <tr>\n",
       "      <th>20</th>\n",
       "      <td>2011</td>\n",
       "      <td>MALE</td>\n",
       "      <td>ASIAN AND PACIFIC ISLANDER</td>\n",
       "      <td>ETHAN</td>\n",
       "      <td>177</td>\n",
       "      <td>1</td>\n",
       "    </tr>\n",
       "    <tr>\n",
       "      <th>21</th>\n",
       "      <td>2011</td>\n",
       "      <td>MALE</td>\n",
       "      <td>BLACK NON HISPANIC</td>\n",
       "      <td>JAYDEN</td>\n",
       "      <td>184</td>\n",
       "      <td>1</td>\n",
       "    </tr>\n",
       "    <tr>\n",
       "      <th>22</th>\n",
       "      <td>2011</td>\n",
       "      <td>MALE</td>\n",
       "      <td>HISPANIC</td>\n",
       "      <td>JAYDEN</td>\n",
       "      <td>426</td>\n",
       "      <td>1</td>\n",
       "    </tr>\n",
       "    <tr>\n",
       "      <th>23</th>\n",
       "      <td>2011</td>\n",
       "      <td>MALE</td>\n",
       "      <td>WHITE NON HISPANIC</td>\n",
       "      <td>MICHAEL</td>\n",
       "      <td>292</td>\n",
       "      <td>1</td>\n",
       "    </tr>\n",
       "    <tr>\n",
       "      <th>28</th>\n",
       "      <td>2011</td>\n",
       "      <td>MALE</td>\n",
       "      <td>ASIAN AND PACIFIC ISLANDER</td>\n",
       "      <td>ETHAN</td>\n",
       "      <td>177</td>\n",
       "      <td>1</td>\n",
       "    </tr>\n",
       "    <tr>\n",
       "      <th>29</th>\n",
       "      <td>2011</td>\n",
       "      <td>MALE</td>\n",
       "      <td>BLACK NON HISPANIC</td>\n",
       "      <td>JAYDEN</td>\n",
       "      <td>184</td>\n",
       "      <td>1</td>\n",
       "    </tr>\n",
       "    <tr>\n",
       "      <th>30</th>\n",
       "      <td>2011</td>\n",
       "      <td>MALE</td>\n",
       "      <td>HISPANIC</td>\n",
       "      <td>JAYDEN</td>\n",
       "      <td>426</td>\n",
       "      <td>1</td>\n",
       "    </tr>\n",
       "    <tr>\n",
       "      <th>31</th>\n",
       "      <td>2011</td>\n",
       "      <td>MALE</td>\n",
       "      <td>WHITE NON HISPANIC</td>\n",
       "      <td>MICHAEL</td>\n",
       "      <td>292</td>\n",
       "      <td>1</td>\n",
       "    </tr>\n",
       "    <tr>\n",
       "      <th>36</th>\n",
       "      <td>2012</td>\n",
       "      <td>MALE</td>\n",
       "      <td>ASIAN AND PACI</td>\n",
       "      <td>RYAN</td>\n",
       "      <td>197</td>\n",
       "      <td>1</td>\n",
       "    </tr>\n",
       "    <tr>\n",
       "      <th>37</th>\n",
       "      <td>2012</td>\n",
       "      <td>MALE</td>\n",
       "      <td>BLACK NON HISP</td>\n",
       "      <td>JAYDEN</td>\n",
       "      <td>171</td>\n",
       "      <td>1</td>\n",
       "    </tr>\n",
       "    <tr>\n",
       "      <th>38</th>\n",
       "      <td>2012</td>\n",
       "      <td>MALE</td>\n",
       "      <td>HISPANIC</td>\n",
       "      <td>JAYDEN</td>\n",
       "      <td>364</td>\n",
       "      <td>1</td>\n",
       "    </tr>\n",
       "    <tr>\n",
       "      <th>39</th>\n",
       "      <td>2012</td>\n",
       "      <td>MALE</td>\n",
       "      <td>WHITE NON HISP</td>\n",
       "      <td>JOSEPH</td>\n",
       "      <td>300</td>\n",
       "      <td>1</td>\n",
       "    </tr>\n",
       "    <tr>\n",
       "      <th>44</th>\n",
       "      <td>2013</td>\n",
       "      <td>MALE</td>\n",
       "      <td>ASIAN AND PACIFIC ISLANDER</td>\n",
       "      <td>Jayden</td>\n",
       "      <td>220</td>\n",
       "      <td>1</td>\n",
       "    </tr>\n",
       "    <tr>\n",
       "      <th>45</th>\n",
       "      <td>2013</td>\n",
       "      <td>MALE</td>\n",
       "      <td>BLACK NON HISPANIC</td>\n",
       "      <td>Ethan</td>\n",
       "      <td>146</td>\n",
       "      <td>1</td>\n",
       "    </tr>\n",
       "    <tr>\n",
       "      <th>46</th>\n",
       "      <td>2013</td>\n",
       "      <td>MALE</td>\n",
       "      <td>HISPANIC</td>\n",
       "      <td>Jayden</td>\n",
       "      <td>352</td>\n",
       "      <td>1</td>\n",
       "    </tr>\n",
       "    <tr>\n",
       "      <th>47</th>\n",
       "      <td>2013</td>\n",
       "      <td>MALE</td>\n",
       "      <td>WHITE NON HISPANIC</td>\n",
       "      <td>David</td>\n",
       "      <td>304</td>\n",
       "      <td>1</td>\n",
       "    </tr>\n",
       "    <tr>\n",
       "      <th>52</th>\n",
       "      <td>2014</td>\n",
       "      <td>MALE</td>\n",
       "      <td>ASIAN AND PACIFIC ISLANDER</td>\n",
       "      <td>Jayden</td>\n",
       "      <td>187</td>\n",
       "      <td>1</td>\n",
       "    </tr>\n",
       "    <tr>\n",
       "      <th>53</th>\n",
       "      <td>2014</td>\n",
       "      <td>MALE</td>\n",
       "      <td>BLACK NON HISPANIC</td>\n",
       "      <td>Ethan</td>\n",
       "      <td>138</td>\n",
       "      <td>1</td>\n",
       "    </tr>\n",
       "    <tr>\n",
       "      <th>54</th>\n",
       "      <td>2014</td>\n",
       "      <td>MALE</td>\n",
       "      <td>HISPANIC</td>\n",
       "      <td>Liam</td>\n",
       "      <td>312</td>\n",
       "      <td>1</td>\n",
       "    </tr>\n",
       "    <tr>\n",
       "      <th>55</th>\n",
       "      <td>2014</td>\n",
       "      <td>MALE</td>\n",
       "      <td>WHITE NON HISPANIC</td>\n",
       "      <td>Joseph</td>\n",
       "      <td>300</td>\n",
       "      <td>1</td>\n",
       "    </tr>\n",
       "    <tr>\n",
       "      <th>58</th>\n",
       "      <td>2011</td>\n",
       "      <td>MALE</td>\n",
       "      <td>ASIAN AND PACIFIC ISLANDER</td>\n",
       "      <td>ETHAN</td>\n",
       "      <td>177</td>\n",
       "      <td>1</td>\n",
       "    </tr>\n",
       "    <tr>\n",
       "      <th>59</th>\n",
       "      <td>2011</td>\n",
       "      <td>MALE</td>\n",
       "      <td>BLACK NON HISPANIC</td>\n",
       "      <td>JAYDEN</td>\n",
       "      <td>184</td>\n",
       "      <td>1</td>\n",
       "    </tr>\n",
       "    <tr>\n",
       "      <th>...</th>\n",
       "      <td>...</td>\n",
       "      <td>...</td>\n",
       "      <td>...</td>\n",
       "      <td>...</td>\n",
       "      <td>...</td>\n",
       "      <td>...</td>\n",
       "    </tr>\n",
       "    <tr>\n",
       "      <th>2826</th>\n",
       "      <td>2014</td>\n",
       "      <td>MALE</td>\n",
       "      <td>BLACK NON HISPANIC</td>\n",
       "      <td>Matthew</td>\n",
       "      <td>52</td>\n",
       "      <td>25</td>\n",
       "    </tr>\n",
       "    <tr>\n",
       "      <th>2827</th>\n",
       "      <td>2014</td>\n",
       "      <td>MALE</td>\n",
       "      <td>BLACK NON HISPANIC</td>\n",
       "      <td>Tristan</td>\n",
       "      <td>52</td>\n",
       "      <td>25</td>\n",
       "    </tr>\n",
       "    <tr>\n",
       "      <th>2828</th>\n",
       "      <td>2014</td>\n",
       "      <td>MALE</td>\n",
       "      <td>HISPANIC</td>\n",
       "      <td>Joseph</td>\n",
       "      <td>114</td>\n",
       "      <td>25</td>\n",
       "    </tr>\n",
       "    <tr>\n",
       "      <th>2829</th>\n",
       "      <td>2014</td>\n",
       "      <td>MALE</td>\n",
       "      <td>WHITE NON HISPANIC</td>\n",
       "      <td>Isaac</td>\n",
       "      <td>125</td>\n",
       "      <td>25</td>\n",
       "    </tr>\n",
       "    <tr>\n",
       "      <th>2832</th>\n",
       "      <td>2011</td>\n",
       "      <td>MALE</td>\n",
       "      <td>ASIAN AND PACIFIC ISLANDER</td>\n",
       "      <td>ALVIN</td>\n",
       "      <td>43</td>\n",
       "      <td>25</td>\n",
       "    </tr>\n",
       "    <tr>\n",
       "      <th>2833</th>\n",
       "      <td>2011</td>\n",
       "      <td>MALE</td>\n",
       "      <td>ASIAN AND PACIFIC ISLANDER</td>\n",
       "      <td>ANDY</td>\n",
       "      <td>43</td>\n",
       "      <td>25</td>\n",
       "    </tr>\n",
       "    <tr>\n",
       "      <th>2834</th>\n",
       "      <td>2011</td>\n",
       "      <td>MALE</td>\n",
       "      <td>BLACK NON HISPANIC</td>\n",
       "      <td>MATTHEW</td>\n",
       "      <td>59</td>\n",
       "      <td>25</td>\n",
       "    </tr>\n",
       "    <tr>\n",
       "      <th>2835</th>\n",
       "      <td>2011</td>\n",
       "      <td>MALE</td>\n",
       "      <td>HISPANIC</td>\n",
       "      <td>ANDREW</td>\n",
       "      <td>125</td>\n",
       "      <td>25</td>\n",
       "    </tr>\n",
       "    <tr>\n",
       "      <th>2843</th>\n",
       "      <td>2011</td>\n",
       "      <td>MALE</td>\n",
       "      <td>WHITE NON HISPANIC</td>\n",
       "      <td>THOMAS</td>\n",
       "      <td>121</td>\n",
       "      <td>25</td>\n",
       "    </tr>\n",
       "    <tr>\n",
       "      <th>2848</th>\n",
       "      <td>2012</td>\n",
       "      <td>MALE</td>\n",
       "      <td>ASIAN AND PACI</td>\n",
       "      <td>NOAH</td>\n",
       "      <td>53</td>\n",
       "      <td>25</td>\n",
       "    </tr>\n",
       "    <tr>\n",
       "      <th>2849</th>\n",
       "      <td>2012</td>\n",
       "      <td>MALE</td>\n",
       "      <td>BLACK NON HISP</td>\n",
       "      <td>ANDREW</td>\n",
       "      <td>50</td>\n",
       "      <td>25</td>\n",
       "    </tr>\n",
       "    <tr>\n",
       "      <th>2850</th>\n",
       "      <td>2012</td>\n",
       "      <td>MALE</td>\n",
       "      <td>BLACK NON HISP</td>\n",
       "      <td>BRANDON</td>\n",
       "      <td>50</td>\n",
       "      <td>25</td>\n",
       "    </tr>\n",
       "    <tr>\n",
       "      <th>2851</th>\n",
       "      <td>2012</td>\n",
       "      <td>MALE</td>\n",
       "      <td>BLACK NON HISP</td>\n",
       "      <td>CARTER</td>\n",
       "      <td>50</td>\n",
       "      <td>25</td>\n",
       "    </tr>\n",
       "    <tr>\n",
       "      <th>2852</th>\n",
       "      <td>2012</td>\n",
       "      <td>MALE</td>\n",
       "      <td>BLACK NON HISP</td>\n",
       "      <td>JADEN</td>\n",
       "      <td>50</td>\n",
       "      <td>25</td>\n",
       "    </tr>\n",
       "    <tr>\n",
       "      <th>2853</th>\n",
       "      <td>2012</td>\n",
       "      <td>MALE</td>\n",
       "      <td>BLACK NON HISP</td>\n",
       "      <td>JONATHAN</td>\n",
       "      <td>50</td>\n",
       "      <td>25</td>\n",
       "    </tr>\n",
       "    <tr>\n",
       "      <th>2854</th>\n",
       "      <td>2012</td>\n",
       "      <td>MALE</td>\n",
       "      <td>BLACK NON HISP</td>\n",
       "      <td>KAYDEN</td>\n",
       "      <td>50</td>\n",
       "      <td>25</td>\n",
       "    </tr>\n",
       "    <tr>\n",
       "      <th>2855</th>\n",
       "      <td>2012</td>\n",
       "      <td>MALE</td>\n",
       "      <td>HISPANIC</td>\n",
       "      <td>CHRISTIAN</td>\n",
       "      <td>139</td>\n",
       "      <td>25</td>\n",
       "    </tr>\n",
       "    <tr>\n",
       "      <th>2863</th>\n",
       "      <td>2012</td>\n",
       "      <td>MALE</td>\n",
       "      <td>HISPANIC</td>\n",
       "      <td>JOSE</td>\n",
       "      <td>139</td>\n",
       "      <td>25</td>\n",
       "    </tr>\n",
       "    <tr>\n",
       "      <th>2864</th>\n",
       "      <td>2012</td>\n",
       "      <td>MALE</td>\n",
       "      <td>WHITE NON HISP</td>\n",
       "      <td>ISAAC</td>\n",
       "      <td>116</td>\n",
       "      <td>25</td>\n",
       "    </tr>\n",
       "    <tr>\n",
       "      <th>2865</th>\n",
       "      <td>2012</td>\n",
       "      <td>MALE</td>\n",
       "      <td>WHITE NON HISP</td>\n",
       "      <td>YOSEF</td>\n",
       "      <td>116</td>\n",
       "      <td>25</td>\n",
       "    </tr>\n",
       "    <tr>\n",
       "      <th>2866</th>\n",
       "      <td>2013</td>\n",
       "      <td>MALE</td>\n",
       "      <td>ASIAN AND PACIFIC ISLANDER</td>\n",
       "      <td>Andrew</td>\n",
       "      <td>44</td>\n",
       "      <td>25</td>\n",
       "    </tr>\n",
       "    <tr>\n",
       "      <th>2867</th>\n",
       "      <td>2013</td>\n",
       "      <td>MALE</td>\n",
       "      <td>BLACK NON HISPANIC</td>\n",
       "      <td>Kayden</td>\n",
       "      <td>52</td>\n",
       "      <td>25</td>\n",
       "    </tr>\n",
       "    <tr>\n",
       "      <th>2868</th>\n",
       "      <td>2013</td>\n",
       "      <td>MALE</td>\n",
       "      <td>BLACK NON HISPANIC</td>\n",
       "      <td>Logan</td>\n",
       "      <td>52</td>\n",
       "      <td>25</td>\n",
       "    </tr>\n",
       "    <tr>\n",
       "      <th>2869</th>\n",
       "      <td>2013</td>\n",
       "      <td>MALE</td>\n",
       "      <td>HISPANIC</td>\n",
       "      <td>Aaron</td>\n",
       "      <td>122</td>\n",
       "      <td>25</td>\n",
       "    </tr>\n",
       "    <tr>\n",
       "      <th>2881</th>\n",
       "      <td>2013</td>\n",
       "      <td>MALE</td>\n",
       "      <td>WHITE NON HISPANIC</td>\n",
       "      <td>Isaac</td>\n",
       "      <td>123</td>\n",
       "      <td>25</td>\n",
       "    </tr>\n",
       "    <tr>\n",
       "      <th>2883</th>\n",
       "      <td>2014</td>\n",
       "      <td>MALE</td>\n",
       "      <td>BLACK NON HISPANIC</td>\n",
       "      <td>Matthew</td>\n",
       "      <td>52</td>\n",
       "      <td>25</td>\n",
       "    </tr>\n",
       "    <tr>\n",
       "      <th>2884</th>\n",
       "      <td>2014</td>\n",
       "      <td>MALE</td>\n",
       "      <td>BLACK NON HISPANIC</td>\n",
       "      <td>Tristan</td>\n",
       "      <td>52</td>\n",
       "      <td>25</td>\n",
       "    </tr>\n",
       "    <tr>\n",
       "      <th>2885</th>\n",
       "      <td>2014</td>\n",
       "      <td>MALE</td>\n",
       "      <td>HISPANIC</td>\n",
       "      <td>Joseph</td>\n",
       "      <td>114</td>\n",
       "      <td>25</td>\n",
       "    </tr>\n",
       "    <tr>\n",
       "      <th>2887</th>\n",
       "      <td>2014</td>\n",
       "      <td>MALE</td>\n",
       "      <td>ASIAN AND PACIFIC ISLANDER</td>\n",
       "      <td>Vincent</td>\n",
       "      <td>46</td>\n",
       "      <td>25</td>\n",
       "    </tr>\n",
       "    <tr>\n",
       "      <th>2888</th>\n",
       "      <td>2014</td>\n",
       "      <td>MALE</td>\n",
       "      <td>WHITE NON HISPANIC</td>\n",
       "      <td>Isaac</td>\n",
       "      <td>125</td>\n",
       "      <td>25</td>\n",
       "    </tr>\n",
       "  </tbody>\n",
       "</table>\n",
       "<p>1276 rows × 6 columns</p>\n",
       "</div>"
      ],
      "text/plain": [
       "      Year of Birth Gender                   Ethnicity Child's First Name  \\\n",
       "2              2011   MALE  ASIAN AND PACIFIC ISLANDER              ETHAN   \n",
       "3              2011   MALE          BLACK NON HISPANIC             JAYDEN   \n",
       "6              2011   MALE                    HISPANIC             JAYDEN   \n",
       "7              2011   MALE          WHITE NON HISPANIC            MICHAEL   \n",
       "8              2011   MALE  ASIAN AND PACIFIC ISLANDER              ETHAN   \n",
       "9              2011   MALE          BLACK NON HISPANIC             JAYDEN   \n",
       "14             2011   MALE                    HISPANIC             JAYDEN   \n",
       "15             2011   MALE          WHITE NON HISPANIC            MICHAEL   \n",
       "20             2011   MALE  ASIAN AND PACIFIC ISLANDER              ETHAN   \n",
       "21             2011   MALE          BLACK NON HISPANIC             JAYDEN   \n",
       "22             2011   MALE                    HISPANIC             JAYDEN   \n",
       "23             2011   MALE          WHITE NON HISPANIC            MICHAEL   \n",
       "28             2011   MALE  ASIAN AND PACIFIC ISLANDER              ETHAN   \n",
       "29             2011   MALE          BLACK NON HISPANIC             JAYDEN   \n",
       "30             2011   MALE                    HISPANIC             JAYDEN   \n",
       "31             2011   MALE          WHITE NON HISPANIC            MICHAEL   \n",
       "36             2012   MALE              ASIAN AND PACI               RYAN   \n",
       "37             2012   MALE              BLACK NON HISP             JAYDEN   \n",
       "38             2012   MALE                    HISPANIC             JAYDEN   \n",
       "39             2012   MALE              WHITE NON HISP             JOSEPH   \n",
       "44             2013   MALE  ASIAN AND PACIFIC ISLANDER             Jayden   \n",
       "45             2013   MALE          BLACK NON HISPANIC              Ethan   \n",
       "46             2013   MALE                    HISPANIC             Jayden   \n",
       "47             2013   MALE          WHITE NON HISPANIC              David   \n",
       "52             2014   MALE  ASIAN AND PACIFIC ISLANDER             Jayden   \n",
       "53             2014   MALE          BLACK NON HISPANIC              Ethan   \n",
       "54             2014   MALE                    HISPANIC               Liam   \n",
       "55             2014   MALE          WHITE NON HISPANIC             Joseph   \n",
       "58             2011   MALE  ASIAN AND PACIFIC ISLANDER              ETHAN   \n",
       "59             2011   MALE          BLACK NON HISPANIC             JAYDEN   \n",
       "...             ...    ...                         ...                ...   \n",
       "2826           2014   MALE          BLACK NON HISPANIC            Matthew   \n",
       "2827           2014   MALE          BLACK NON HISPANIC            Tristan   \n",
       "2828           2014   MALE                    HISPANIC             Joseph   \n",
       "2829           2014   MALE          WHITE NON HISPANIC              Isaac   \n",
       "2832           2011   MALE  ASIAN AND PACIFIC ISLANDER              ALVIN   \n",
       "2833           2011   MALE  ASIAN AND PACIFIC ISLANDER               ANDY   \n",
       "2834           2011   MALE          BLACK NON HISPANIC            MATTHEW   \n",
       "2835           2011   MALE                    HISPANIC             ANDREW   \n",
       "2843           2011   MALE          WHITE NON HISPANIC             THOMAS   \n",
       "2848           2012   MALE              ASIAN AND PACI               NOAH   \n",
       "2849           2012   MALE              BLACK NON HISP             ANDREW   \n",
       "2850           2012   MALE              BLACK NON HISP            BRANDON   \n",
       "2851           2012   MALE              BLACK NON HISP             CARTER   \n",
       "2852           2012   MALE              BLACK NON HISP              JADEN   \n",
       "2853           2012   MALE              BLACK NON HISP           JONATHAN   \n",
       "2854           2012   MALE              BLACK NON HISP             KAYDEN   \n",
       "2855           2012   MALE                    HISPANIC          CHRISTIAN   \n",
       "2863           2012   MALE                    HISPANIC               JOSE   \n",
       "2864           2012   MALE              WHITE NON HISP              ISAAC   \n",
       "2865           2012   MALE              WHITE NON HISP              YOSEF   \n",
       "2866           2013   MALE  ASIAN AND PACIFIC ISLANDER             Andrew   \n",
       "2867           2013   MALE          BLACK NON HISPANIC             Kayden   \n",
       "2868           2013   MALE          BLACK NON HISPANIC              Logan   \n",
       "2869           2013   MALE                    HISPANIC              Aaron   \n",
       "2881           2013   MALE          WHITE NON HISPANIC              Isaac   \n",
       "2883           2014   MALE          BLACK NON HISPANIC            Matthew   \n",
       "2884           2014   MALE          BLACK NON HISPANIC            Tristan   \n",
       "2885           2014   MALE                    HISPANIC             Joseph   \n",
       "2887           2014   MALE  ASIAN AND PACIFIC ISLANDER            Vincent   \n",
       "2888           2014   MALE          WHITE NON HISPANIC              Isaac   \n",
       "\n",
       "      Count  Rank  \n",
       "2       177     1  \n",
       "3       184     1  \n",
       "6       426     1  \n",
       "7       292     1  \n",
       "8       177     1  \n",
       "9       184     1  \n",
       "14      426     1  \n",
       "15      292     1  \n",
       "20      177     1  \n",
       "21      184     1  \n",
       "22      426     1  \n",
       "23      292     1  \n",
       "28      177     1  \n",
       "29      184     1  \n",
       "30      426     1  \n",
       "31      292     1  \n",
       "36      197     1  \n",
       "37      171     1  \n",
       "38      364     1  \n",
       "39      300     1  \n",
       "44      220     1  \n",
       "45      146     1  \n",
       "46      352     1  \n",
       "47      304     1  \n",
       "52      187     1  \n",
       "53      138     1  \n",
       "54      312     1  \n",
       "55      300     1  \n",
       "58      177     1  \n",
       "59      184     1  \n",
       "...     ...   ...  \n",
       "2826     52    25  \n",
       "2827     52    25  \n",
       "2828    114    25  \n",
       "2829    125    25  \n",
       "2832     43    25  \n",
       "2833     43    25  \n",
       "2834     59    25  \n",
       "2835    125    25  \n",
       "2843    121    25  \n",
       "2848     53    25  \n",
       "2849     50    25  \n",
       "2850     50    25  \n",
       "2851     50    25  \n",
       "2852     50    25  \n",
       "2853     50    25  \n",
       "2854     50    25  \n",
       "2855    139    25  \n",
       "2863    139    25  \n",
       "2864    116    25  \n",
       "2865    116    25  \n",
       "2866     44    25  \n",
       "2867     52    25  \n",
       "2868     52    25  \n",
       "2869    122    25  \n",
       "2881    123    25  \n",
       "2883     52    25  \n",
       "2884     52    25  \n",
       "2885    114    25  \n",
       "2887     46    25  \n",
       "2888    125    25  \n",
       "\n",
       "[1276 rows x 6 columns]"
      ]
     },
     "execution_count": 39,
     "metadata": {},
     "output_type": "execute_result"
    }
   ],
   "source": [
    "baby_names[baby_names.Gender == \"MALE\"]"
   ]
  },
  {
   "cell_type": "code",
   "execution_count": 41,
   "metadata": {},
   "outputs": [
    {
     "data": {
      "text/plain": [
       "Year of Birth             2011\n",
       "Gender                  FEMALE\n",
       "Ethnicity             HISPANIC\n",
       "Child's First Name    ISABELLA\n",
       "Count                      331\n",
       "Rank                         1\n",
       "Name: 0, dtype: object"
      ]
     },
     "execution_count": 41,
     "metadata": {},
     "output_type": "execute_result"
    }
   ],
   "source": [
    "baby_names.loc[0]"
   ]
  },
  {
   "cell_type": "code",
   "execution_count": 43,
   "metadata": {},
   "outputs": [
    {
     "data": {
      "text/plain": [
       "Year of Birth             2011\n",
       "Gender                  FEMALE\n",
       "Ethnicity             HISPANIC\n",
       "Child's First Name    ISABELLA\n",
       "Count                      331\n",
       "Rank                         1\n",
       "Name: 12, dtype: object"
      ]
     },
     "execution_count": 43,
     "metadata": {},
     "output_type": "execute_result"
    }
   ],
   "source": [
    "baby_names.loc[12]"
   ]
  },
  {
   "cell_type": "code",
   "execution_count": 44,
   "metadata": {},
   "outputs": [
    {
     "data": {
      "text/plain": [
       "Year of Birth         True\n",
       "Gender                True\n",
       "Ethnicity             True\n",
       "Child's First Name    True\n",
       "Count                 True\n",
       "Rank                  True\n",
       "dtype: bool"
      ]
     },
     "execution_count": 44,
     "metadata": {},
     "output_type": "execute_result"
    }
   ],
   "source": [
    "baby_names.loc[0] == baby_names.loc[12]"
   ]
  },
  {
   "cell_type": "code",
   "execution_count": 52,
   "metadata": {},
   "outputs": [
    {
     "data": {
      "text/html": [
       "<div>\n",
       "<style>\n",
       "    .dataframe thead tr:only-child th {\n",
       "        text-align: right;\n",
       "    }\n",
       "\n",
       "    .dataframe thead th {\n",
       "        text-align: left;\n",
       "    }\n",
       "\n",
       "    .dataframe tbody tr th {\n",
       "        vertical-align: top;\n",
       "    }\n",
       "</style>\n",
       "<table border=\"1\" class=\"dataframe\">\n",
       "  <thead>\n",
       "    <tr style=\"text-align: right;\">\n",
       "      <th></th>\n",
       "      <th>Year of Birth</th>\n",
       "      <th>Gender</th>\n",
       "      <th>Ethnicity</th>\n",
       "      <th>Child's First Name</th>\n",
       "      <th>Count</th>\n",
       "      <th>Rank</th>\n",
       "    </tr>\n",
       "  </thead>\n",
       "  <tbody>\n",
       "    <tr>\n",
       "      <th>0</th>\n",
       "      <td>2011</td>\n",
       "      <td>FEMALE</td>\n",
       "      <td>HISPANIC</td>\n",
       "      <td>ISABELLA</td>\n",
       "      <td>331</td>\n",
       "      <td>1</td>\n",
       "    </tr>\n",
       "    <tr>\n",
       "      <th>1</th>\n",
       "      <td>2011</td>\n",
       "      <td>FEMALE</td>\n",
       "      <td>WHITE NON HISPANIC</td>\n",
       "      <td>ESTHER</td>\n",
       "      <td>224</td>\n",
       "      <td>1</td>\n",
       "    </tr>\n",
       "    <tr>\n",
       "      <th>2</th>\n",
       "      <td>2011</td>\n",
       "      <td>MALE</td>\n",
       "      <td>ASIAN AND PACIFIC ISLANDER</td>\n",
       "      <td>ETHAN</td>\n",
       "      <td>177</td>\n",
       "      <td>1</td>\n",
       "    </tr>\n",
       "    <tr>\n",
       "      <th>3</th>\n",
       "      <td>2011</td>\n",
       "      <td>MALE</td>\n",
       "      <td>BLACK NON HISPANIC</td>\n",
       "      <td>JAYDEN</td>\n",
       "      <td>184</td>\n",
       "      <td>1</td>\n",
       "    </tr>\n",
       "    <tr>\n",
       "      <th>4</th>\n",
       "      <td>2011</td>\n",
       "      <td>FEMALE</td>\n",
       "      <td>ASIAN AND PACIFIC ISLANDER</td>\n",
       "      <td>SOPHIA</td>\n",
       "      <td>119</td>\n",
       "      <td>1</td>\n",
       "    </tr>\n",
       "    <tr>\n",
       "      <th>5</th>\n",
       "      <td>2011</td>\n",
       "      <td>FEMALE</td>\n",
       "      <td>BLACK NON HISPANIC</td>\n",
       "      <td>MADISON</td>\n",
       "      <td>176</td>\n",
       "      <td>1</td>\n",
       "    </tr>\n",
       "    <tr>\n",
       "      <th>6</th>\n",
       "      <td>2011</td>\n",
       "      <td>MALE</td>\n",
       "      <td>HISPANIC</td>\n",
       "      <td>JAYDEN</td>\n",
       "      <td>426</td>\n",
       "      <td>1</td>\n",
       "    </tr>\n",
       "    <tr>\n",
       "      <th>7</th>\n",
       "      <td>2011</td>\n",
       "      <td>MALE</td>\n",
       "      <td>WHITE NON HISPANIC</td>\n",
       "      <td>MICHAEL</td>\n",
       "      <td>292</td>\n",
       "      <td>1</td>\n",
       "    </tr>\n",
       "    <tr>\n",
       "      <th>8</th>\n",
       "      <td>2011</td>\n",
       "      <td>MALE</td>\n",
       "      <td>ASIAN AND PACIFIC ISLANDER</td>\n",
       "      <td>ETHAN</td>\n",
       "      <td>177</td>\n",
       "      <td>1</td>\n",
       "    </tr>\n",
       "    <tr>\n",
       "      <th>9</th>\n",
       "      <td>2011</td>\n",
       "      <td>MALE</td>\n",
       "      <td>BLACK NON HISPANIC</td>\n",
       "      <td>JAYDEN</td>\n",
       "      <td>184</td>\n",
       "      <td>1</td>\n",
       "    </tr>\n",
       "    <tr>\n",
       "      <th>10</th>\n",
       "      <td>2011</td>\n",
       "      <td>FEMALE</td>\n",
       "      <td>ASIAN AND PACIFIC ISLANDER</td>\n",
       "      <td>SOPHIA</td>\n",
       "      <td>119</td>\n",
       "      <td>1</td>\n",
       "    </tr>\n",
       "    <tr>\n",
       "      <th>11</th>\n",
       "      <td>2011</td>\n",
       "      <td>FEMALE</td>\n",
       "      <td>BLACK NON HISPANIC</td>\n",
       "      <td>MADISON</td>\n",
       "      <td>176</td>\n",
       "      <td>1</td>\n",
       "    </tr>\n",
       "    <tr>\n",
       "      <th>12</th>\n",
       "      <td>2011</td>\n",
       "      <td>FEMALE</td>\n",
       "      <td>HISPANIC</td>\n",
       "      <td>ISABELLA</td>\n",
       "      <td>331</td>\n",
       "      <td>1</td>\n",
       "    </tr>\n",
       "    <tr>\n",
       "      <th>13</th>\n",
       "      <td>2011</td>\n",
       "      <td>FEMALE</td>\n",
       "      <td>WHITE NON HISPANIC</td>\n",
       "      <td>ESTHER</td>\n",
       "      <td>224</td>\n",
       "      <td>1</td>\n",
       "    </tr>\n",
       "    <tr>\n",
       "      <th>14</th>\n",
       "      <td>2011</td>\n",
       "      <td>MALE</td>\n",
       "      <td>HISPANIC</td>\n",
       "      <td>JAYDEN</td>\n",
       "      <td>426</td>\n",
       "      <td>1</td>\n",
       "    </tr>\n",
       "    <tr>\n",
       "      <th>15</th>\n",
       "      <td>2011</td>\n",
       "      <td>MALE</td>\n",
       "      <td>WHITE NON HISPANIC</td>\n",
       "      <td>MICHAEL</td>\n",
       "      <td>292</td>\n",
       "      <td>1</td>\n",
       "    </tr>\n",
       "    <tr>\n",
       "      <th>16</th>\n",
       "      <td>2011</td>\n",
       "      <td>FEMALE</td>\n",
       "      <td>ASIAN AND PACIFIC ISLANDER</td>\n",
       "      <td>SOPHIA</td>\n",
       "      <td>119</td>\n",
       "      <td>1</td>\n",
       "    </tr>\n",
       "    <tr>\n",
       "      <th>17</th>\n",
       "      <td>2011</td>\n",
       "      <td>FEMALE</td>\n",
       "      <td>BLACK NON HISPANIC</td>\n",
       "      <td>MADISON</td>\n",
       "      <td>176</td>\n",
       "      <td>1</td>\n",
       "    </tr>\n",
       "    <tr>\n",
       "      <th>18</th>\n",
       "      <td>2011</td>\n",
       "      <td>FEMALE</td>\n",
       "      <td>HISPANIC</td>\n",
       "      <td>ISABELLA</td>\n",
       "      <td>331</td>\n",
       "      <td>1</td>\n",
       "    </tr>\n",
       "    <tr>\n",
       "      <th>19</th>\n",
       "      <td>2011</td>\n",
       "      <td>FEMALE</td>\n",
       "      <td>WHITE NON HISPANIC</td>\n",
       "      <td>ESTHER</td>\n",
       "      <td>224</td>\n",
       "      <td>1</td>\n",
       "    </tr>\n",
       "  </tbody>\n",
       "</table>\n",
       "</div>"
      ],
      "text/plain": [
       "    Year of Birth  Gender                   Ethnicity Child's First Name  \\\n",
       "0            2011  FEMALE                    HISPANIC           ISABELLA   \n",
       "1            2011  FEMALE          WHITE NON HISPANIC             ESTHER   \n",
       "2            2011    MALE  ASIAN AND PACIFIC ISLANDER              ETHAN   \n",
       "3            2011    MALE          BLACK NON HISPANIC             JAYDEN   \n",
       "4            2011  FEMALE  ASIAN AND PACIFIC ISLANDER             SOPHIA   \n",
       "5            2011  FEMALE          BLACK NON HISPANIC            MADISON   \n",
       "6            2011    MALE                    HISPANIC             JAYDEN   \n",
       "7            2011    MALE          WHITE NON HISPANIC            MICHAEL   \n",
       "8            2011    MALE  ASIAN AND PACIFIC ISLANDER              ETHAN   \n",
       "9            2011    MALE          BLACK NON HISPANIC             JAYDEN   \n",
       "10           2011  FEMALE  ASIAN AND PACIFIC ISLANDER             SOPHIA   \n",
       "11           2011  FEMALE          BLACK NON HISPANIC            MADISON   \n",
       "12           2011  FEMALE                    HISPANIC           ISABELLA   \n",
       "13           2011  FEMALE          WHITE NON HISPANIC             ESTHER   \n",
       "14           2011    MALE                    HISPANIC             JAYDEN   \n",
       "15           2011    MALE          WHITE NON HISPANIC            MICHAEL   \n",
       "16           2011  FEMALE  ASIAN AND PACIFIC ISLANDER             SOPHIA   \n",
       "17           2011  FEMALE          BLACK NON HISPANIC            MADISON   \n",
       "18           2011  FEMALE                    HISPANIC           ISABELLA   \n",
       "19           2011  FEMALE          WHITE NON HISPANIC             ESTHER   \n",
       "\n",
       "    Count  Rank  \n",
       "0     331     1  \n",
       "1     224     1  \n",
       "2     177     1  \n",
       "3     184     1  \n",
       "4     119     1  \n",
       "5     176     1  \n",
       "6     426     1  \n",
       "7     292     1  \n",
       "8     177     1  \n",
       "9     184     1  \n",
       "10    119     1  \n",
       "11    176     1  \n",
       "12    331     1  \n",
       "13    224     1  \n",
       "14    426     1  \n",
       "15    292     1  \n",
       "16    119     1  \n",
       "17    176     1  \n",
       "18    331     1  \n",
       "19    224     1  "
      ]
     },
     "execution_count": 52,
     "metadata": {},
     "output_type": "execute_result"
    }
   ],
   "source": [
    "mini = baby_names[:20]\n",
    "mini #type is DataFrame\n"
   ]
  },
  {
   "cell_type": "code",
   "execution_count": 53,
   "metadata": {},
   "outputs": [
    {
     "name": "stdout",
     "output_type": "stream",
     "text": [
      "Year of Birth <class 'str'>\n",
      "Gender <class 'str'>\n",
      "Ethnicity <class 'str'>\n",
      "Child's First Name <class 'str'>\n",
      "Count <class 'str'>\n",
      "Rank <class 'str'>\n"
     ]
    }
   ],
   "source": [
    "#What happens with a for loop?\n",
    "for entry in mini:\n",
    "    print(entry, type(entry))"
   ]
  },
  {
   "cell_type": "code",
   "execution_count": null,
   "metadata": {
    "collapsed": true
   },
   "outputs": [],
   "source": []
  }
 ],
 "metadata": {
  "kernelspec": {
   "display_name": "Python 3",
   "language": "python",
   "name": "python3"
  },
  "language_info": {
   "codemirror_mode": {
    "name": "ipython",
    "version": 3
   },
   "file_extension": ".py",
   "mimetype": "text/x-python",
   "name": "python",
   "nbconvert_exporter": "python",
   "pygments_lexer": "ipython3",
   "version": "3.6.1"
  }
 },
 "nbformat": 4,
 "nbformat_minor": 2
}
