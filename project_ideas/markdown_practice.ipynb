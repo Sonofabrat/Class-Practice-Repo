{
 "cells": [
  {
   "cell_type": "markdown",
   "metadata": {},
   "source": [
    "Working title.\n",
    "A brief summary.\n",
    "The DATA portion. Example points you should address: What will your data look like? What sorts of data sourcing and cleaning up effort will be involved? Do you have a sense of the overall data size you should be aiming for? Do you have an existing data source in mind that you can start with, and if so, what are the URLs or references?\n",
    "The ANALYSIS portion. Example points you should address: What is your end goal? What linguistic analysis do you have in mind? Any hypothesis you will be testing? Are you planning to do any predictive analysis (machine learning, classification, etc.), and using what methods?\n",
    "The PRESENTATION portion. I don't expect a whole lot of variability on this, but describe anything noteworthy you have in mind."
   ]
  },
  {
   "cell_type": "markdown",
   "metadata": {},
   "source": [
    "### Working Title\n",
    "Gendered Name-calling in the 2016 US Election\n",
    "\n",
    "\n",
    "### Data\n",
    "1) https://github.com/brendanmmcmanus/trump_speeches\n",
    "\n",
    "Transcriptions of all of Hillary Clinton and Donald Trump's speeches from the beginning of the 2016 election to the end from Brendan McManus's GitHub. My dataset is a corpus of 130 transcriptions of speeches given by both candidates throughout the election as text files. These text files include some in-text annotations like the name of who was speaking as follows: [Speaker] and other annotations like [laughter]. I would have to decide how to/if I should remove this extra information. Additionally, I have found several other corpora that could be useful as well.\n",
    "\n",
    "2) https://mega.nz/#F!uIwHnK4I!z0gBGy1E93Gs7sg_uO26vw\n",
    "\n",
    "This is a collection of all of Hillary Cinton and Donald Trump's tweets from the end of the election period and onwards. The goal of the creator of this corpus was to use this data for author identification of tweets.) This might not end up being relevant. I haven't looked to in depth at this dataset yet, but I'm including it here so I dont' forget about it. \n",
    "\n",
    "3) http://www.presidency.ucsb.edu/debates.php\n",
    "\n",
    "The transcripts of all of the debates that occured during this election can be found at this site. They are provided by The American Presidency Project at UC Santa Barbara. The data from this site has been scraped here I could scrape the site myself and "
   ]
  },
  {
   "cell_type": "code",
   "execution_count": null,
   "metadata": {
    "collapsed": true
   },
   "outputs": [],
   "source": []
  }
 ],
 "metadata": {
  "kernelspec": {
   "display_name": "Python 3",
   "language": "python",
   "name": "python3"
  },
  "language_info": {
   "codemirror_mode": {
    "name": "ipython",
    "version": 3
   },
   "file_extension": ".py",
   "mimetype": "text/x-python",
   "name": "python",
   "nbconvert_exporter": "python",
   "pygments_lexer": "ipython3",
   "version": "3.6.1"
  }
 },
 "nbformat": 4,
 "nbformat_minor": 2
}
